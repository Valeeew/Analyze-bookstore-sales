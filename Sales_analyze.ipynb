{
  "nbformat": 4,
  "nbformat_minor": 0,
  "metadata": {
    "colab": {
      "name": "Sales_analyze.ipynb",
      "provenance": [],
<<<<<<< HEAD
      "authorship_tag": "ABX9TyNuMhleGEFNFwn17iJh/1Rz",
=======
      "authorship_tag": "ABX9TyNeDOKWd65rYMhFh47GPUPB",
>>>>>>> b1bb7d9103775de018a924da9458eb77c6ba71f8
      "include_colab_link": true
    },
    "kernelspec": {
      "name": "python3",
      "display_name": "Python 3"
    },
    "language_info": {
      "name": "python"
    }
  },
  "cells": [
    {
      "cell_type": "markdown",
      "metadata": {
        "id": "view-in-github",
        "colab_type": "text"
      },
      "source": [
        "<a href=\"https://colab.research.google.com/github/Valeeew/Analyze-bookstore-sales/blob/main/Sales_analyze.ipynb\" target=\"_parent\"><img src=\"https://colab.research.google.com/assets/colab-badge.svg\" alt=\"Open In Colab\"/></a>"
      ]
    },
    {
      "cell_type": "markdown",
      "source": [
        "---\n",
        "# __Analyze bookstore sales__\n",
        "---\n",
        "## Par __Valentin MONTEIRO__\n",
        "---\n",
        "## Sommaire\n",
        "> ### Import\n",
        ">> - Import des library\n",
        ">> - Import des DATA\n",
        "> ### Objectifs\n",
        ">> - Cahier des charge\n",
        "> ### Nettoyage des DATA\n",
        ">> - Nettoyege des DATA\n",
        ">> - Merge des DATA\n",
        "> ### Code"
      ],
      "metadata": {
        "id": "RBvINjJGATim"
      }
    },
    {
      "cell_type": "markdown",
      "source": [
        "# Point Important \n",
        "Parler du fais que j'ai supprimer les données test (prix négatif)"
      ],
      "metadata": {
        "id": "B6UWyzw_w6KB"
      }
    },
    {
      "cell_type": "markdown",
      "source": [
        "> ## Import"
      ],
      "metadata": {
        "id": "jbUdpL07DF-P"
      }
    },
    {
      "cell_type": "markdown",
      "source": [
        ">> ### Import des library"
      ],
      "metadata": {
        "id": "ZwGZ-3rTDcF6"
      }
    },
    {
      "cell_type": "code",
      "source": [
        "#!pip install --upgrade \"valeeew == 0.0.11\"\n",
        "!pip install valeeew"
      ],
      "metadata": {
        "colab": {
          "base_uri": "https://localhost:8080/"
        },
        "id": "xzCIJzNqc1fJ",
<<<<<<< HEAD
        "outputId": "5acd32a0-64a3-4c56-d1b5-a6a65030595b"
=======
        "outputId": "62c83b54-33c2-4ac3-cfb6-64fce45e10dd"
>>>>>>> b1bb7d9103775de018a924da9458eb77c6ba71f8
      },
      "execution_count": 1,
      "outputs": [
        {
          "output_type": "stream",
          "name": "stdout",
          "text": [
            "Collecting valeeew\n",
            "  Downloading valeeew-0.0.13-py3-none-any.whl (3.4 kB)\n",
            "Installing collected packages: valeeew\n",
            "Successfully installed valeeew-0.0.13\n"
          ]
        }
      ]
    },
    {
      "cell_type": "code",
      "source": [
        "import pandas as pd\n",
        "import numpy as np\n",
        "import matplotlib.pyplot as plt\n",
        "import seaborn as sns\n",
        "# Package perso\n",
        "from valeeew import cleaning as cl"
      ],
      "metadata": {
        "id": "SoJk6rjOC3yg"
      },
      "execution_count": 2,
      "outputs": []
    },
    {
      "cell_type": "markdown",
      "source": [
        ">> ### Import des DATA (from github)"
      ],
      "metadata": {
        "id": "i9p2NlPXDeM0"
      }
    },
    {
      "cell_type": "code",
      "source": [
        "# Clone the entire repo.\n",
        "!git clone -l -s git://github.com/Valeeew/Analyze-bookstore-sales cloned-repo\n",
        "%cd cloned-repo\n",
        "!ls"
      ],
      "metadata": {
        "colab": {
          "base_uri": "https://localhost:8080/"
        },
        "id": "RRmdSw7cC7sL",
<<<<<<< HEAD
        "outputId": "0a3106f3-23c8-426b-9a68-5eded6b0ab13"
=======
        "outputId": "4d9c436c-343c-4719-f9d4-a6fb14ced18f"
>>>>>>> b1bb7d9103775de018a924da9458eb77c6ba71f8
      },
      "execution_count": 3,
      "outputs": [
        {
          "output_type": "stream",
          "name": "stdout",
          "text": [
            "Cloning into 'cloned-repo'...\n",
            "warning: --local is ignored\n",
<<<<<<< HEAD
            "remote: Enumerating objects: 12, done.\u001b[K\n",
            "remote: Counting objects:   8% (1/12)\u001b[K\rremote: Counting objects:  16% (2/12)\u001b[K\rremote: Counting objects:  25% (3/12)\u001b[K\rremote: Counting objects:  33% (4/12)\u001b[K\rremote: Counting objects:  41% (5/12)\u001b[K\rremote: Counting objects:  50% (6/12)\u001b[K\rremote: Counting objects:  58% (7/12)\u001b[K\rremote: Counting objects:  66% (8/12)\u001b[K\rremote: Counting objects:  75% (9/12)\u001b[K\rremote: Counting objects:  83% (10/12)\u001b[K\rremote: Counting objects:  91% (11/12)\u001b[K\rremote: Counting objects: 100% (12/12)\u001b[K\rremote: Counting objects: 100% (12/12), done.\u001b[K\n",
            "remote: Compressing objects: 100% (12/12), done.\u001b[K\n",
            "remote: Total 12 (delta 4), reused 4 (delta 0), pack-reused 0\u001b[K\n",
            "Receiving objects: 100% (12/12), 12.73 MiB | 24.14 MiB/s, done.\n",
            "Resolving deltas: 100% (4/4), done.\n",
=======
            "remote: Enumerating objects: 18, done.\u001b[K\n",
            "remote: Counting objects: 100% (18/18), done.\u001b[K\n",
            "remote: Compressing objects: 100% (18/18), done.\u001b[K\n",
            "remote: Total 18 (delta 8), reused 4 (delta 0), pack-reused 0\u001b[K\n",
            "Receiving objects: 100% (18/18), 12.85 MiB | 17.97 MiB/s, done.\n",
            "Resolving deltas: 100% (8/8), done.\n",
>>>>>>> b1bb7d9103775de018a924da9458eb77c6ba71f8
            "/content/cloned-repo\n",
            "customers.csv  products.csv  Sales_analyze.ipynb  transactions.csv\n"
          ]
        }
      ]
    },
    {
      "cell_type": "code",
      "source": [
        "df_customers = pd.read_csv(\"customers.csv\")\n",
        "df_products = pd.read_csv(\"products.csv\")\n",
        "df_transactions = pd.read_csv(\"transactions.csv\")"
      ],
      "metadata": {
        "id": "sAEv__ybENZt"
      },
      "execution_count": 4,
      "outputs": []
    },
    {
      "cell_type": "markdown",
      "source": [
        "> ## Objectifs\n",
        ">> ### Cahier des Charges\n",
        "__Analyse des différents indicateurs de vente :__\n",
        "- Indicateurs et graphiques autour du chiffre d'affaires.\n",
        "- Évolution dans le temps et mise en place d'une\n",
        "décomposition en moyenne mobile pour évaluer la tendance globale\n",
        "- Zoom sur les références:\n",
        "  - tops et les flops\n",
        "  - la répartition par catégorie\n",
        "- Repérer des informations sur les profils des clients:\n",
        "  - la répartition du chiffre d'affaires entre eux, via par exemple une courbe de Lorenz.\n",
        "- Après, toutes les informations et tous graphiques qui apporteraient de l’information pertinente sont les bienvenus !\n",
        ">>\n",
        ">>__Analyse plus ciblée sur les clients : l’objectif est de comprendre le comportement des clients en ligne, Afin de comparer les résulats avec les librairies physiques.__\n",
        ">>\n",
        ">>Il faut obtenir:\n",
        ">>\n",
        ">>- le lien entre le genre d’un client et les catégories des livres achetés \n",
        ">>- lien entre l’âge des clients et :\n",
        ">>- le montant total des achats\n",
        ">>- la fréquence d’achat\n",
        ">>- la taille du panier moyen \n",
        ">>- catégories des livres achetés.\n"
      ],
      "metadata": {
        "id": "1mGbyD0AiqkD"
      }
    },
    {
      "cell_type": "markdown",
      "source": [
        "> ## Nettoyages des DATA"
      ],
      "metadata": {
        "id": "7-sEf-rJygnk"
      }
    },
    {
      "cell_type": "markdown",
      "source": [
        "Pour le nettoyage des DATA j'utilise une fonction que j'ai créé qui ressemble à ce qui suit: \n",
        "```\n",
        "def watch(data):\n",
        "  x = var_name(data)\n",
        "  s = \" \"\n",
        "\n",
        "  dupli = data.duplicated().sum()\n",
        "  nul = (data.isna().mean()).sum()\n",
        "  reslt = 0\n",
        "  if dupli + nul == 0:\n",
        "    a = \"No duplicate and no null DATA\"\n",
        "  elif dupli == 0 and nul != 0:\n",
        "    a = \"Null DATA and nothing duplicate\"\n",
        "  elif dupli != 0 and nul == 0:\n",
        "    a = \"Duplicate DATA and nothing null\"\n",
        "  else:\n",
        "    a = \"Duplicate and null DATA\"\n",
        "  \n",
        "  if a == \"Duplicate DATA and nothing null\" or \"Duplicate and null DATA\":\n",
        "    reslt = data[(data.duplicated())== True]\n",
        "  \n",
        "  print(x)\n",
        "  print(s)\n",
        "  print(a)\n",
        "  print(s)\n",
        "  print(data.isna().sum())\n",
        "  print(s)\n",
        "  print(reslt)\n",
        "  print(\"______________\")\n",
        "  print(s)\n",
        "  ```"
      ],
      "metadata": {
        "id": "0G71p6g79yHO"
      }
    },
    {
      "cell_type": "markdown",
      "source": [
        ">> ### Nettoyage DATA"
      ],
      "metadata": {
        "id": "S7oWupdMylAx"
      }
    },
    {
      "cell_type": "markdown",
      "source": [
        "#### __df_transactions__"
      ],
      "metadata": {
        "id": "9eEslr17YICv"
      }
    },
    {
      "cell_type": "code",
      "source": [
        "cl.watch(df_transactions)"
      ],
      "metadata": {
        "id": "pgYG8JgFExPt",
        "colab": {
          "base_uri": "https://localhost:8080/",
          "height": 953
        },
<<<<<<< HEAD
        "outputId": "15896125-6aad-4af0-ec71-d7c9962c027c"
=======
        "outputId": "3e670970-4fe7-47c5-e4bc-50f522ba1ae2"
>>>>>>> b1bb7d9103775de018a924da9458eb77c6ba71f8
      },
      "execution_count": 5,
      "outputs": [
        {
          "output_type": "stream",
          "name": "stdout",
          "text": [
            "Duplicate DATA and nothing null \n",
            "\n",
            "Total missing value \n",
            " \n",
            " id_prod       0\n",
            "date          0\n",
            "session_id    0\n",
            "client_id     0\n",
            "dtype: int64 \n",
            "\n",
            "Percentage of missing value \n",
            " \n",
            " id_prod       0.0\n",
            "date          0.0\n",
            "session_id    0.0\n",
            "client_id     0.0\n",
            "dtype: float64 \n",
            "\n",
            "       id_prod                             date session_id client_id\n",
            "27778      T_0  test_2021-03-01 02:30:02.237437        s_0      ct_1\n",
            "52424      T_0  test_2021-03-01 02:30:02.237419        s_0      ct_0\n",
            "96687      T_0  test_2021-03-01 02:30:02.237412        s_0      ct_1\n",
            "130188     T_0  test_2021-03-01 02:30:02.237419        s_0      ct_0\n",
            "139339     T_0  test_2021-03-01 02:30:02.237443        s_0      ct_1\n",
            "...        ...                              ...        ...       ...\n",
            "653098     T_0  test_2021-03-01 02:30:02.237432        s_0      ct_0\n",
            "657830     T_0  test_2021-03-01 02:30:02.237417        s_0      ct_0\n",
            "662081     T_0  test_2021-03-01 02:30:02.237427        s_0      ct_1\n",
            "671647     T_0  test_2021-03-01 02:30:02.237424        s_0      ct_1\n",
            "679180     T_0  test_2021-03-01 02:30:02.237425        s_0      ct_1\n",
            "\n",
            "[126 rows x 4 columns] \n",
            "\n"
          ]
        },
        {
          "output_type": "display_data",
          "data": {
            "image/png": "iVBORw0KGgoAAAANSUhEUgAAAYoAAAFrCAYAAADPZs43AAAABHNCSVQICAgIfAhkiAAAAAlwSFlzAAALEgAACxIB0t1+/AAAADh0RVh0U29mdHdhcmUAbWF0cGxvdGxpYiB2ZXJzaW9uMy4yLjIsIGh0dHA6Ly9tYXRwbG90bGliLm9yZy+WH4yJAAAgAElEQVR4nOzdebgdVZX+8e8LYZ5ngYDQQMQIJGgYVJBJBEENCCiIMgimEYNICwoOCE3TzaCAijLIqB1BDKNMgR8yOAAKIZCEAIZBSEARQTHMIev3x14nt3Jy77kn59S92N3v53ny5Jxdu+pU1aPZVO291lJEYGZm1peF3uoTMDOzf24eKMzMrCUPFGZm1pIHCjMza8kDhZmZteSBwszMWvofMVBI2lnSw5KmSzr6rT4fM7P/S/TPHkchaWHgEWBHYAbwe2CfiHjwLT0xM7P/I/4nPFFsDkyPiMci4nXgUmD0W3xOZmb/Z/xPGCjWBJ6qfJ+RbWZmNgj+JwwUZmb2FhryVp9AG2YCa1W+D822uSSNAcYAnHPOOe85dOzxg3d2/8vNfn0mQxb1A1wdfC/r5ftZr9mvz1Rf2/4nTGYPoUxm70AZIH4PfCoipvaxS/h/PPXx/xnr43tZL9/PerUaKP7pnygiYrakscAEYGHgghaDhJmZ1eyffqAAiIjrgevf6vMwM/u/yJPZZmbWUscDhaS1JN0q6UFJUyUdnu175fc5kkZV+u8o6V5Jk/Pv7SvbbpR0f+53dgbZNbYdJumh3HZKp+drZmad6ebV02zgyxExUdIywL2SbgamAB8Hzmnq/xzw0Yh4WtJGlDmHxkzUJyLiRUkCxgN7AZdK2o4SXDciIl6TtGoX52tmZh3oeKCIiGeAZ/LzPyRNA9aMiJsByr/58/S/r/J1KrCEpMUi4rWIeLFyPosCjaVYnwdOiojX8hjPdnq+ZmbWmVrmKCStA2wK3N3mLnsAExsDQB5jAvAs8A/KUwXAMGBrSXdLul3SZnWcr5mZta/rgULS0sDlwJcqTwat+r8LOBn412p7ROwErA4sBjTmL4YAKwJbAkcBl6n5UcXMzAZUVwOFpEUog8S4iLiijf5DgSuB/SLi0ebtEfEqcDU9Sf9mAFdE8TtgDrByL8cdI+keSfece+65nV+QmZnNp5tVTwLOB6ZFxGlt9F8euA44OiJ+U2lfWtLq+XkIsCvwUG6+Ctgutw2jzF8813zsiDg3IkZFxKgxY8Z0eklmZtaLblY9vR/4DDBZ0qRs+xrl1dH3gVWA6yRNytdKY4H1gWMlHZv9PwQIuEbSYpSB61bg7Nx+AXCBpCnA68D+8c+ec8TM7H+Zf/pcTx1wrqcaOZ9OfXwv6+X7Wa9WuZ4cmW1mZi15oDAzs5bqWB67sKT7JF2b38dJeljSFEkX5Mqoav/NJM2WtGd+307SpMqfVyXt1s6xzMxs4NXxRHE4MK3yfRywIbAxsARwcGND5nA6Gbip0RYRt0bEyIgYSYmfeLmyvc9jmZnZ4Og2jmIoZTnreY22iLg+4x4C+B2lIl3DYZS4i75ScewJ3BARL7dxLDMzGwTdPlGcAXyFEgg3j3xN9Bngxvy+JrA7cFaL4+0NXNLfsczMbPB0E3D3EeDZiLi3jy4/BO6IiF/l9zOAr0bEfINKHm91yiumCW0cq3lfR2abmQ2QjuMoJP0X5b/yZwOLA8tS0m18WtK3KEkCP94YGCQ9Tgmug5KG42VgTERcldsPB94VEWOafme+Y/XDcRQ18lr1+vhe1sv3s14DUjM7Io4BjgGQtC1wZA4SBwM7ATtU/2GPiHUbnyVdBFzbGCTSPo3jVfr1eiwzMxs8AxFHcTawGnBnLnc9tr8dMk35WsDt3R7LzMzq5RQe1pIf7+vje1kv3896OYWHmZl1rI7I7OUljZf0kKRpkt4r6QRJD+TropskrZF9j6pEYE+R9KakFXPbzhmFPV3S0ZXj7yBpYu7za0nrd3vOZmbWvq5fPUm6GPhVRJwnaVFgSWBOo9qdpC8CwyPikKb9PgocERHbZ8T2I8COlGJFvwf2iYgHJT0CjI6IaZIOBTaPiANanJJfPdXIj/f18b2sl+9nvQbs1ZOk5YAPUAoYERGvR8TfmkqiLgX0NhrtQ09w3ebA9Ih4LCJeBy6lp8pdUJbeAiwHPN3NOZuZ2YLppnARwLrAX4ALJY0A7gUOj4iXJJ0I7Af8naxS1yBpSWBnSjEjgDWBpypdZgBb5OeDgeslvQK8SKmfbWZmg6TbOYohwLuBsyJiU+Al4GiAiPh6RKxFSew3tmm/jwK/iYjn2/iNI4BdImIocCEwX9lVR2abmQ2cbgeKGcCMiLg7v4+nDBxV44A9mtqaczrNpMRRNAwFZkpaBRhROf7PgPc1n4RrZpuZDZyuBoqI+BPwlKR3ZNMOwIOSNqh0Gw081PiS8xrbAFdX+vwe2EDSujkhvjdwDfACsJykYdlvR+ZNaW5mZgOs2zkKKKnDx+U/8I8BBwLn5eAxB/gjUF3xtDtwU0S81GiIiNmSxlISAi4MXBARUwEkfQ64XNIcysDx2RrO2czM2uTIbGvJSxDr43tZL9/Pejky28zMOlZHZPYRkqZmpPUlkhavbPuepFmV72+XdEtGbd+WFfKqx1pW0gxJZ/byO9dImtLt+ZqZ2YLpNuBuTeCLwKiI2Igyv7B3bhsFrNC0y7eBH0fEJsC/A//VtP0E4I5efufjwKzmdjMzG3h1vHoaAiwhaQglfcfTmZLjVEqZ1KrhwC/z8630RF8j6T2UlOI3VXeQtDTwb8B/1HCuZma2gLpdHjuT8pTwJPAM8PeIuIkSYHdNRDzTtMv9wMfz8+7AMpJWkrQQ8B3gyF5+5oTc9nI352pmZp3p9tXTCpSngnWBNYClJO0H7AV8v5ddjgS2kXQfJZZiJvAmcChwfUTMaDr+SGC9iLiym/M0M7POdRtH8UHg8Yj4C4CkK4DjgSWA6ZIAlpQ0PSLWj4inySeKfKW0R0T8TdJ7ga0zO+zSwKI5Cf5HYJSkJ/JcV5V0W0RsWz0JSWOAMQDnnHNOl5dkZmZVXcVRSNoCuADYDHgFuAi4JyK+X+kzKyKWzs8rA89HxJxMGvhmRBzbdMwDKJPjY5va16HU2d6on9NyHEWNvFa9Pr6X9fL9rNeAxVFkDqbxwERgch6vVVa+bYGHs8bEasCJ3fy+mZkNPEdmW0v+r7b6+F7Wy/ezXo7MNjOzjrU1UEi6QNKz1choSStKulnSH/LvFSrbts0a11Ml3d7qONk+UtJduc89kjbPdmV09/SM5m5OYW5mZgOs3SeKiygV6aqOBm6JiA2AW/I7kpYHfgh8LCLeRVkq2+o4AKcAx0fESODY/A7wYWCD/DMGOKvN8zUzs5q0NVBExB1AczW60cDF+fliYLf8/Cngioh4Mvd9tp/jQN91sUdTUn5ERNwFLC9p9XbO2czM6tFNHMVqlcjrP1FWMQEMAxaRdBuwDPDdiPhxP8f6EjBB0rcpg1ejil1vtbTXpESBm5nZIKhlMjvK0qnG8qkhwHuAXYGdgG9WKtT15fPAEVlj+wjg/DrOy8zMutfNQPHnxmug/LvximkGMCEiXoqI5yjZYEf0c6z9gSvy88+BzfNzr7W0m3eWNCYnwe8599xWYRxmZraguhkorqH8A0/+3aiBfTWwlaQhkpYEtqD/OtdPU3I/AWwP/KHyG/vl6qctKUkH53vtFBHnRsSoiBg1ZsyYzq/IzMzm09YchaRLKFHVK0uaAXwLOAm4TNJBlJxMnwCIiGmSbgQeoNTMPi8ipvR1nIg4H/gc8N1MVf4qmbcJuB7YBZhOyR57YLcXbGZmC8aR2daSo1/r43tZL9/Pejky28zMOtbvQNFHVPapkh7KaOkrM8gOSftmdHXjz5ysKVE93jVNx9orI7jnZPnUat9NJN2Z2ydX63GbmdngaOeJ4iLmj6a+Gdgoa18/AhwDEBHjImJkRlh/hlKrYlJjpz5qX0+h1KiYp1Z2zlf8N3BIRnhvC7zR3mWZmVld+h0oeoumjoibImJ2fr2Lsmy12T7ApY0vfdW+johpEfFwL/t/CHggIu7Pfn+NiDf7O18zM6tXHXMUnwVu6KX9k8Alle8LWvt6GBCSJkiaKOkr3Z2mmZl1otua2V8HZgPjmtq3AF6uLIvtpPb1EGArYN/8e3dJO3RzvmZmtuA6HiiyZOlHgH1j/jW2ezPv08R76al9/WtgWOaCamUGcEdEPBcRL1NiKnpNM+7IbDOzgdPRQCFpZ+ArlFTiLzdtW4gSfDd3fiIizoqINSJiHcrTwSMRsW0/PzMB2FjSkjmxvQ3wYG8dHZltZjZw2lkeewlwJ/AOSTMyEvtMSmbYm3MZ7NmVXT4APBURj7VzApJ2zyjt9wLXSZoAEBEvAKcBvwcmARMj4roFuDYzM6uBI7OtJUe/1sf3sl6+n/VyZLaZmXXMA4WZmbXUUQqPyrYvSwpJK+f35ST9QtL9mXbjwErftSXdJGmapAclrZPtF0l6vJL2Y2S275spQiZL+q2k/mpamJnZAOg0hQeS1qJETz9Zaf4C8GBEjKCk3PiOpEVz24+BUyPinZTCRM9W9juqkfqjkvLjcWCbiNiYEqznda9mZm+BjlJ4pNMpS2Srs+EBLCNJwNK532xJw4EhEXFzHnNW87LaXn73t7nyCfpOE2JmZgOs0ziK0cDMRh6mijOBd1Iq1k0GDo+IOZR0HH+TdIWk+zL77MKV/U7M10ynS1qsl588iN7ThJiZ2QBb4IEiy5t+DTi2l807UWIe1gBGAmdKWpaSjmNr4EhgM+BfgANyn2OADbN9ReCrTb+3HWWgmKe9qY8js83MBkgnTxTrAesC92dKjqHARElvo5QqvSKK6ZR5hg0p6TgmRcRjmXX2KjIdR0Q8k/1fAy6kzF8ApR4FcB4wOiL+2tcJOTLbzGzgLPBAERGTI2LViFgnU3LMAN4dEX+iTGzvACBpNeAdwGOU6OrlJa2Sh9meTMchafX8W8BulPoUSFobuAL4TEQ80vEVmplZV4b01yFTeGwLrJypNr4VEef30f0E4CJJkwEBX42I5/I4RwK35IBwL/Cj3GdcDiCivLY6JNuPBVYCflh2YXZEzFMBz8zMBp5TeFhLTpNQH9/Levl+1sspPMzMrGNtDRR9RWdLOkzSQxmFfUq2LSrpwoyovl/StpX++2T7A5JurER0j5R0V0Zm3yNp82zvM9LbzMwGR7tPFBfRFJ2dy1ZHAyMi4l3At3PT5wAyonpHSnT2QllT4rvAdhGxCfAAMDb3OQU4PiJGUuYmTsn2VpHeZmY2CNoaKPqIzv48cFIuayUiGik5hgO/rLT9DRhFmawWsFROaC9LCcyDEtG9bH5erql9vkjvBbg+MzPrUjdzFMOArSXdLel2SZtl+/3AxyQNkbQu8B5grYh4gzK4TKYMBMOBxuqpLwGnSnqK8mRyTLb3FeltZmaDpJuBYgglknpL4Cjgsvwv/wsosRX3AGcAvwXelLQIZaDYlBK5/QA9A8LngSMiYi3gCHoGkL4ivefhyGwzs4HTzUAxg54o7N8Bc4CVI2J2RByRmWBHA8sDj1D+oSciHo2yJvcy4H15rP0pwXUAP6cnOruvSO95ODLbzGzgdDNQXAVsByBpGLAo8JykJSUtle07UgLlHgRmAsMr0dk7AtPy89PANvl5e+AP+bmvSG8zMxsk/UZmQ+/R2ZRXTBfkktnXgf0jIiStCkyQNIcyOHwGICKelnQ8cIekN4A/0pMY8HPAd3Nl1KtA47Ggz0hvMzMbHI7MtpYc/Vof38t6+X7Wy5HZZmbWsY5qZksaIenOjLL+RWMlkqSVJN0qaZakM5uOc6KkpyTNamr/t6yh/YCkWyS9vWn7spJmNB/PzMwGR6c1s88Djs7o6yspy2OhzC98k1KgqNkvqNSaqLgPGJXR2uPpicpuOAG4o43zNDOzAdBpzexh9PzjfTOwR/Z9KSJ+TRkwmo9zV0Q800v7rZX62fPUxpb0HmA14Kb+L8XMzAZCp3MUUyl5ngD2Ataq53R6amNLWgj4Dr0/nZiZ2SDpdKD4LHCopHuBZSjLY7si6dOUnFCnZtOhwPURMaONfR2ZbWY2QNqKo2gWEQ8BH4K5wXa7dnMSkj4IfB3YppFkEHgvJZfUoZSEgItKmhURR/dyPucCjREiDh17fDenY2ZmFR0NFJJWjYhn8/XQN4CzOz0BSZsC5wA7VzLQEhH7VvocQJnwnm+QMDOzgdXO8thLgDuBd+Qy1YOAfSQ9AjxESb9xYaX/E8BpwAHZf3i2n5JR3Utm+3G5y6mUJ4afZ+Gia+q7PDMz65Yjs60lR7/Wx/eyXr6f9XJktpmZdaydV09rZbT1g1m3+vBs3yu/z5E0qtJ/R0n3ZtT2vZK2r2y7sVL/+mxJC1e2zVd/O9uPkTRd0sOSdqrv0s3MrB3tTGbPBr4cERMlLQPcK+lmYArwccpEdNVzwEczW+xGwASg8Xz4iYh4MQscjafEYFzaVH/7tcxAS85v7A28i1K86P9JGhYRb3Zz0WZm1r52IrOfiYiJ+fkflBoSa0bEtIh4uJf+90VEo+b1VGAJSYvlthezfQilfkVjgqSv+tujgUsj4rWIeByYTu9pQMzMbIAs0ByFpHUopUzvbnOXPYCJldgIJE0AngX+QXmqgL7rb68JPFU53gx6nk7MzGwQtD1QSFoauBz4UuXJoFX/dwEnA/9abY+InYDVgcUo1eyg7/rbZmb2FmtroJC0CGWQGBcRV7TRfyglq+x+EfFo8/aIeBW4mp58Ub3W36ZUyKvmkRqabc2/5xQeZmYDpJ1VTwLOB6ZFxGlt9F8euI6Shvw3lfalJa2en4dQ0n48lJt7rb8NXAPsLWkxSesCGwC/a/7NiDg3IkZFxKgxY8Y0bzYzsy60s+rp/ZS615MlTcq2r1FeHX0fWAW4TtKkfK00FlgfOFbSsdn/Q5Sa19fkxPZCwK30pP7otf42MFXSZcCDlNVXX/CKJzOzweXIbGvJ0a/18b2sl+9nvRyZbWZmHesmMvuErHM9SdJNktbI9tGV9nskbVU51pvZPk/yP0nbS5ooaYqki3MOo7Ft2+w/VdLt9V6+mZn1p99XTzkBvXo1MhvYDZjRWCYr6YvA8Ig4JJfRvhQRIWkT4LKI2DD7zYqIpZuOvxDwR2CHiHhE0r8Df4yI83Ni/LeUFORPNtKb93NNfvVUIz/e18f3sl6+n/Xq6tVTi8jsaizFUmSUdUTMip7RZ257CysBr0fEI/l9bg1u4FOUZbNP5rH7GyTMzKxmXUVmSzpR0lPAvsCxlX67S3qIskz2s5VDLJ6vo+6StFu2PQcMqSQW3JOe2IlhwAqSbssEg/st0NWZmVnXuorMjoivR8RawDjKsliy/cp83bQbcELlMG+PiFGUJ4UzJK2XTx97A6dL+h0ltUdjCewQ4D2UmIudgG9mnIWZmQ2SuiKzx9HzumiuiLgD+BdJK+f3mfn3Y8BtlKcTIuLOiNg6IjYH7gAar6FmABMi4qWIeC63jejl/ByZbWY2QDqOzJa0QaXbaDLKWtL6jTxNkt5NCcz7q6QVGllkc+B4PyWQjkpa8cWAr9ITiHc1sJWkIZKWBLagzJHMw5HZZmYDp5vI7IMkvYOSl+mPwCG5bQ9gP0lvAK8An8wVUO8EzpE0hzJAnRQRD+Y+R0n6SLafFRG/BIiIaZJuBB7I3zkvIqZ0ec1mZrYAHJltLXkJYn18L+vl+1kvR2abmVnHPFCYmVlL3aTwOE7SzEpKjl2a9ltb0ixJR1bajshjTJF0iaTFs/18Sfdn6o/xuRQXSf+Wv/uApFskvb3eyzczs/6080QxG/hyRAynVKD7gqThue30iBiZf65v2u804IbGF0lrAl8ERkXERsDClPgJgCMiYkREbAI8SU9Mxn3ZfxNK2dRTFvwSzcysG/2ueoqIZ4Bn8vM/JE2jn7rVGXX9OPBSL7+3RK6IWhJ4Oo/byBklYAl60oHcWtn3LuDT/V+SmZnVqasUHsDYfC10gaQVss/SlFiI46v7ZrDdtylPDM8Af4+ImyrHvhD4E7AhpSBSs4OoPKGYmdng6CaFx1nAesBIyj/838mux1FeSc1q2n8FSmDeusAawFKS5j4hRMSB2T4N+GTTvp8GRgGn9nFujsw2MxsgbcVRZAqPaynpNOarm51PGtdGxEaSfkVPUr/lKYFyxwJ/pqQLPyj32Q/YMiIObTrWB4CvRMRH8vsHKU8Y27SZPdZxFDXyWvX6+F7Wy/ezXq3iKPqdo2iRwmP1nL8A2B2YAhARW1f6HAfMiogzJW0BbJmpOF4BdgDuyeOvFxHT8/PH6EkHsilwDmWAcYpxM7O3QDcpPPaRNJIy8fwE8K+tDhIRd0saD0ykrKS6DzgXEHCxpGXz8/3A53O3U4GlgZ9n+qgnI+JjbV+dmZl1zSk8rCU/3tfH97Jevp/1cgoPMzPrWDeR2T+rRGU/UXkthaRNJN2Z/SdXIrDfk9+nS/peIx15bjtM0kO5zynZtoiki3OfaZKOqf8WmJlZK+3MUTQisydKWga4V9LNETF3Cauk7wB/z89DgP8GPhMR90taCXgju54FfI4Sh3E9sDNwg6TtKEtnR0TEa436FMBewGIRsXFOgj8o6ZKIeKLL6zYzszb1+0QREc9ExMT8/A9KnMPcF4P5VPAJ4JJs+hDwQETcn/v8NSLelLQ6sGxE3JXlT39MKZUKZfL6pIh4LfdprHAKSrzFEErE9uvAi91csJmZLZhuI7MBtgb+HBF/yO/DgJA0QdJESV/J9jUppU0bZtAz4AwDtpZ0t6TbJW2W7eMpaUCeoUR0fzsinl+QczYzs+608+oJ6DUyu2Efep4mGsfcCtgMeBm4RdK95KupFuexIiXp4GbAZZL+BdgceJMSsb0C8CtJ/y9rblfPbQwwBuCcc85p95LMzKwNbT1RZGT25cC4iLii0j4E+Djws0r3GcAdEfFcRLxMmYt4NzATGFrpNzTbGvtcEcXvKNHcKwOfAm6MiDfyddRvKKk85uGa2WZmA6edVU+9RmanDwIPRUT1ldIEYGNJS+ZAsg3wYEZxvyhpyzzmfsDVuc9VwHb5e8OARYHnKK+bts/2pShPHA91dKVmZtaRdp4oGpHZ22v+IkV7M+9rJyLiBUotit8Dk4CJEXFdbj4UOA+YDjxKTzbYC4B/kTQFuBTYPye8fwAsLWlqHu/CiHigs0s1M7NOODLbWnL0a318L+vl+1kvR2abmVnHuonMHpHR15Ml/SKT+iFp38orqkmS5mTyQCTdqFIbe6qksyUtnO0rSrpZ0h/y7xWazmEzSbMl7Vn/LTAzs1a6qZl9HnB0RGwMXAkcBRAR4xp1tClzG49HRCO9xyciYgSwEbAKJfIa4GjglojYALglvwOQg8nJwNxqeGZmNni6icweBtyR3W4G9uhl930ok9ONYzXiL4ZQVjY1JkhGAxfn54vpidgGOIyyNNf1KMzM3gLdRGZPpfwDD+XJYK1edvkkTauiJE2g/KP/D0rkNcBqlSJIfwJWy75rUooinbUg52lmZvXppmb2Z4FDM+p6GUoepmr/LYCXI2JKtT0idgJWBxYjYySatgc9TxpnAF+NiDn9nJtrZpuZDZC6amYPA/47IjavtJ0O/CUi/rOPY+4HbB4RYyU9DGwbEc9k8sDbIuIdkh6nVL2DEqn9MjAmIq5qcbpeHlsjL0Gsj+9lvXw/69XV8ti+IrMbqcAlLQR8Azi7sm0hSkbZSyttS+cg0Ej9sSs9UdbXAPvn5/3JiO2IWDci1omIdSivqQ7tZ5AwM7OadVMzewNJX8jvVwAXVvb5APBUU/K+pYBrJC1GGaBupWdwOYmSCPAg4I+UQcbMzP4JODLbWvLjfX18L+vl+1kvR2abmVnH2pmjWFzS7yoR1cdn+9isfR2SVq70Xy4jtRv9D6xse7MSsX1NL7/1PUmzKt8XU6nNPT2LGq3T7QWbmdmCaWeO4jVg+4iYlauffi3pBkptiGuB25r6f4GSVvyjklYBHpY0LiJeB17JiO35SBpFKU5UdRDwQkSsL2lvSoT2J+fb2czMBkw7kdkREY3/yl8k/0RE3BcRT/S2C7BMrpZaGniekgakT5mm41TgK02bqhHb44Ed8rhmZjZI2q1wt3CueHoWuDki7m7R/UzgncDTwGTg8ErA3OIZGHeXpGqajrHANZXo7IY1gacAImI2pZzqSu2cs5mZ1aOtmtkR8SYwUtLywJWSNmqOuK7YiVKwaHtgPeBmSb/KaO63R8TMrIf9S0mTgVcoKUC27fJazMxsACzQqqeI+Bsl/mHnFt0OpKf+9XTgcWDD3H9m/v0YZW5j0/yzPjBd0hPAkpKm57FmkjmkMkhvOeCvzT/oFB5mZgOnnVVPq+STBJKWAHakdd3qJ4Edsv9qwDuAxyStkMF25Cqp91Mmva+LiLdVIrBfjoj181jViO09gV9GL4EfEXFuRIyKiFFjxozp/6rNzKxt7bx6Wh24OCecFwIui4hrJX2RMvn8NuABSddHxMHACcBF+VpJlKR+z0l6H3COpDl5nJMi4sF+fvt84Cf5hPE8pUa3mZkNIkdmW0uOfq2P72W9fD/r5chsMzPrWDeR2edn2wOSxme9CiS9XdIt2X6bpKHZvp3mraX9amOJrKRfVdqflnRV5fe3zfapkm4fmNtgZmZ96ffVUwa4LVWNzAYOp0xEv5h9TgOejYiTJP0cuDYiLpa0PXBgRHym6ZgrAtOBoRHxctO2y4GrI+LHOYn+W2DniHhS0qoR0V9JVL96qpEf7+vje1kv3896dfXqqUVkdmOQELAEPVXphgO/zM+30lMutWpP4IZeBollKfEXjSeKT1GW2j6Z5+K62WZmg6yryGxJF1JqXG8IfD+73w98PD/vTknn0RxNvTdNtbTTbsAtjUEIGAaskK+w7lWpimdmZoOorYEiIt7MZH5Dgc0lbZTtBwJrANPoSdZ3JLCNpPuAbShBc282jpVV7jYGJvTyU/sw7wAyBHgPpRreTsA3VcqumpnZIOk6MjvTe1wK7JHfn46Ij0fEpsDXK/s1fAK4MiLeqB47g/A2B66rNM+g1Ol+KeTtChcAACAASURBVCKeA+4ARjSflyOzzcwGTqeR2Q9LWj/bBHyMjNaWtLJKzWyAY4ALmg7Z/NTQsCdlEvzVStvVwFaShkhaEtiC8vQyD0dmm5kNnI4isyn/1f+rnHwWZV7i89l/W+C/JAXlCaBRV5ssPLQW0Nsy170ptbPniohpkm4EHgDmAOe1SEZoZmYDwJHZ1pKXINbH97Jevp/1cmS2mZl1rJvIbEk6UdIjkqZlkkAkbSjpTkmvSTqy6Vg7S3pYpQb20ZX2vupv75sR3pMl/VbSfBPZZmY2sLqpmf1OynzDhhExR9Kq2f954IuUmIi5co7jB5TJ8BnA7yVdkxlk+6q//TiwTUS8IOnDwLmUCW0zMxsk/Q4UWf9hvshsyuT1pxplThtR0/n3s5J2bTrU5sD0LFqEpEspUdsPRsR92db827+tfL2LEsdhZmaDqJvI7PWAT2b8wg2SNujnMHPrX6cZ2daug4AbFqC/mZnVoJvI7MWAVyNiFPAj5o+XqI2k7SgDxVcH6jfMzKx33URmzwCuyE1XApv0s/vc+tdpaLa1JGkT4DxgdETMVy87+zgy28xsgHRTM/sqYLvstg3wSD+H+j2wgaR1JS1KCbC7pp/fXpsyGH0mIvo8viOzzcwGTjc1s38NjJN0BGWy+2AASW8D7gGWBeZI+hIwPCJelDSWkgxwYeCCiJia+/RVf/tYYCXghznRPTtfdZmZ2SBxZLa15OjX+vhe1sv3s16OzDYzs455oDAzs5a6SeGxg6SJkiZJ+nUl7fi/SXowU2/cIunt2T4yU3tMzW2f7OW3vidpVuX72pJulXRf7rNLfZduZmbtaOeJopHCYwQwEthZ0pbAWcC+GV/xU+Ab2f8+YFREbAKMB07J9peB/SLiXZTltWc0VlMBSBoFrND029+gTJ5vSlkl9cMOrtHMzLrQ70ARRW8pPIKysglgOeDp7H9rRLyc7XPTbkTEIxHxh/z8NCXKexWYmwfqVMrKp3l+vrffMDOzwdPO8tjGP+T3AusDP4iIuyUdDFwv6RXgRWDLXnbtNe2GpM2BRYFHs2kscE1EPNOU7+k44CZJhwFLAR9s53zNzKw+3aTwOALYJSKGAhcCp1X3kfRpYBTlSaHavjrwE+DAzDq7BrAX8P1efnof4KL8jV2An1TKrFaP6chsM7MBssBxFJKOBV4BDomI9bJtbeDGiBie3z9I+Yd/m0ZW2WxflpJK/D8jYny27QqcDzRqZa8NPBYR60uaCuwcEU9l38eALavH7IXjKGrkter18b2sl+9nvbqKo+gjhcc0YDlJw7Jbow1JmwLnAB9rGiQWpeSE+nFjkACIiOsi4m0RsU5ErAO8HBHr5+YngR1y/3cCiwN/aeuqzcysFt2k8PgccLmkOcALwGez/6nA0sDPc77hyYj4GPAJ4APASpIOyL4HRMSkFr/9ZeBHmSYksv//ulByM7N/Zk7hYS358b4+vpf18v2sl1N4mJlZx9oeKLLK3X2Srs3v60q6W9J0ST/LOQgkHSJpciVie3jTcdaWNEvSkZW2IzJie4qkSyQt3rTPPBHbZmY2eBbkieJwcsI6nQycnhPPL1BiJgB+GhEb53LaU2haNpvf58ZWSFoT+CIlmnsjSgryvSvbe4vYNjOzQdJuzeyhwK6USnOozFJvT0nRAXAxsBtARLxY2XUpyiR04zi7AY8DU5t+YgiwhKQhwJJkBHaLiG0zMxsk7T5RnEH5x3pOfl8J+FtEzM7vM4C5s0qSviDpUcoTxRezbWlKzevjqweOiJnAtylLYZ8B/h4RN+XmuRHbC3hdZmZWk3biKD4CPBsR97Z70Ij4QQbjfZWeZIHHUV5VzTPXIGkFYDSwLrAGsJSkT/cTsd18jo7MNjMbIO3EUbwf+Fim+F6ckqTvu8DykobkU8VQYGYv+15KyTILsAWwp6RTgOUpZVJfBf4MPB4RfwGQdAXwPsq8x/rA9IzHWFLS9Eow3lwRcS7QGCHi0LHHN3cxM7MOtZM99piIGJpR03sDv4yIfYFbgT2z2/7A1QCSNqjsvivQyBi7dSX6+gxKGo8zKa+ctpS0ZM597ABM6ydi28zMBklb2WP78FXgUkn/QalBcX62j81cT29Qngr2b3WQzEQ7HpgIzM5j+f2Rmdk/CUdmW0uOfq2P72W9fD/r5chsMzPrWDeR2eMkPZzR1BdIWqSp/2aSZkvaM79vl9HajT+vZlxFn8dS8b2M/n5A0rvru3QzM2tHN5HZ44ANgY2BJYCDGxsyUO5koBEP0SiROjIjtren1NC+qZ9jfRjYIP+MoWcFlZmZDZKOIrMBIuL6rKcdwO/I2tjpMOBySl3s3uwJ3NCord3iWKMp9SsiIu6iLMldvf3LMzOzbnUamT1Xvib6DHBjfl8T2J3W//W/N3BJf8eiRHs/VekyTwS4mZkNvDois38I3BERv8rvZwBfjYj5BpU83uqUV0wT2jiWmZm9xTqKzJb03xHxaUnfAlYB/rXSfxQlvgJgZWAXSbMj4qrc/gngyoh4o/ojfRxrJrBW5XuvEeCSxlDmMDjnnHPauCQzM2vXAsVRSNoWODIiPiLpYEr50x0i4pU++l8EXFutkS3pLuCYiLi10tbrsSTtSkkMuAslBcj3ImLzfk7TcRQ18lr1+vhe1sv3s14DFUdxNrAacGcudz22vx0krUN5Qri9zWNdDzwGTAd+BBzaxfmamVkHHJltLfm/2urje1kv3896OTLbzMw61nFkdqV9nnrWkg6Q9JdKBHY1EO/kjL6eIumTlfaLJD1e2WdkZdu22TZVUvMrKzMzG2ALkj22EZm9bKOhRT3rn0XE2GpDTky/GxgJLAbcJumGSunUo6qT3rnP8pQlsztHxJOSVl2A8zUzsxp0HJndQT3r4ZQYidkR8RLwALBzP/t8CrgiIp4EiIi+Ir3NzGyAdBOZ3aqe9R6ZxG+8pEYcxP3AzlmgaGVgO+aNkTgx9zld0mLZNgxYQdJtku6VtF/bV2ZmZrXoKDK7n3rWvwDWiYhNgJuBiwEi4ibKctffUtJ33Am8mfscQ0kKuBmwIqUoEpRXY++hPM3sBHxT0rAFu0QzM+tGO08UjcjsJyg1sLcHptJTz/oJsp41QET8NSJey33Po/xDT247MTPI7ggIeCTbn8nEf68BFwKNoLoZwISIeCkingPuAEY0n6CkMZLukXTPuee6OJ6ZWZ06rZm9Ql/1rJuyu36MTE2eq6ZWys+bAJuQacYb+2TN7N2AKbn/1cBWkoZIWpISnV1Ndd44x3MjYlREjBozZswC3wQzM+tbNzWz+/JFSR+j1L9+Hjgg2xcBfpU5oF4EPh0Rs3PbOEmrUJ4yJgGHAETENEk3Uia+5wDnRURjEDEzs0HgyGxrydGv9fG9rJfvZ70cmW1mZh3rpma2JJ0o6RFJ0yR9MduPqkRYT5H0pqQVc9sFkp6VNKXp2CMk3SlpsqRfSFo223fMZbGT8+/t67t0MzNrRzc1sw+gxEFsGBHvpKyIIiJOrdTGPga4PSKez30uovcgu/OAoyNiY+BK4Khsfw74aLbvD/xkAc7XzMxq0HFkNvB54N8blez6iJreh0rJ04i4gzLB3WwYZekrlNiLPbL/fRHxdLZPBZaoBOOZmdkg6CYyez3gkxm/cIOkDao75HLWnYHL2zj+VGB0ft6LeSO2G/YAJlZiNMzMbBB0UzN7MeDViBhFKSp0QdP2jwK/qbx2auWzwKGS7gWWAV5vOod3ASczb5lUMzMbBB3XzKZETV+Rfa6kRFRX7U3ltVMrEfEQ8CGATNGxa2Nbvva6EtgvIh7tbX/XzDYzGzidRmZ/GriKktgPYBsyHQeApOWy7ep2TqKRPlzSQsA3KKVRG2nGr6NMdP+mxTk6MtvMbIB0E0dxEiVL7GTgv4CDK9t2B27KdOJzSWokA3yHpBmSDspN+0h6BHgIeJqep5OxlJxSx1aW3LomhZnZIHJktrXk6Nf6+F7Wy/ezXo7MNjOzjnmgMDOzlrpJ4bGDpIk5b/BrSY0042tLujX7PpCrparHWVvSLElH5ve1sv+DkqZKOrzSd6Sku/I37pG0OWZmNqi6SeFxFrBvpur4KWW1Evn3ZRGxKWWV1A+bjnMacEPl+2zgyxExHNgS+IKk4bntFOD4/I1j87uZmQ2iblJ4BLBsfl6OslqpVTuSdgMep0Ril86lut3E/PwPymC0Zn/HMjOzwdFu4aJGCo9lKm0HA9dLeoVSiGjLbD8OuEnSYcBSwAcBJC1NqYW9I3Bkbz8iaR1gU+DubPoSMEHStymD2vvaPF8zM6tJNyk8jgB2iYihlLiH07J9H+CibN8F+EkG0h0HnB4Rs/r4naUpeaG+FBEvZvPngSMiYq38vfP72Nc1s83MBki/cRSS/gv4DGUuYXHKq6BbKenF18s+awM3RsRwSVOBnSPiqdz2GOVp43J6kv0tT0kweGxEnClpEeBaYEJEnFb57b8Dy0dEZD3tv0dE41VUXxxHUSOvVa+P72W9fD/r1VUcRW8pPCiZXpfLvExQXic1JrqfBHYAkPROyuDyl4jYOiLWyeOcAfxnDhKiPClMqw4S6WlKKhCA7YE/9He+ZmZWr3bnKOYREbMlfQ64XNIc4AVKBliALwM/knQEZTL6gGj92PJ+yhPLZEmTsu1rEXE98Dngu5KGAK+Sif/MzGzwOIWHteTH+/r4XtbL97NeTuFhZmYdazeO4glJkxsR0tm2oqSbJf0h/14h21eQdGVGZf9O0kaV4ywvabykhyRNk/TeyrbDsn2qpFOafn+eaG4zMxs8C/JEsV1EjMyKdgBHA7dExAbALfkd4GvApIjYBNgP+G7lGN+lrI7aEBhBToBL2o4yQT4iIt4FfLvpt5ujuc3MbJB08+ppNHBxfr4Y2C0/D6esjGpUrltH0mpZzOgDZCxERLweEX/LfT4PnNSohx0RzzZ+pLdobjMzGzztDhRBiba+N8uOAqwWEc/k5z8Bq+Xn+4GPA2QSv7cDQ4F1gb8AF2bCwPMkLZX7DAO2lnS3pNslbZb7N6K5j+/8Es3MrBvtDhRbRcS7gQ9TkvZ9oLoxl782lk+dBCyfS10PA+4D3qQsxX03cFYmDHyJntdVQ4AVKYF5RwGXZXzFcbSI5m5wZLaZ2cBZ4OWxko4DZlFiHLaNiGckrQ7cFhHvaOorymujTYAlgbsy4A5JW1NqYe8q6Ubg5Ii4Nbc9Shk0rqCPaO4Wp+jlsTXyEsT6+F7Wy/ezXl0tj5W0lKRlGp+BDwFTgGuA/bPb/sDV2Wd5SYtm+8HAHRHxYkT8CXhKUmMw2QF4MD9fBWyX+w8DFgWe6yuau73LNjOzOrQTmb0acGV5OGAI8NOIuFHS7ymviA4C/gh8Ivu/E7hYUlAmoA+qHOswYFwOJI8BB2b7BcAFkqYArwP79xPNbWZmg8SR2daSH+/r43tZL9/Pejky28zMOtZNZPYJGX09SdJNktbIdkn6nqTpuf3dleOcLGlK/vlkpX3dXBo7XdLPGnMckhbL79Nz+zp1XryZmfWvm8jsUyNik6xnfS2lpjWUJbQb5J8xlNraSNqVsjx2JLAFcKSkRm2JkynLYNenZKJtzGscBLyQ7adnPzMzG0Qdv3qqVKGDUvK0MdkxGvhxFHdRYipWp0Rs3xERsyPiJeABYOdcQrs9MD73r0Z5V6O/xwM7ZH8zMxsk3URmI+lESU8B+9LzRLEm8FRl3xnZdj9lYFhS0sqU5bBrASsBf4uI2U395zlWbv979jczs0HSVWR2RHw961mPA8a2OkBE3ARcD/wWuAS4kxKxbWZm/8TaGigiYmb+/SxwJbB5U5dxwB75eSY90dRQ8jw19j8x5zl2BAQ8AvyV8npqSHP/6rFy+3LZfx5O4WFmNnA6jsyWtEGl22jgofx8DbBfrn7aEvh7pvlYWNJKeZxNKGk9bsrAuluBPXP/uVHezBv9vSfwy94C8SLi3IgYFRGjxoxxtVQzszp1E5l9eabjmEOJzD4k+18P7AJMB16mJ/p6EeBXeZwXgU9X5iW+Clwq6T8oSQTPz/bzgZ9Img48D+zd6YWamVlnHJltLTn6tT6+l/Xy/ayXI7PNzKxj3URmHydpZrZNkrRLtu+Yy2gn59/bV45zoqSnJM1qOv4hleP/WtLwyrZNJN2pUkt7sqTF67l0MzNrRztzFA3bRcRzTW2nR0RzfevngI9GxNOSNgIm0BMX8QvgTOAPTfv8NCLOBpD0MUqN7J1zpdN/A5+JiPtzMvyNBThnMzPr0oIMFG2JiPsqX6cCS0haLCJey0htmoOrW0R5fwh4ICLuz37zLY01M7OB1VVkNjA2E/9dIGmFXvbbA5gYEa/19wOSvpCV7U4BvpjNw4CQNEHSRElfafN8zcysJt1EZp8FrEdJ8vcM8J3qDpLeRUni96/t/EBE/CAi1qMslf1GNg8BtqKkCNkK2F3SDm2es5mZ1aDjyOyI+HNEvBkRc4AfUYnWljQ0++0XEY8u4DldSk9SwBmURILPRcTLlBiNdzfv4MhsM7OB001k9uqVbrtT6mgjaXngOuDoiPhNOyfRFOW9Kz2T3ROAjTOR4BBgG3rqbM/lyGwzs4HTTWT2TySNpMxfPEHPK6axwPrAsZIaGWU/FBHPSjoF+BSwpKQZwHkRcRxlruODlBVNL5BpOyLiBUmnAb/P37k+Iq7r9qLNzKx9jsy2lhz9Wh/fy3r5ftbLkdlmZtaxtuIoJD0B/INSP2J2RIyS9DPgHdlleUrxoZGSNgcaM8oCjouIKzOi+g5gsfzd8RHxrTz+r4Blcp9Vgd9FxG6S9qWsglL+/ucbMRVmZjY4Oo7MjohPNj5L+g6l+hyUSe1RETE7J7zvl/QL4DVg+4iYJWkR4NeSboiIuyJi68qxLqcnzfjjwDY5V/FhygC0RQfXaWZmHeo6MjtrWH+CUveaXMbasDgZZZ11JBo5nhbJP/NMkEhaNo9zYO7z28rmuyhFjczMbBB1G5kNsDXw54iYm79J0haSpgKTgUMadSeyeNEk4Fng5oi4u+lYuwG3NKX0aDgIuKHN8zUzs5q0+0SxVUTMlLQqcLOkhyLijty2D6UG9lw5ALxL0juBi/MV06sR8SYwMmMtrpS0UURMqey6D3Be849L2o4yUGy1YJdnZmbd6qpmdgbBfRz4WR/7TaO8btqoqf1vlPKnOzfaJK2cx50nTiLLpp4HjO4rKaAjs83MBk7Hkdm5+YPAQxExo9J/3RxAkPR2YEPgCUmr5JMEkpYAdqSnzjaUmtjXRsSrlWOtDVxBSTP+SF/n6MhsM7OB03Fkdm7bm6bXTpTXQ0dLeoNST/vQiHgunwwulrQwZYC6LCKurey3N3BS07GOBVYCfpi/PzsiRrV9dWZm1jVHZltLjn6tj+9lvXw/6+XIbDMz65gHCjMza6mtgULSE5ImS5ok6Z5sGyHpzmz/RQbLVfdZW9IsSUdW2paXNF7SQ5KmSXpvtq8o6WZJf8i/V8j25fLY90uaKunA+i7dzMzasSBPFNtFxMjKZPJ5lJoTG1OWzB7V1P805g+Q+y5wY0RsCIwApmX70ZRAuw2AW/I7wBeAByNiBLAt8B1Jiy7AOZuZWZe6efU0jJLkD+BmSn1sACTtRsnTNLXSthzwAeB8gIh4PeMpAEYDF+fni+mpcBfAMpkmZGngeWB2F+dsZmYLqJsUHlMp/8AD7AWsBSBpaUrG1+ObjrEu8BfgQkn3STov4zIAVouIZ/LznyhLcgHOBN4JPE1JB3J4ll41M7NB0u5AsVVEvBv4MPAFSR8APgscKuleSorw17PvccDpETGr6RhDKPWuz4qITYGX6HnFNFcmD2ys2d0JmASsAYwEzmyeCwFHZpuZDaSOU3hExEMR8aGIeA8l6O7R7L4FcErWsPgS8DVJY4EZwIxKIsDxlIED4M+NGtz597PZfiBwRRTTKa+zNuzl/ByZbWY2QDpO4ZEJApG0EPAN4GyAiNg6ItaJiHWAM4D/jIgzI+JPwFOSGsWOdgAezM/XkHWy8+9GPYonsx+SVqMUSnqs88s1M7MF1XEKD0mHS/pC9rkCuLCNYx0GjMuVS4+RdScoqTsuk3QQ8EdKfQuAE4CLJE2mVLn7arV4kpmZDTyn8LCWnCahPr6X9fL9rJdTeJiZWcfajcyeL6Ja0l4ZLT1H0qhK33UkvZJR3JMknV3Ztk9Gcj8g6casQVH9nS9Lil7aN5M0W9Ke3V6wmZktmHYr3DUiqvfM+YUlgb9Rihad00v/RyNiZLUha1R8FxieacdPAcZSltMiaS3KRPmTTfstDJwM3NTuRZmZWX3aWfXUa0R1REyLiIcX4LeUf5bKSOtlKYF0DacDX6EnhqLhMOByepbMmpnZIGrn1VOriOo+98m+t0vaGiAi3gA+T4mwfhoYTg4+kkYDMyPi/upBJK0J7A6ctSAXZWZm9WlnoGgrorriGWDt7PtvwE8lLStpEcpAsSkl0voB4BhJSwJfo1Sza3YGZUlsy7Qdjsw2Mxs47QwUrSKq5xMRr0XEX/PzvZSI7WGUFBxExKOZpuMy4H3AepSnlvszmnsoMFHS24BRwKXZvielJOpuNHFktpnZwOl3Mjsi/iTpKUnvyDmJakT1fCStAjwfEW9K+hdgA0pw3eLAcEmrRMRfgB2BaRExGVi1sv8TwKgMrFu30n4RcG1EXNXBdZqZWYfaXfU0X0S1pN2B7wOrANdJmhQRO1Emvv9d0hvAHOCQiHgeQNLxwB257Y/AAbVejZmZ1c6R2daSo1/r43tZL9/Pejky28zMOtZNZPYJGWE9SdJNktbIvkdVorKnSHpT0oq5bWdJD0uaLunoyvF3kDQx9/m1pPWzfTFJP8v+d0tap/5bYGZmrbT7RNFbretTI2KTjMC+llzeGhGnZm3tkcAxwO0R8XxGWP+AUvxoOLCPpOF5/LOAfXOfn1LSlgMcBLwQEetTAvJO7vJ6zcxsAXUTmf1ipdtSzB9RDbAPpagRwObA9Ih4LCJeBy6lp5RqUCK1AZajJ2K7Wkt7PLBDRnWbmdkgaWfVUzUyewRwL6V29UuSTgT2A/4ObFfdKQPpdqbkcwJYE3iq0mUGpRoewMHA9ZJeAV4EtmzeJyJmS/o7sBLgmhRmZoOkq8jsiPh6RKwFjKNnQGj4KPCbxtLYfhwB7BIRQykFkE5r8/zNzGyA1RWZPQ7Yo6ltb3peOwHMBNaqfB8KzMwAvRGV4/+MErE9zz6ZfXY54K/NJ+gUHmZmA6ffgaKvWteSNqh0Gw081PiS8xrb0FP7GuD3wAaS1s3Avb0ptbJfAJaTNCz77UiZLId5a2nvCfwyegn8cAoPM7OB03FkNnBeDh5zKFHWh1T67w7cFBEvNRpyjmEsMAFYGLggIqYCSPoccLmkOZSB47O52/nATyRNB56nDC5mZjaIHJltLTn6tT6+l/Xy/ayXI7PNzKxj3URmHydpZiUKe5fsu4iki7M29jRJx2T74pJ+J+l+lVrbx1eOPzajr3url71tHn+qpNvrvHgzM+tfNzWzdwJOj4hvN/XdC1gsIjbOWIoHJV1CmcfYPiJmZRGjX0u6ISLuAn5Die6+rXogScsDPwR2jognJa2KmZkNqn4Hikpk9gFQIrOB11sESAelLvYQYAngdeDFXK00K/sskn8ij3lf/lbzsT4FXBERT2Y/1802Mxtk3dbMHpuJAS+QtEK2jacE5T0DPAl8u1KPYmFJk4BngZsrsRN9GQasIOk2SfdK2m8Br8/MzLrUTWT2WZQypiMpg8J3sv/mwJuUutjrAl/OSndExJuZ+G8osLmkjdr47fcAu1JedX2zEm9hZmaDoOPI7Ij4c/7DPwf4EWWAgPK66MaIeCNfFf2GUvt6rv/f3t3HyFWVcRz//soSKbRpQVEhqG1KhACV1YpobVUIMbwIlCiphoCtoMYUq38U20QFU2m0bXwrL+UPQosFAdEWGgSKSN3FBbHpy+6yta1BVzQl0UaKCqFq+fnHPdsdhpm723mf9vkkzU7OPffOuU/vvc+dc+bMtb0X2Ej2W1AjvfcG2y+nR6N2k/167evEzOwQQqifamZmn1BQ7TLg2fT6eeBcgNRF9UFgh6Tj0+A0ksaSzcDeQb4HgRmSOtLA+NkMz9oubGPMzA4hhDqpZmb2CkmdZAPSg8AXU91byMYzBgABq2z3SXoPcGd6LsUY4Ke2HwKQNB/4GvB2oE/Sw7avsf17SY8CfWQzwG+3PZSQQgghNEDMzA65YvZr7UQsayviWVsxMzuEEELFIlGEEELIFYkihBBCrkgUIYQQckWiCCGEkCsSRQghhFyH4tdj24KkL9iOaeQ1EvGsrYhn7RwKsYxPFM0TU8hrK+JZWxHP2mn7WEaiCCGEkCsSRQghhFyRKJqnrfssW1DEs7YinrXT9rGMwewQQgi54hNFCCGEXJEoQtuQ9C1JC3KWz5J0WiPbFMLhIBJFBSQ9VaZ8taRPNagNkyTFszlebxYQieIgSTpR0s9qvM2Hhx5UVlSem+xbVWG7JS2WdF6F2+mUdOEIdS6RtKjMsn9X8r7VikRRAdvT67VtSaN9mNRhQdLXJe2S9BvglFT2eUmbJPVK+rmkoyVNBy4BlkvaJmlK+veopM2SnpR0alN3pkXZ3m27pjc4ti9Mjzw+5Ni+3vbjFa7eCeQmCtvrbX+3wu3XRSSKCgxldWVulrRT0uPAW0dYb1DSMkn9kn4n6eRUvlrSbZKeAZalu47fSuqTtE7SsanetHRx7AXm1Xk3m07SNODTDJ9cZ6VFa22fZftMskfjXm37KWA9cJ3tTtvPkX3b5Mu2pwELgFsbvhM1JukYSb9Ix8Gzkman46IrJcQNQ48pljRf0vZ0HN2byj6aEuk2SVsljS/8dCrpKEmr0jG6VdI5qXyOpLUp8f5B0rIR2jko6S3p9RuSfauTdFWKW6+kNUXLDvQc5MT+15KWhCUTcQAABA5JREFUpvN8l6SZyp4QuhiYneI/u8x7z5F0c3o9WdLT6f/jxvrudXlx91qdy8gO/NOAtwHbgTtGWOcl21MlXQX8EPhEKj8JmG57v6Q+sgtcl6TFwA3AV4FVwLW2uyUtr8P+tJqZwDrbrwBIWp/Kz0gnzURgHLCheEVJ44DpwP3SgQd3vanuLa6/84Hdti8CkDQBeAS41Pbf08VnCfA5YBEw2fY+DXcDLQDm2e5JMXq1aPvzAKdj9FTgMUnvTss6gfcC+4Cdkm6y/Ze8xhYl+w5gC7C5mgDUm6TTgW+QnY97JB0HzC9R70jgJkrHHqDD9geUdTXdYPs8SdcD77d97Sib8yNgpe0fS2razWEkiup8BLjH9n5gt6QnRrHOPQV/f1BQfn9KEhOAiba7UvmdZBe7iam8O5WvAS6ofhfa0mpglu1eSXOAj5WoMwbYa7uzge1qhH7ge5KWAg8BLwJnAL9MCfEI4IVUt4/sWfcPAA+ksh7g+5LuJvtk9teCRAowg+zih+0dkv4MDCWKX9l+CUDSduBdQG6ioHyyb2Xnkp2PewBs/6MoRkNOoXzsAdamv5uBSRW25cPAJ9PrNcDSCrdTleh6ajyXef1yoxvSBrqBWZLGShoPXJzKxwMvpDu6Kwrq/ystw/Y/gT9JuhwOdBOe2bim14ftXcD7yBLGjWQXkYHU3dZpe6rtj6fqFwG3pPqbJHWkvu9rgLFAjw5u3GZfwev9xI2mKB97GI5XtbFq+mS3SBTV6Sbrbzwi9U2eM4p1Zhf8fbp4Ybpje1HSzFR0JdCVBgb3SpqRyq8oXvdQY3sLcB/QS9a9sikt+ibwDNnd8Y6CVe4Frkt961PIYnR1GtMZAC5tVNvrRdKJwCu27wKWA2cDx0v6UFp+pKTTJY0B3mF7I7AQmACMkzTFdr/tpWTxLE4UT5KOrdTl9E5gZxVNLpfsW9kTwOWS3gyQup5K2UmJ2I+w7QM3M6PUQ9Z1B0085w/3O4JqrSP7mLodeJ4SF/4Sjk1jEPuAz5Sp81ngNklHA38E5qbyucAdkgw8Vk3D24XtJWT9vsVWlqjbwxu/Hnt+PdrVRFPJvtn1GvBf4EvA/4AVqduyg2zsaxdwVyoTsML2XknfTgPUr5Elz0eAEwq2fyuwUlJ/2u6cNMZRUWNtb5E0lOz/xnCyb1m2ByQtAbok7Qe2AoMl6v0nDWoXx34gZ/MbgUWStgHfsX3fCM35CvATSQuBBw9+b2ojfsKjgSQNkg1k7Wl2W0IIYbSi6ymEEEKu6HqqA0nrgMlFxQttT2pCc0KoG2Vzf4q/dnyl7f5mtKedSJpL1rVUqMd2y82Riq6nEEIIuaLrKYQQQq5IFCGEEHJFogghhJArEkUIIYRckShCCCHk+j9Oz8nIwGVYygAAAABJRU5ErkJggg==\n",
            "text/plain": [
              "<Figure size 432x432 with 1 Axes>"
            ]
          },
          "metadata": {
            "needs_background": "light"
          }
        }
      ]
    },
    {
      "cell_type": "code",
      "source": [
        "df_transactions_test = cl.keep(df_transactions, \"id_prod\", \"T_0\")# df_transactions[(df_transactions.id_prod == \"T_0\" ) == True]\n",
        "print(df_transactions_test)\n",
        "df_transactions = cl.kick(df_transactions, \"id_prod\", \"T_0\")#df_transactions[(df_transactions.id_prod == \"T_0\") == False]\n",
        "print(cl.watch(df_transactions))"
      ],
      "metadata": {
        "id": "xXSbvMbGE2m3",
        "colab": {
          "base_uri": "https://localhost:8080/",
          "height": 1000
        },
<<<<<<< HEAD
        "outputId": "aa1cd251-5980-418a-8f5c-2c3022922cad"
=======
        "outputId": "2f141e95-991c-4aa0-e262-404969b4489e"
>>>>>>> b1bb7d9103775de018a924da9458eb77c6ba71f8
      },
      "execution_count": 6,
      "outputs": [
        {
          "output_type": "stream",
          "name": "stdout",
          "text": [
            "       id_prod                             date session_id client_id\n",
            "3019       T_0  test_2021-03-01 02:30:02.237419        s_0      ct_0\n",
            "5138       T_0  test_2021-03-01 02:30:02.237425        s_0      ct_0\n",
            "9668       T_0  test_2021-03-01 02:30:02.237437        s_0      ct_1\n",
            "10728      T_0  test_2021-03-01 02:30:02.237436        s_0      ct_0\n",
            "15292      T_0  test_2021-03-01 02:30:02.237430        s_0      ct_0\n",
            "...        ...                              ...        ...       ...\n",
            "657830     T_0  test_2021-03-01 02:30:02.237417        s_0      ct_0\n",
            "662081     T_0  test_2021-03-01 02:30:02.237427        s_0      ct_1\n",
            "670680     T_0  test_2021-03-01 02:30:02.237449        s_0      ct_1\n",
            "671647     T_0  test_2021-03-01 02:30:02.237424        s_0      ct_1\n",
            "679180     T_0  test_2021-03-01 02:30:02.237425        s_0      ct_1\n",
            "\n",
            "[200 rows x 4 columns]\n",
            "No duplicate and no null DATA \n",
            "\n",
            "Total missing value \n",
            " \n",
            " id_prod       0\n",
            "date          0\n",
            "session_id    0\n",
            "client_id     0\n",
            "dtype: int64 \n",
            "\n",
            "Percentage of missing value \n",
            " \n",
            " id_prod       0.0\n",
            "date          0.0\n",
            "session_id    0.0\n",
            "client_id     0.0\n",
            "dtype: float64 \n",
            "\n",
            "Empty DataFrame\n",
            "Columns: [id_prod, date, session_id, client_id]\n",
            "Index: [] \n",
            "\n",
            "None\n"
          ]
        },
        {
          "output_type": "display_data",
          "data": {
            "image/png": "iVBORw0KGgoAAAANSUhEUgAAAYoAAAFrCAYAAADPZs43AAAABHNCSVQICAgIfAhkiAAAAAlwSFlzAAALEgAACxIB0t1+/AAAADh0RVh0U29mdHdhcmUAbWF0cGxvdGxpYiB2ZXJzaW9uMy4yLjIsIGh0dHA6Ly9tYXRwbG90bGliLm9yZy+WH4yJAAAgAElEQVR4nOzdeZhcVbX///cHwhTmWSAIXAYxAgkYAQdkEkGQeVYZVIiKEeUKAldFwC9XGcRZBhnE+40CXwYNM/khEFRmSEJCGCIgJKCIMhiQIWT9/tir0ieV7upK1elGr5/X8/TTVfucs+vUeaB3ztl7raWIwMzMrC8LvdUnYGZm/9w8UJiZWUseKMzMrCUPFGZm1pIHCjMza8kDhZmZtfQvMVBI2knSw5KmSzrurT4fM7N/J/pnj6OQtDDwCLADMAO4GzgwIh58S0/MzOzfxL/CHcXmwPSIeCwiXgcuBnZ/i8/JzOzfxr/CQLEG8FTl/YxsMzOzQfCvMFCYmdlbaMhbfQJtmAmsWXk/LNvmkjQaGA1wzjnnvPuIMScN3tn9Lzf79ZkMWdQ3cHXwtayXr2e9Zr8+U31t+1eYzB5CmczenjJA3A18LCKm9nFI+D+e+vh/xvr4WtbL17NerQaKf/o7ioiYLWkMcAOwMHBBi0HCzMxq9k8/UABExLXAtW/1eZiZ/TvyZLaZmbXU8UAhaU1JN0t6UNJUSV/M9n3z/RxJoyr77yDpXkkP5O/tKtuulzQpjzs7g+wa274g6aHcdlqn52tmZp3p5tHTbODLEXGfpKWBeyWNB6YAewHnNO3/HLBrRDwtaSPKnENjJmq/iHhJkoDLgH2BiyVtSwmuGxERr0lapYvzNTOzDnQ8UETEM8Az+frvkqYBa0TEeIDyN3+e/e+vvJ0KLCFpsYh4LSJeqpzPokBjKdbngG9HxGvZx7Odnq+ZmXWmljkKSWsDmwJ3tnnI3sB9jQEg+7gBeBb4O+WuAmADYCtJd0q6VdJ76jhfMzNrX9cDhaSlgMuBL1XuDFrt/y7gVOAz1faI2BFYDVgMaMxfDAFWALYEjgEuVfOtipmZDaiuBgpJi1AGibERcUUb+w8DrgQOjog/NG+PiFeBX9OT9G8GcEUUdwFzgJV66Xe0pHsk3XPuued2/oXMzGw+3ax6EnA+MC0izmxj/+WAa4DjIuJ3lfalJK2Wr4cAuwAP5eZfAdvmtg0o8xfPNfcdEedGxKiIGDV69OhOv5KZmfWim1VP7wcOAh6QNDHb/ovy6OiHwMrANZIm5mOlMcB6wAmSTsj9PwwIGCdpMcrAdTNwdm6/ALhA0hTgdeCQ+GfPOWJm9r/MP32upw4411ONnE+nPr6W9fL1rFerXE+OzDYzs5Y8UJiZWUt1LI9dWNL9kq7O92MlPSxpiqQLcmVUdf/3SJotaZ98v62kiZWfVyXtkdvGSJouKSTNt9rJzMwGXh13FF8EplXejwU2BDYGlgAOa2zIHE6nAjc22iLi5ogYGREjKfETr1S2/w74EPDHGs7TzMw60G0cxTDKctbzGm0RcW3GPQRwF6UiXcMXKHEXfaXi2Ae4LiJeyb7uj4gnujlHMzPrTrd3FN8DvkIJhJtHPnI6CLg+368B7Amc1aK/A4BfdnlOZmZWo24C7j4KPBsR9/axy0+ACRFxW77/HnBsRMw3qGR/q1EeV93Qwbk4MtvMbIB0HEch6VuUO4bZwOLAMpR0G5+Q9A1KksC9GgODpMcpwXVQ0nC8AoyOiF/l9i8C74qI+UKrJT0BjIqI+aKye+E4ihp5rXp9fC3r5etZrwGJo4iI4yNiWESsTXlk9JscJA4DdgQOrN49RMQ6EbF27n8ZcERjkEgH4sdOZmb/dAYijuJsYFXg9lzuekJ/B2Sa8jWBW5vaj5Q0gzIhPlnSefMfbWZmA8kpPKwl397Xx9eyXr6e9XIKDzMz61gdkdnLSbpM0kOSpkl6r6RvSpqcj55ulLR67ntMJQJ7iqQ3Ja2Q23bKiO7pko6r9C9Jp0h6JPs/sttzNjOz9nX96EnSRcBtEXGepEWBocCcRrW7/MM+PCI+23TcrsBREbFdRmw/AuxAKVZ0N2Uy/EFJn6TUpDg0IuZIWqWf2tl+9FQj397Xx9eyXr6e9Wr16KmbehRIWhb4IHAoQES8TqkbUbUk0NtoVF3ltDkwPSIey34vplS5exD4HPCxxgqqfgYJMzOrWbePntYB/gJcmIkBz5O0JEA+LnoK+Dgwz8onSUOBnSjpPADWAJ6q7DIj2wDWBfbPgLrrJK3f5TmbmdkC6HagGAJsBpwVEZsCLwPHAUTEVyNiTUqSwDFNx+0K/C4i/tbGZywGvBoRo4CfUqrezcOR2WZmA6fbgWIGMCMi7sz3l1EGjqqxwN5Nbc05nWZS4igahmVb4zOuyNdXAps0n4RrZpuZDZyuBoqI+BPwlKR3ZNP2wINNj4d2Bx5qvMl5ja2BX1f2uRtYX9I6OSF+ADAut/2KMplNHvdIN+dsZmYLpqvJ7PQFYGz+gX8M+CRwXg4ecyi1JKornvYEboyIlxsNETFb0hhKQsCFgQsiYmpu/nb2fxQwi0p9CzMzG3iOzLaWvASxPr6W9fL1rJcjs83MrGN1RGYfJWlqRlr/UtLilW0/kDSr8n4tSTdl1PYtWSGv0X5fRmxPlfTZyjH75/5TJZ3a7fmamdmC6bYU6hrAkZRaERtR5hcOyG2jgOWbDjkD+HlEbAKcDHwr258B3pt1s7cAjpO0uqQVgdOB7SPiXcDbJG3fzTmbmdmCqePR0xBgCUlDKOk7ns6UHKdTyqRWDQd+k69vpqyIIiJej4jXsn2xynn9B/BoRPwl3/9/zL/U1szMBlC3y2NnUu4SnqTcFbwYETdSAuzGRcQzTYdMAvbK13sCS+ddA5LWlDSZEqF9akQ8DUwH3iFp7RyI9mDeeAszMxtg3T56Wp5yV7AOsDqwpKSDgX2BH/ZyyNHA1pLup8REzATeBIiIp/KR1HrAIZJWjYjnKbmeLgFuA55o7G9mZoOj2ziKDwGPNx4NSboCOAlYApguCWCopOkRsV7eJeyV+y4F7B0RL1Q7jIinJU0BtgIui4irgKvymNH0MlBk+2iAc845p8uvZGZmVd3OUTwJbClpqMqosD1wZkS8rVIf+5WIWA9A0kqSGp95PJm3SdIwSUvk6+WBDwAP5/tVKu1HAPOVQ3UKDzOzgdPVHUVE3CnpMuA+YDZwP9AqK982wLckBTAB+Hy2vxP4TrYLOCMiHsht35c0Il+fHBFO4WFmNogcmW0tOfq1Pr6W9fL1rJcjs83MrGNtDRSSLpD0bE4yN9pWkDRe0qP5e/nKtm0qUda3tuon20dKuiOPuUfS5tmujO6entHZzSnMzcxsgLV7R/EzSkW6quOAmyJifeCmfI+k5YCfALtlNPW+/fQDcBpwUkZmn5DvAT4CrJ8/o4Gz2jxfMzOrSVsDRURMAJqr0e0OXJSvL6IEwwF8DLgiIp7MY+fWuO6jHyg1tZfJ18sCT1c+4+dR3AEsJ2m1ds7ZzMzq0c2qp1Urkdd/AlbN1xsAi0i6BVga+H5E/Lyfvr4E3CDpDMrg9b5s76uWdnPEt5mZDZBaJrOjLJ1qLJ8aArwb2AXYEfi6pA366eJzwFFZY/so4Pw6zsvMzLrXzUDx58ZjoPzdeMQ0A7ghIl6OiOco8RIj+uij4RB66mL/P2DzfN2qlvZckkbnJPg9557bKozDzMwWVDcDxTjKH3jyd6MG9q+BD0gaImkoJW34tH76epqS+wlgO+DRymccnKuftqQkHZzvsZMjs83MBk5bcxSSfkmJql5J0gzgG5Ra1pdK+jSlLvZ+ABExTdL1wGRKzezzImJKX/1ExPnA4ZQI7CHAq2TeJuBaYGdKFtlXKPW4zcxsEDky21py9Gt9fC3r5etZL0dmm5lZx/odKPqIyj5d0kMZLX1lBtkh6eMZXd34mSNpZFN/45r62jcjuOdk+dRG+w6S7pX0QP7erp6vbGZmC6KdO4qfMX809Xhgoyw09AglZTgRMTYiRmaE9UGUWhUTGwdJ2guY1dTXFEqNiglN7c8Bu0bExpTJ8v9p6xuZmVmt+h0oeoumjogbI2J2vr2Dsmy12YHAxY03WajoP4H/09TXtIh4uJfPvT8LHQFMpdTlXqy/8zUzs3rVMUfxKeC6Xtr3B35Zef9N4DuU1UsLam/gvoh4rYNjzcysC93WzP4qpWDR2Kb2LSiV7RrLYkcC60bElR18xruAU4HPdHOuZmbWmY5zPUk6FPgosH3Mv8b2AOa9m3gvMErSE/mZq0i6JSK26eczhgFXAgdHxB9a7Oea2WZmA6StOApJawNXR8RG+X4n4Exg64j4S9O+C1ES+W0VEY/111el/Rbg6Ii4J98vB9xKST9+Be1zHEWNvFa9Pr6W9fL1rFdXcRQZTX078A5JMzIS+0eUzLDjcxns2ZVDPgg81dsg0Uf/e2aU9nuBayTdkJvGAOsBJ1SW267STp9mZlYfR2ZbS/5XW318Levl61kvR2abmVnHPFCYmVlLbQ0UvaXxqGz7sqSQtFK+X1bSVZImZWqOT1b2fbukGyVNk/RgTmxX+/qBpFmV99+tzE88IumFTr+omZl1pt3lsT+jTGDPU9JU0prAh4EnK82fBx6MiF0lrQw8LGlsRLyex58SEeMzUntOpa9RwPLV/iPiqMr2LwCbtvvFzMysHm3dUfSWxiN9F/gKPWVQyddLSxKwVB43W9JwYEhEjM8+Z0XEKwCSFgZOz776ciDzxmaYmdkg6HiOQtLuwMyImNS06UfAOylV6x4AvhgRc4ANgBckXSHp/sxAu3AeMwYY11v1uvystYB1gN90er5mZtaZjiKzs8Tpf1EeOzXbEZhIKWm6LiXW4rb8rK0oj4+eBC4BDpV0HbAvpfJdXw4ALouIN/s4H0dmm5kNkE7vKNal/At/UqblGAbcJ+ltlHKlV0QxHXgc2BCYAUyMiMcy8+yvgM0oA8d6wPTsa6ik6U2f15wSZB6umW1mNnA6uqOIiAeAuVHS+Qd+VEQ8J+lJYHvgNkmrAu8AHgOeB5aTtHKm/dgOuCcirgHeVulrVkSsV3m/IWWS+/ZOztXMzLrT7vLY3tJ49OWbwPskPQDcBBwbEc/lY6OjgZtym4CftvHxBwAX95J40MzMBoFTeFhLTpNQH1/Levl61sspPMzMrGNdRWZL+oKkhzIC+7RsW1TShZIeyOjsbSr7H5jtkyVdX4nmHinpjozAvkfS5tm+jaQXK9HZJ9T2zc3MrC3t3lH8DNip2iBpW2B3YEREvAs4IzcdDhARGwM7AN+RtJCkIcD3gW0jYhNgMiV+AuA0St2JkcAJ+b7htogYmT8nL+gXNDOz7nQTmf054NuNOtYR8Wy2DycD47LtBWAUZfJawJIZtb0MJSgPSjT3Mvl62Uq7mZm9xbqZo9gA2ErSnZJulfSebJ8E7CZpiKR1gHcDa0bEG5TB5QHKQDAcOD+P+RJwuqSnKHcmx1c+5735COu6rJ9tZmaDqJuBYgiwArAlcAxwad4pXEAJrrsH+B7we+BNSYtQBopNgdUpj54aA8LngKMiYk3gKHoGkPuAtSJiBPBDSpDefCSNzrmNe84999wuvpKZmTVre3lsL3WzrwdOjYib8/0fgC17qaH9e+AwYEnKo6rts/2DwHERsbOkF4HlIiJysHkxIpahSTWwr8WpenlsjbwEsT6+lvXy9azXQC2P/RWwLYCkDYBFgeckDZW0ZLbvAMyOiAeBmcDwTD0OZaJ7Wr5+Gtg6X28HPJrHvy0HDnIl1ELAX7s4ZzMzW0BtpfDIyOxtgJUkzQC+QXnEdEEumX0dOCTvCFYBbpA0hzI4HAQQEU9LOgmYIOkN4I/AofkRhwPfz5VRr5IJ/oB9gM9Jmg38AzjAEdpmZoPLkdnWkm/v6+NrWS9fz3o5MtvMzDrW70DRW1S2pBGSbs8o66skLZPtK0q6WdIsST9q6ucUSU+pUhM72z8o6T5JsyXt07TtVElT8mf/7r6qmZl1op07ip/RFJUNnEdZsbQxcCVleSyU+YWvU7LENrsK2LyX9icpcxW/qDZK2oVSr2IksAVwdGNAMjOzwdPvQNFHVPYGwIR8PR7YO/d9OSJ+Sxkwmvu5o7dSpxHxRERMBuY0bRoOTIiI2RHxMiXuonnAMjOzAdbpHMVUSp4nKGVM16zndOYxCdgpl9uuRFmKOxCfY2ZmLXQ6UHwKOELSvcDSlOWxtYqIG4FrKZHdjcJJfdbMdmS2mdnA6GigiIiHIuLDEfFuyh/xP9R7WnM/55TMGrsDJaHgI33s55rZZmYDpKOBIoPqkLQQ8DXg7DpPKvteWNKK+XoTYBPgxro/x8zMWmtneWxv9bIPlPQI8BAl/caFlf2fAM4EDs39h2f7aRnVPTTbT8z292T7vsA5kqZmV4sAt0l6EDgX+EREzK7lW5uZWdscmW0tOfq1Pr6W9fL1rJcjs83MrGPtPHpaM6OtH8za2F/M9n3z/RxJoyr77yDp3ozavlfSdpVt12cRoqmSzpa0cLafKGlmpTb2ztneZ/1tMzMbHO1kj50NfDki7pO0NHCvpPHAFGAv4Jym/Z8Dds1ssRsBNwCN+8P9IuKlTB1+GWVe4uLc9t2IOKOpr7n1t3MC/TpJ74mI5uA8MzMbIO1EZj8TEffl679TakisERHTIuLhXva/PyIaNa+nAktIWiy3vZTtQyj1K/qbIOmr/raZmQ2SBZqjyCp3mwJ3tnnI3sB9EfFapY8bgGeBv1PuKhrGSJqcSQiXz7Ze628vyDmbmVl32h4oJC0FXA58qXJn0Gr/dwGnAp+ptkfEjsBqwGKUanYAZwHrUhIAPgN8J9t7rb/d7jmbmVn32q1wtwhlkBgbEVe0sf8wSlbZgyNivqjtiHhV0q8p+aLGR8SfK8f+FLg695sNHFXZ9nt6ic6WNJqsinfOOc1TJmZm1o12Vj0JOB+YFhFntrH/csA1lDTkv6u0LyVptXw9BNiFErBHoz3tSZkop0X97Xk4hYeZ2cBp547i/ZS61w9Impht/0V5dPRDYGXgGkkT87HSGGA94ARJJ+T+H6bkahqXE9sLATfTk/rjNEkjKZPbT9DzuKrX+ttmZjZ4HJltLTn6tT6+lvXy9ayXI7PNzKxj3URmfzOXs06UdKOk1bN990r7PZI+UOnrzUr09bhK+3ZZN3uKpItyDqOxbZvcf6qkW+v9+mZm1p9+Hz3lRPNq1chsYA9gRmOZrKQjgeER8dlcRvtyRESmB780IjbM/WZFxFJN/S8E/BHYPiIekXQy8MeIOD8nxn8P7BQRT0paJQPvWvGjpxr59r4+vpb18vWsV1ePnlpEZldjKZYko6wjYlb0jD5z21tYEXg9IhrLXufW4AY+BlwREU9m3/0NEmZmVrOuIrMlnSLpKeDjwAmV/faU9BBlmeynKl0sno+j7pC0R7Y9BwypJBbch57o6w2A5SXdkgkGD16gb2dmZl3rKjI7Ir4aEWsCYynLYsn2K/Nx0x7ANyvdrBURoyh3Ct+TtG7efRwAfFfSXZTUHo3o6yGUtB27ADsCX5e0QWdf1czMOtHWQNFGZPZYeh4XzRURE4D/kLRSvp+Zvx8DbqHcnRARt0fEVhGxOTCBnujrGcANEfFyRDyX20b0cn6j807lnnPPPbedr2RmZm3qODJb0vqV3XanJ8p6vTwGSZtRAvP+Kmn5RhbZHDjeDzyY7xs1uBcDjqUnEO/XwAcyKeBQYAvKHMk8HJltZjZwuonM/rSkdwBzKKuWPpvb9gYOlvQG8A9g/1wB9U5KTew5lAHq25V0HMdI+mi2nxURjdTi0yRdD0zOzzkvIqZ0+Z3NzGwBODLbWvISxPr4WtbL17Nejsw2M7OOeaAwM7OWuknhcaKkmZWUHDs3Hfd2SbMkHV1pOyr7mCLpl5IWz/bzJU3K1B+X5VJcJB0q6S+Vzzis3q9vZmb9aeeOYjbw5YgYDmwJfF7S8Nz23YgYmT/XNh13JnBd442kNYAjgVERsRGwMCV+AuCoiBgREZsAT1KJyQAuqXzGeQv8Dc3MrCv9rnqKiGco5UmJiL9Lmga0nEHKqOvHgZd7+bwlckXUUODp7LeRM0rAEvSf9sPMzAZJVyk8gDH5uOgCScvnPktRYiFOqh6bwXZnUO4YngFejIgbK31fCPwJ2JBSEKlh78ojqTUxM7NB1U0Kj7OAdYGRlD/838ldT6Q8kprVdPzylMC8dYDVgSUlfaKxPSI+me3TgP2z+Spg7XwkNR64qI9zc2S2mdkAaSuOIlN4XE1JpzFf3ey807g6IjaSdBs9Sf2WowTKnQD8mZIu/NN5zMHAlhFxRFNfHwS+EhEfbWpfGPhbRCzbz+k6jqJGXqteH1/Levl61qtVHEW/cxQtUnislvMXAHsCUwAiYqvKPicCsyLiR5K2ALbMVBz/ALYH7sn+142I6fl6N3rSgVQ/Yzd6Sd9hZmYDq5sUHgdKGkmZeH4C+EyrTiLiTkmXAfdRVlLdD5wLCLhI0jL5ehLwuTzsSEm75f5/Aw5t+5uZmVktnMLDWvLtfX18Levl61kvp/AwM7OOdROZfUklYvqJymMpJG0i6fbc/4FKBPa78/10ST+opCPvtS9JK+Znz5L0o4G5BGZm1ko7cxSNyOz7JC0N3CtpfEQ0lrAi6TvAi/l6CPB/gYMiYpKkFYE3ctezgMMpcRjXAjsB1/XVF/Aq8HVgo/wxM7NB1u8dRUQ8ExH35eu/U1YezX0wmHcF+wG/zKYPA5MjYlIe89eIeFPSasAyEXFHlj/9OaVUKn31lZXtfksZMMzM7C3QbWQ2wFbAnyPi0Xy/ARCSbpB0n6SvZPsalNKmDTOYPxVIc19mZvYWa+fRE9BrZHbDgfTcTTT6/ADwHuAV4CZJ99LzOKmV5r7aPbfRwGiAc845Z0EPNzOzFtq6o8jI7MuBsRFxRaV9CLAXcEll9xnAhIh4LiJeocxFbAbMBIZV9huWba36aotrZpuZDZx2Vj31GpmdPgQ8FBHVR0o3ABtLGpp//LcGHswI65ckbZl9Hgz8up++zMzsLdZxZHbWnziApkdFEfG8pDOBuylR29dGxDW5+QjgZ5RU4tdRqVfRW18Akp4AlgEWzfTlH46IB9v6dmZm1jVHZltLjn6tj69lvXw96+XIbDMz61g3kdkjMvr6AUlXZVI/JH28EmU9UdKcTB6IpOtVamNPlXR2pg5H0gqSxkt6NH83iiAdU+lniqQ3Ja0wcJfDzMyadVMz+zzguIjYGLgSOAYgIsY2alxT5jYej4jG3MZ+ETGCEmW9MrBvth8H3BQR6wM35Xsi4vRKX8cDt0bE37r/2mZm1q5uIrM3ACbkbuOBvXs5/EDg4kpfjfiLIcCi9NTG3p2e6nUX0RSxXelrgWMszMysO91EZk+l/IGHcmfQWz3r/Wn64y7pBuBZ4O/AZdm8aqVA0Z+AVZuOGUrJC3X5gpyvmZl1r5ua2Z8Cjsio66WB15v23wJ4JSKmVNsjYkdgNWAxYLvmz8k8UM1LsXYFftfXYyfXzDYzGzgdR2ZHxEMR8eGIeDflruEPTYf1GheRx75KCbZr3JH8OZMGkr+fbbev7M+R2WZmA6TjyGxJq+TvhYCvAWdXti1EyQJ7caVtqcpgMATYhayNDYwDDsnXh1CJ2Ja0LCW6uxrFbWZmg6SbmtnrS/p8vr8CuLByzAeBpyLisUrbksA4SYtRBqib6Rlcvg1cKunTwB8pg0zDnsCNEfFy+1/LzMzq4shsa8nRr/XxtayXr2e9HJltZmYda2eOYnFJd1Uiqk/K9jFZ+zokrVTZf9mM1G7s/8nKtjcrkdbjevmsH0ia1dS2XyUq/BfdfV0zM1tQ7cxRvAZsFxGzcvXTbyVdB/wOuBq4pWn/z1PSiu8qaWXgYUljI+J14B8ZZT0fSaOA5Zva1qdEZL8/s9KusiBfzszMutdOZHZERONf+YvkT0TE/RHxRG+HAEvnaqmlgL9R0oD0KXM+nQ58pWnT4cCPI+L5PJfmZbNmZjbA2o2jWDhXPD0LjI+IO1vs/iPgncDTwAPAFyNiTm5bPAPj7sjaEg1jgHGV6OyGDYANJP0uj9mpnfM1M7P6tFUzOyLeBEZKWg64UtJGzRHXFTsCEylR1+sC4yXdltHca0XETEn/AfxG0gPAPygpQLbp4/zWz23DgAmSNo6IF9r+hmZm1pUFWvWUf6BvpuRd6ssngSvykdV04HFgwzx+Zv5+jDK3sWn+rAdMz2p2QyVNz75mUO403oiIx4FHKAPHPJzCw8xs4LSz6mnlvJNA0hLADvREVPfmSWD73H9V4B3AY5KWz2A7cpXU+ymT3tdExNsiYu2IWJuSH2q97OtX5J1GHrMBUA3iA5zCw8xsILVzR7EacLOkyZQ62OMj4mpJR0qaQXkkNFnSebn/N4H35WOlm4BjI+I5yrzFPZImUe5Kvt1G7esbgL9KejCPOSYi/rqgX9LMzDrnyGxrydGv9fG1rJevZ70cmW1mZh3rJjL7/GybLOmyrFeBpLUk3ZTtt0galu3bat5a2q82lshK2l7Sfdn+W0nrNZ3D3hkBPqr+S2BmZq20c0fRiMweAYwEdpK0JXBURIyIiE0oE9hjcv8zgJ9n+8nAtwAi4uZK/evtgFeAG/OYs4CP57ZfUNKWAyBpaeCLlKp6ZmY2yLqJzH4J5tarWIKeqnTDgd/k65vpKU5UtQ9wXUS80vgYYJl8vSwlWK/hm8CpwKvtfCEzM6tXV5HZki6k1LjeEPhh7j4J2Ctf70lJ57FiU5fNFesOA67NVVQHUepTIGkzYM2IuGZBv5iZmdWjrYEiIt7Mx0LDgM0lbZTtnwRWB6YB++fuRwNbS7qfUpluJvBmo6+scrcxZelrw1HAzhExjFIA6cyskncm8OXOv56ZmXWr68jsTO9xMbB3vn86IvaKiE2Br1aOa9gPuDIi3oAS0AeMqOSPugR4H7A0sBFwS0Zsb0mpkDffhLYjs83MBk6nkdkPN1Ym5RzFbmS0tqSV8m4ASorwC5q6PJB5Hzs9DywraYN8vwOlPveLEbFSJWL7DmC3iLin+RwdmW1mNnDaSQq4Gl680DsAACAASURBVHBRpgJfCLgUuAa4TdIygCjzEp/L/bcBviUpgAmU+hQASFobWBO4tdEWEbMlHQ5cLmkOZeD4VFffyszMauPIbGvJ0a/18bWsl69nvRyZbWZmHesmMluSTpH0iKRpko7M9g0l3S7pNUlHN/W1k6SHVWptH1dpH5vtUyRdoFJytWVfZmY2OLqpmf1OynzDhhExRz31rP8GHAlUK9g1yp3+mDJZPQO4W9K4zCA7FvhE7voLSlzFWX31ZWZmg6fjyGzK5PXJjTKnjXrWEfFsRNwNvNHU1ebA9Ih4LCJepyyp3T2PuTY/J4C7KPEarfoyM7NB0k1k9rrA/hm/cJ2k+SrPNVkDeKryfka2VT9nEUpk9vXtfgEzMxtY3URmLwa8GhGjgJ8yf7xEJ34CTIiI22roy8zMatBNZPYM4IrcdCWwST+Hz6TMaTQMyzYAJH0DWBn4zwU5pzzWkdlmZgOkm5rZvwK2zd22Bh7pp6u7gfUlrSNpUUpiwHHZ72HAjsCBjTmPBeHIbDOzgdNRZHbWzP4tMFbSUcAsykolJL0NuIeSNnyOpC8BwyPiJUljKMkAFwYuiIip+RlnA38Ebi8ZQbgiIk5u1Vct397MzPrlyGxrydGv9fG1rJevZ70cmW1mZh3zQGFmZi11k8Jje0n3SZoo6beVtOP/KelBSZMl3SRprWwfmek4pua2/Suf8TNJj2dfEyWNrGzbJtumSrq1+fzMzGxgdZPC4yxg94iYJukI4GvAocD9wKiIeEXS54DTKNXvXgEOjohHJa0O3CvphkpRo2Mi4rLqB+dqq58AO0XEk5U0IWZmNki6SeERlNVIAMsCT+f+N0fEK9l+Bz3pOB6JiEfz9dOUKO+V+/n4j1FWQD2Zxz3b5vcyM7OadJPC4zDgWkkzKGk3vt3LoZ8Gruulv82BRYE/VJpPyUdS35W0WLZtACwv6RZJ90o6uO1vZmZmtegmhcdRwM4RMQy4EDizeoykTwCjgNOb2lcD/gf4ZCW47nhgQ+A9wArAsdk+BHg3sAslIO/rlZKp1T4dmW1mNkA6TeHxEWBE3lkAXAK8r7GfpA8BX6XUuH6t0r4MpYzqVyPijkq/z+Qjrtcog87muWkGcENEvBwRz1FKq47o5bwcmW1mNkA6TeExDVi28q/7RhuSNgXOoQwSz1b6WZSSE+rnvUxar5a/Rak9MSU3/Rr4gKQhkoYCWzQ+x8zMBkc3KTwOBy6XNAd4HvhU7n86sBTw/zIdx5MRsRuwH/BBYEVJh+a+h0bEREoqkJUBAROBzwLkiqrrgcnAHOC8iGgMImZmNgicwsNacpqE+vha1svXs15O4WFmZh1re6DIJbL3S7o6368j6U5J0yVdknMQSPqspAcqEdvDm/p5u6RZko6utH1R0pSMvv5SpX0FSeMlPZq/l+/+K5uZ2YJYkDuKLzLvRPKpwHcjYj3KHMWns/0XEbFxLqc9jaZls/l+bmxFLrU9nLLSaQTw0UY6EOA44KaIWB+4Kd+bmdkgajfgbhglluG8fC9gO6CxeukiymolmmpFLEmJ4G70swfwODC1ss87gTsj4pWImA3cCuyV23bPvuf5DDMzGzzt3lF8D/gKZeURwIrAC/mHHUq8w9xZJUmfl/QHyh3Fkdm2FCWQ7qSmvqcAW0laMZfA7kxPydRVI+KZfP0nYNV2v5iZmdWjnTiKjwLPRsS97XYaET+OiHUpA8PXsvlEyqOqWU37TqM8xroRuJ6yPPbNXvps5Jfq7RwdmW1mNkD6XR4r6VuUXE6zgcUpiQCvpKTUeFtEzJb0XuDEiNix6diFgOcjYllJt9Fzp7Ac5e7khIj4UdMx/w3MiIifSHoY2CYinsmgvFsi4h39fCcvj62RlyDWx9eyXr6e9epqeWxEHB8RwyJibeAA4DcR8XFKKo99crdDKFHUSFq/cvguQCNj7FYRsXb28z3gvxuDRCN9uKS3U+YnfpHHj8u+5/kMMzMbPO1EZvflWOBiSf+HUoPi/Gwfk7me3qCshjqkj+OrLpe0Yh7z+UqNim8Dl0r6NPBHSnS3mZkNIkdmW0u+va+Pr2W9fD3r5chsMzPrWDeR2WMlPZwR1RdkmdTq/u+RNFvSPvl+20pN7ImSXs24igXuy8zMBk83kdljKcWGNgaWoFS8A8qgQs+SV2BuidSRGbG9HaWG9o2d9GVmZoOno8hsgIi4NosNBXAXWRs7fQG4nFI6tTf7ANc1amt32ZeZmQ2gTiOz58rHRAdRguWQtAawJ3BWi/4OAH5ZU19mZjaA6ojM/gkwISJuy/ffA46t1MNu7m81yiOmG7rty8zMBl47cRTvB3aTtDMZmS3p/0bEJyR9A1gZ+Exl/1GU+AqAlYCdJc2OiF/l9v2AKyPijeqHdNhX49jRwGiAc845p42vZGZm7VqgOApJ2wBHR8RHJR1GKX+6fUT8o4/9fwZcXa2RLekO4PiIuLnS1lFffXAcRY28Vr0+vpb18vWs10DFUZxNyeZ6ey53PaG/AyStTcn3dGu3fZmZ2eBwZLa15H+11cfXsl6+nvVyZLaZmXWs48jsSvsPJM2qvD9U0l8qEdjV4LlTM/p6iqT9K+2SdIqkRyRNk9QodvRxSZOzBvfvJY3o7uuamdmCWpDssY3I7GUaDZJGAcv3su8lETGm2iBpF2AzYCSwGHCLpOuydOqhlLmLDSNiTiPtOKVs6tYR8bykjwDnAlsswDmbmVmXOo7MztQap1MC8doxnBIjMTsiXgYmAzvlts8BJzfiJSLi2fz9+4h4Pve5g3kjts3MbBB0E5k9BhhXqWldtXc+MrpMUqOq3SRgJ0lDJa0EbEtPxbt1gf2znOl1TcWPGj4NXNfm+ZqZWU06isyWtDqwL/DDXg65Clg7IjYBxgMXAUTEjcC1wO8p6Ttup6c29mLAqxExCvgpcEHTOWxLGSiOXZAvZ2Zm3WvnjqIRmf0EcDEl8+tUYD1gerYPlTQdICL+GhGv5bHnAe9udBQRp2QG2R0AAY/kphnAFfn6SmCTxjGSNsl+do+Iv/Z2gpJG593IPeeee24bX8nMzNrVac3s5SPibZUa2K9ExHowN5dTw25kavJcNbVivt6EMhg0Uof/ivIoCmBrcgDJGtpXAAdFxCP0ISLOjYhRETFq9OjRbX51MzNrRzc1s/typKTdgNnA3ygrmgAWAW7LvE0vAZ+IiNm57dvAWElHAbPoqUdxArAi8JM8bnY+njIzs0HiyGxrydGv9fG1rJevZ70cmW1mZh3rpmZ2X9HUx1SisqdIelPSCpLWlHSzpAclTZX0xUrfK0gaL+nR/L185TN+IGl6LrfdrO4LYGZmrXVTM/tQeqKp30lZEUVEnF6pjX08cGtE/I0yZ/HliBgObAl8XtLw7Os44KaIWB+4Kd8DfARYP39G40p3ZmaDruPIbPqIpm5yIFnyNCKeiYj78vXfKYNO4wHj7mS8Rf7eo9L+8yynfQewXNOqKjMzG2DdRGa3jKaWNJSSouPy5s6yLsWmwJ3ZtGolwvtPlNoUUAaSpyqHzqBncDEzs0HQTc3sltHUwK7A7/KxU7W/pSiDx5cyIeA8oizD+l+3FMvM7F9VxzWzmT+a+sKm4w4gHzs1SFqEMkiMjYgrKpv+LGm1iHgmHy01HmPNpCcfFJSkgDObT9A1s83MBk6nkdmfoI9oagBJy2bbryttAs4HpkXEmU0fMw44JF8fUjluHHBwrn7aEnixtySEjsw2Mxs43URm9xVNDbAncGOmE294P3AQ8ICkidn2XxFxbfZ1qaRPA38E9svt1wI7A9OBV4BPdnG+ZmbWAUdmW0uOfq2Pr2W9fD3r5chsMzPrmAcKMzNrqZsUHttLui9TdfxWUiPN+NszVcf9mXZj56Z+3i5plqSj8/3iku6SNClTe5xU2fe2SjqQpyX9qp6vbWZm7eomhcdZwMczVccvgK9l+9eASyNiU8oqqZ809XMm85Y0fQ3YLiJGACMp5VK3BIiIrSrpQG6nZzmumZkNkm5SeASwTL5eFni6n3Yk7QE8TqmQV3YuZuXbRfJnnhl2SctQKuv5jsLMbJC1uzy2kcJj6UrbYcC1kv5BKUS0ZbafCNwo6QvAksCHYG5E9rHADsDR1c4lLQzcSymv+uOIuJN57UFJGjhfJLeZmQ2sblJ4HAXsHBHDKFHZjSC6A4GfZfvOwP9IWogygHy3cvcwV0S8mY+XhgGbS9qoaZe5yQX7OEfXzDYzGyD9xlFI+hYlUG42mcIDuJmSXnzd3OftwPURMVzSVGCniHgqtz1Gudu4nJ50HMtREgyeEBE/avq8Eyg1uM/I9ysBDwNrRMSrbXwnx1HUyGvV6+NrWS9fz3p1FUfRWwoPSvrvZSVtkLvtQM9E95PA9gCS3kkZXP6SE9NrZz/fA/47In4kaWVJy+X+S2RfD1VOYR/g6jYHCTMzq1lHKTwiYrakw4HLJc0Bngc+lZu/DPw0U3sEcGi0vm1ZDbgo5ykWoqyYurqy/QBKig8zM3sLOIWHteTb+/r4WtbL17NeTuFhZmYdazeO4glJD2SE9D3ZtoKk8ZIezd/LZ/vykq7MqOy7qiuYJC0n6TJJD0maJum92X5JJQL7iUp22cZx80Rzm5nZ4FmQO4ptM0p6VL4/jhLbsD5wU74H+C9gYkRsAhwMfL/Sx/cpq6M2BEaQE+ARsX8lAvty5o/Abo7mNjOzQdLNo6fdgYvy9UWUoDiA4ZSVUUTEQ8DaklbNYkYfpBQvIiJej4gXqh1mcaP9qMRM9BbNbWZmg6fdgSIo0db3ZtlRgFUr1eb+BKyarycBewFI2hxYixJItw7wF+DCTBh4nqQlmz5nK+DPEfFoHt+I5j4JMzN7S7Q7UHwgIjYDPgJ8XtIHqxtz+Wtj+dS3geVynuELwP3Am5SluJsBZ2XCwJfpeVzV0ByBfSJ9RHNXOTLbzGzgLPDyWEknUkqfHg5sExHPSFoNuCUi3tG0ryiPjTYBhgJ3ZMAdkrYCjouIXfL9EGAm8O6ImJFtt9FGNHcTL4+tkZcg1sfXsl6+nvXqanmspCUlLd14DXwYmAKMAw7J3Q4Bfp37LCdp0Ww/DJgQES9FxJ+ApyQ1BpPtgQcrH/Uh4KHGIAFz04zPF83d3zmbmVl92onMXhW4stwcMAT4RURcL+lu4FJJnwb+SJmEBngnJdI6KBPQn6709QVgbA4kjwGfrGw7gBaJ/8zM7K3hyGxrybf39fG1rJevZ70cmW1mZh3rJjL7mxl9PVHSjZJWz3ZJ+oGk6bl9s0o/p0qakj/7V9rXkXRnHnNJY45D0lqSbsp+bslKe2ZmNoi6icw+PSI2yWjqq4ETsv0jwPr5M5pSWxtJu1CWx44EtgCOzhKnAKdSlsGuR8lE25jXOAP4eUZ5nwx8q4PvaGZmXej40VNTWdIl6Ymj2J3yxz0i4g5KTMVqlIjtCRExOyJeBiYDO+US2u2Ay/L4XqO8KcWSdu/0fM3MrDPdRGYj6RRJTwEfp+eOYg3gqcqxM7JtEmVgGJpV67alxEisCLwQEbOb9odKlDewJ7C0pBUX5AuamVl3uorMjoivRsSawFhgTKsOIuJG4Frg95RlsLdTIrZbORrYWtL9wNaUgLz+jjEzsxq1NVBExMz8/SxwJbB50y5jgb3z9Ux6oqmh5HlqHH9KznPsAAh4BPgr5fHUkF72fzoi9sqUH1/NtnkSCYJTeJiZDaSOI7MlrV/ZbXd66lyPAw7O1U9bAi9mmo+FG4+NJG1CSetxY+aJuplSGxvmjfJeSVLjHI8HLujtHCPi3IgYFRGjRo8e3dsuZmbWoW4isy/PdBxzKJHZn839rwV2BqYDr9ATfb0IcFv28xLwicq8xLHAxZL+DyWJ4PnZvg3wrYzyngB8vsPvaWZmHXJktrXk6Nf6+FrWy9ezXo7MNjOzjnUTmX2ipJmVWtc7Z/sOuYz2gfy9XaWfUyQ9JanX+hKS9pYUkkb115eZmQ2OduYoGraNiOea2r4bEWc0tT0H7BoRT0vaCLiBnriIq4AfAY82d54T5l8E7myzLzMzGwS1P3qKiPsj4ul8OxVYQtJiue2OSvnUZt+kpPJ4tZ2+zMxscHQVmQ2MyYR9F0havpfj9gbui4jXWnWeiQPXjIhrWuzWVl9mZlavbiKzzwLWpST5ewb4TvUASe+i3CF8plXHGSdxJvDlFvu01ZeZmdWv48jsiPhzRLwZEXOAn1KJ1s504FcCB0fEH/rpfmlgI+AWSU8AWwLjKhPa/fblyGwzs4HTTWT2apXd9qTU0UbScsA1wHER8bv++o+IFyNipUpt7DuA3SLinnb7cmS2mdnAaeeOYlXgt5ImAXcB10TE9cBpuWx1MiUT7FG5/xhgPeCEytLZVQAknSZpBjBU0gxJJ/bz2X32ZWZmg8OR2daSo1/r42tZL1/Pejky28zMOtb2QNFHdPYllUdCT0iamO2bV9onSdoz2xeXdFe2TZV0UqX/7SXdl8f8VtJ62b5Yfs50lbraa9d5AczMrLUFicyGpujsiNi/8VrSd4AX8+0UYFREzM5J70mSrgJeA7aLiFmSFqHMfVyXJVPPAnaPiGmSjgC+BhxKqZ/9fESsJ+kAyjLZuZ9rZmYDq5ZHTyq5w/ejVK4jIl6ppBBfnKynnXW0G3meFsmfxiRJAMvk62WBRkT27pQ62lDqam+fn2dmZoNgQe4oGtHZAZwTEdWAha2AP0fE3BxOkragFBpaCzioMXBIWhi4l7Ka6ccR0cjtdBhwraR/UOpVbJntc2tw5x3Ki5Q62815p8zMbAAsyB1Fr3Wz04Hk3URDRNwZEe8C3gMcL2nxbH8zIkZSSp5unsn+oCyv3TkihgEXUqK1zczsLdb2QNFX3WyVWtd7AZf0cdw0YBYl+rra/gKlBOpOklYGRlTuLi4B3pev59bgzs9allJney5HZpuZDZx261H0Gp2dmz8EPBQRMyr7r5N/1JG0FrAh8ISklTPaGklLADtQam0/DywraYPsYgdgWr4eR6mjDaWu9m+iKfjDkdlmZgOn3TmKXutm57YDaHrsBHwAOE7SG5Sa2kdExHOSNgEuynmKhYBLI+JqAEmHA5dLmkMZOD6VfZ0P/I+k6cDf8vPMzGyQODLbWnL0a318Levl61kvR2abmVnHPFCYmVlL7U5m95a+Y4Sk27P9KknLNB3zdkmzJB1daVtO0mWSHpI0TdJ7s33fTOkxp1GHIts/XkkFMjG3j6znq5uZWTsW5I5i24gYGRGNP+TnUepEbExZLntM0/5nAtc1tX0fuD4iNgRG0LOyaQplie2E6s4RMTY/cyRwEPB4RExcgHM2M7MudfPoaQN6/rCPp9S0BkDSHsDjwNRK27LABymrmIiI1zOWgoiYFhEP9/N5BwIXd3G+ZmbWgXYHikb6jnslNQIVplLyMAHsS09Q3FLAscBJTX2sA/wFuFDS/ZLOy5iMdu3P/MtwzcxsgLU7UPSWvuNTwBGS7qXUvX499z0R+G4l+V/DEGAz4KyI2BR4GTiunQ/PvFGvRMSUPrY7MtvMbIC0FXBXTd8h6Upg84g4gxKhTUZU75K7bwHsI+k0YDlgjqRXKZlfZ1TSdFxGmwMFvQf1Vc/vXKAxQsQRY5pvZszMrFP9DhT5eGihiPh7JX3HyZJWyYFjIUrtiLMBImKryrEnArMi4kf5/ilJ78j5iO2BB9v4/IUoKcy36m9fMzOrXzuPnlalFBiaBNwFXJPpOw6U9AglV9PTlIyv/fkCMFbSZGAk8N8AkvaUNAN4L3CNpBsqx3wQeCoiHmv3S5mZWX2cwsNacpqE+vha1svXs15O4WFmZh1rNzJ7vojqFtHUa0v6RyWa+uzKtgMzknuypOslrZTtJ0qaWTlm52zfvNI2SdKedV8AMzNrrd00442I6n0kLQoMBV6gRFOf08v+f8ho6rmyPsX3geGZcvw0YAxlOS2UJbVnNPUzBRiVJVBXAyZJuqpSj9vMzAZYO6ueGhHVh0KJqKbETLyQ29v9LOXPkpL+CiwDTG91QES8Unm7OCXwz8zMBlE7j546iaheJ/e9VdJWABHxBvA54AHKKqnhZDqPNCYfSV0gaflGo6QtJE3N4z7ruwkzs8HVzkCxoBHVzwBvz33/E/iFpGUkLUIZKDYFVgcmA8fnMWcB61KWzD4DfKfRWUTcGRHvAt4DHC9p8eYPdGS2mdnAaWegmMH8EdWb9bVzRLwWEX/N1/cCf6AkEByZbX/ImteXAu/Ltj9HxJsRMQf4KbB5L/1OA2YBG/WyzTWzzcwGSL8DRUT8CXhK0juyqWVEtaSVsyY2kv4DWB94DJgJDJe0cu66A5lmPCeqG/akTGIjaZ2cBEfSWsCGwBPtfjkzM+teu6ueGhHVi1L+6H8yl6r+EFiZEk09MSJ2pEx8nyzpDWAOZV7hbwCSTgIm5LY/khPkwGlZkCgoA8Fnsv0DwHGVvo6IiOe6+cJmZrZgHJltLTn6tT6+lvXy9ayXI7PNzKxj3URmfzOXs06UdKOk1XPfYyrR1FMkvSlphdy2k6SHJU2XdFyl/+0k3Zf7X1SZl9hQpS73a6rU3jYzs8HT1qMnSRcBt0XEeZXI7DkR8VJuP5IScf3ZpuN2BY6KiO1ygvsRyiT2DOBuSnnThyjzFdtHxCOSTgb+GBHnS1oFWAvYA3i+l8jt3vjRU418e18fX8t6+XrWq6tHT+qj1nVjkEhL0nvU9IH0FBzaHJgeEY9ldPfFlFKqKwKvR8Qjud/c+tsR8WxE3A280d95mpnZwOgqMlvSKZKeAj4OnFA9SNJQYCfg8mxaA3iqssuMbHsOGFJJLLgPWX/bzMzeel1FZkfEVyNiTWAsJcFf1a7A7xpLY/uSwXcHAN+VdBfwd+DNBfoWZmY2YOqKzB5LPi6qaK5zPZN57xSGZRsRcXtEbBURmwMTKHMZbXMKDzOzgdNxZLak9Su77U6ZlAbmzmtsDfy6ss/dwPoZbb0oZSAZl/uvkr8XA44l62+3yyk8zMwGTseR2cB5OXjMoaxaqq542hO4MSJebjRkTYkxwA3AwsAFETE1Nx8j6aOUgeusiPgNgKS3AfdQUpLPkfQlyuqq6kS6mZkNIEdmW0teglgfX8t6+XrWy5HZZmbWsW4is/uqc71IRlc/kPsen+2LS7pLpfb11EwQ2Oh/bEZsT8nCRYtUtm2T/U+VdGvdF8DMzFpr946iUTN7Q2AEmR6cUud6ZP5cm237AotFxMbAu4HPSFobeA3YLiJGUGpT7CRpyzxmLCWF+MbAEsBhUAYo4CfAblm8aN+Ov6mZmXWk45rZ6rtWdlDqYg+h/NF/HXgp4yVm5T6L5E9kn41BhoylGJZvPwZcERFP5n7PLsB3MzOzGnRbM7u3OteXUYLyngGeBM6o1KNYWNJE4FlgfCU2g9y+CHAQcH02bQAsL+kWSfdKOriL72pmZh3oJjK7rzrXm1Miq1enDDJfzkp3ZLnTkZQ7hs0lNZc1/QkwISJuq3z2u4FdgB2Br0vaoJMvamZmnek4MrtFneuPUeYz3shHRb8DRlU7jIgXgJspuaAAkPQNSrW8/2z67Bsi4uWsbDeBMkcyD0dmm5kNnG4is3utc0153LQdQD6i2hJ4SKWW9nLZvgQl3fhD+f4wyh3DgTnwNPwa+ICkIZlkcAt6JtKr5+jIbDOzAdJNZPYP1Hud6x9T5jOmAgIujIjJkjYBLsq6FAsBl0bE1XnM2ZTo7ttzkvyKiDg5IqZJuh6YTIkAPy8iGgOSmZkNAkdmW0uOfq2Pr2W9fD3r5chsMzPrmAcKMzNryQOFmZm15IHCzMxa8kBhZmYteaAwM7OW/jcuj/2XIGl0RDiMvCa+nvXy9azP/4Zr6TuKt45DyOvl61kvX8/6/MtfSw8UZmbWkgcKMzNryQPFW+df+pnlPyFfz3r5etbnX/5aejLbzMxa8h2FmZm15IHC/mVIOlHS0S227yFp+GCek9m/Aw8UHZD0+z7afyZpn0E6h7UluTbHvPYAPFB0QNLqki6ruc9rG8XKmtpbDvj/jKrnLOlkSR/qsJ+RknbuZ5/dJB3Xx7ZZnXxutzxQdCAi3jdQfUtqt5jUvwVJX5X0iKTfAu/ItsMl3S1pkqTLJQ2V9D5gN+B0SRMlrZs/10u6V/9/e+cWYmUVhuHn1ZGyFLUjRQfFKEnFKbPItDIiLAuNkClE0+wmNOtC0YtSMKVUOqmpV2ppqQiOSSGaaaNMZuJxUhyjsgMKJalF0lTj28W/xtls9+wZZ7v3HnU9N/vnW4f51uf617v2t/7tL22R1K2og2nB2D5s+5xucmw/Fl57fEFhe7LtDc1sXgpkFQrba2y/0cz+80IUimZQp+pKmCupWtIG4JpG2h2SNFNSlaSvJd0S7IslLZC0DZgZdh1fSdorqVxSp1Cvd1gc9wBj8jzMoiOpN/A09TdXn1C0ynYf271IXo072vaXwBpggu1S29+RPG3you3ewHhgXsEHkQckXS7p0zAXvpFUFuZGRRDFdXWvKpY0TtL+MJeWB9sDQUx3S9olqX3qN1RJl0paFObpLkkDgn2kpFVBfL+VNLMRPw9JuipcnyH4LRlJI0LM9khaklZ2OnOQJe5fSJoR7vODkvoreUPoVKAsxL6sgb89UtLccN1F0tbwbzEtv6NumLh7zY0nSSb97cC1wH5gYSNtTtjuKWkE8A7weLDfAPS1XStpL8kCVyFpKjAFeBlYBIy1vVnSrDyMp6XRHyi3fRJA0ppg7xFumo5AO2BdekNJ7YC+wErp9Iu7Lsm7x4VhIHDY9iAASR2AtcBg27+FBWg68BwwCehiu0b1aaDxwBjblSFOf6f1PwZwmKfdgPWSbg1lpcAdQA1QLWmO7Z+zOZsm+CXATmBHLgHIJ5K6A6+Q3I9HJV0BjMtQrw0wh8xxByixfbeSVNMU2w9LmgzcZXtsE915F5hv+wNJRdscRqHIX3ZgAAAAAwVJREFUjfuBZbZrgcOSNjahzbKUz7dT7CuDSHQAOtquCPb3SRa7jsG+OdiXAI/mPoTzksXAENt7JI0EHsxQpxVw3HZpAf0qFFXAm5JmAJ8Ax4AewGdBFFsDR0LdvSTvu18NrA62SuAtSR+SfDv7JUVMAfqRLIDYPiDpR6BOKD63fQJA0n7gZiCrUNCw4LdUHiK5H48C2P49LT513EbDcQdYFT53AJ2b6ct9wFPhegkwo5n95ERMPRUeN3D9V6EdOQ/YDAyR1FZSe+CJYG8PHAk7umEp9f8MZdj+A/hB0lA4nSbsVTjX84ftg8CdJIIxjWQh2RdSbqW2e9p+JFQfBLwX6m+XVBLy388DbYFKnd3ZTU3KdS0X92ZTNBx3qI9VrnEq+o/dolDkxmaSfGPrkJsc0IQ2ZSmfW9MLw27tmKT+wTQcqAiHgscl9Qv2YeltLzRs7wRWAHtIUivbQ9GrwDaSnfGBlCbLgQkhr96VJEajw5nOPmBwoXzPJ5KuB07aXgrMAu4BrpZ0byhvI6m7pFbAjbY3AROBDkA7SV1tV9meQRLTdKHYQphfIeV0E1Cdg8sNCX5LZSMwVNKVACH1lIlqMsS9kb5Pb2aaSCVJ2g6KeM9fzLuBc0E5ydfU/cBPZFj4M9ApnEHUAM80UOdZYIGky4DvgVHBPgpYKMnA+lwcP1+wPZ0k75vO/Ax1Kznz8diB+fCryPQkebrrFPAv8ALwHzA7pC5LSM6/DgJLg03AbNvHJb0WDqhPkQjoWuC6lP7nAfMlVYV+R4YzjmY5a3unpDrB/5V6wW+R2N4naTpQIakW2AUcylDvn3ConR73fVm63wRMkrQbeN32ikbceQn4SNJE4OOzH825If4XHgVE0iGSg6yjxfYlEolEmkpMPUUikUgkKzH1lAcklQNd0swTbXcugjuRSF5R8vuf9EePh9uuKoY/5wuSRpGkllKptN3ifiMVU0+RSCQSyUpMPUUikUgkK1EoIpFIJJKVKBSRSCQSyUoUikgkEolkJQpFJBKJRLLyPz/82cjdtPJ8AAAAAElFTkSuQmCC\n",
            "text/plain": [
              "<Figure size 432x432 with 1 Axes>"
            ]
          },
          "metadata": {
            "needs_background": "light"
          }
        }
      ]
    },
    {
      "cell_type": "code",
      "source": [
        "# Test de PK\n",
        "print(df_transactions.shape, \"\\n\",df_transactions.id_prod.duplicated)"
      ],
      "metadata": {
        "colab": {
          "base_uri": "https://localhost:8080/"
        },
        "id": "13ZgAj2fXrpl",
<<<<<<< HEAD
        "outputId": "5f570702-619d-49d2-d570-fbbb69ffa45c"
=======
        "outputId": "db80d6da-334e-4124-ef19-ff1243738cc1"
>>>>>>> b1bb7d9103775de018a924da9458eb77c6ba71f8
      },
      "execution_count": 7,
      "outputs": [
        {
          "output_type": "stream",
          "name": "stdout",
          "text": [
            "(679332, 4) \n",
            " <bound method Series.duplicated of 0         0_1518\n",
            "1          1_251\n",
            "2         0_1277\n",
            "3          2_209\n",
            "4         0_1509\n",
            "           ...  \n",
            "679527    0_1551\n",
            "679528     1_639\n",
            "679529    0_1425\n",
            "679530    0_1994\n",
            "679531     1_523\n",
            "Name: id_prod, Length: 679332, dtype: object>\n"
          ]
        }
      ]
    },
    {
      "cell_type": "markdown",
      "source": [
        "#### __df_customers__\n",
        "> DATA propre, client_id bonne PK"
      ],
      "metadata": {
        "id": "MKRGVFV5YDbN"
      }
    },
    {
      "cell_type": "code",
      "source": [
        "cl.watch(df_customers)"
      ],
      "metadata": {
        "colab": {
          "base_uri": "https://localhost:8080/",
          "height": 727
        },
        "id": "T1R90HZ6X5HP",
<<<<<<< HEAD
        "outputId": "0a2d8d05-85dc-42cc-a4bb-09edc6a72673"
=======
        "outputId": "24b7493d-bedc-4aa7-9ef1-882fc186218c"
>>>>>>> b1bb7d9103775de018a924da9458eb77c6ba71f8
      },
      "execution_count": 8,
      "outputs": [
        {
          "output_type": "stream",
          "name": "stdout",
          "text": [
            "No duplicate and no null DATA \n",
            "\n",
            "Total missing value \n",
            " \n",
            " client_id    0\n",
            "sex          0\n",
            "birth        0\n",
            "dtype: int64 \n",
            "\n",
            "Percentage of missing value \n",
            " \n",
            " client_id    0.0\n",
            "sex          0.0\n",
            "birth        0.0\n",
            "dtype: float64 \n",
            "\n",
            "Empty DataFrame\n",
            "Columns: [client_id, sex, birth]\n",
            "Index: [] \n",
            "\n"
          ]
        },
        {
          "output_type": "display_data",
          "data": {
            "image/png": "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\n",
            "text/plain": [
              "<Figure size 432x432 with 1 Axes>"
            ]
          },
          "metadata": {
            "needs_background": "light"
          }
        }
      ]
    },
    {
      "cell_type": "code",
      "source": [
        "print(df_customers.shape, \"\\n\\n\",df_customers.client_id.duplicated)"
      ],
      "metadata": {
        "colab": {
          "base_uri": "https://localhost:8080/"
        },
        "id": "IasFuLkGYXs1",
<<<<<<< HEAD
        "outputId": "c97ceba5-733e-4408-8e8a-0bf0ec00028a"
=======
        "outputId": "ec3d1ade-c465-42c6-9ab1-6d2d2dcc5978"
>>>>>>> b1bb7d9103775de018a924da9458eb77c6ba71f8
      },
      "execution_count": 9,
      "outputs": [
        {
          "output_type": "stream",
          "name": "stdout",
          "text": [
            "(8623, 3) \n",
            "\n",
            " <bound method Series.duplicated of 0       c_4410\n",
            "1       c_7839\n",
            "2       c_1699\n",
            "3       c_5961\n",
            "4       c_5320\n",
            "         ...  \n",
            "8618    c_7920\n",
            "8619    c_7403\n",
            "8620    c_5119\n",
            "8621    c_5643\n",
            "8622      c_84\n",
            "Name: client_id, Length: 8623, dtype: object>\n"
          ]
        }
      ]
    },
    {
      "cell_type": "markdown",
      "source": [
        "#### __df_products__\n",
        "> DATA propre, id_prod bonne PK"
      ],
      "metadata": {
        "id": "no64c2o1ZZIH"
      }
    },
    {
      "cell_type": "code",
      "source": [
        "cl.watch(df_products)"
      ],
      "metadata": {
        "colab": {
          "base_uri": "https://localhost:8080/",
          "height": 727
        },
        "id": "YvaiftduZZbm",
<<<<<<< HEAD
        "outputId": "990a0da0-f05b-4e38-99c3-7ecd515159d6"
=======
        "outputId": "8fbfe0b5-8f3c-441d-808e-17e8a7115806"
>>>>>>> b1bb7d9103775de018a924da9458eb77c6ba71f8
      },
      "execution_count": 10,
      "outputs": [
        {
          "output_type": "stream",
          "name": "stdout",
          "text": [
            "No duplicate and no null DATA \n",
            "\n",
            "Total missing value \n",
            " \n",
            " id_prod    0\n",
            "price      0\n",
            "categ      0\n",
            "dtype: int64 \n",
            "\n",
            "Percentage of missing value \n",
            " \n",
            " id_prod    0.0\n",
            "price      0.0\n",
            "categ      0.0\n",
            "dtype: float64 \n",
            "\n",
            "Empty DataFrame\n",
            "Columns: [id_prod, price, categ]\n",
            "Index: [] \n",
            "\n"
          ]
        },
        {
          "output_type": "display_data",
          "data": {
            "image/png": "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\n",
            "text/plain": [
              "<Figure size 432x432 with 1 Axes>"
            ]
          },
          "metadata": {
            "needs_background": "light"
          }
        }
      ]
    },
    {
      "cell_type": "code",
      "source": [
        "print(df_products.shape, \"\\n\\n\", df_products.id_prod.duplicated)"
      ],
      "metadata": {
        "colab": {
          "base_uri": "https://localhost:8080/"
        },
        "id": "RXZNgHdwZq6z",
<<<<<<< HEAD
        "outputId": "cbae2c39-cf63-443c-c20e-9fe9f376a8df"
=======
        "outputId": "9514cdfe-d82e-4480-939d-4a80cf230b09"
>>>>>>> b1bb7d9103775de018a924da9458eb77c6ba71f8
      },
      "execution_count": 11,
      "outputs": [
        {
          "output_type": "stream",
          "name": "stdout",
          "text": [
            "(3287, 3) \n",
            "\n",
            " <bound method Series.duplicated of 0       0_1421\n",
            "1       0_1368\n",
            "2        0_731\n",
            "3        1_587\n",
            "4       0_1507\n",
            "         ...  \n",
            "3282      2_23\n",
            "3283     0_146\n",
            "3284     0_802\n",
            "3285     1_140\n",
            "3286    0_1920\n",
            "Name: id_prod, Length: 3287, dtype: object>\n"
          ]
        }
      ]
    },
    {
      "cell_type": "markdown",
      "source": [
        "> ## Lexique des données\n",
        ">> #### df_customers \n",
        "- Client_id : référence de chaque __[PK]__\n",
        "- Sex : le genre\n",
        "- Birth : l'année de naissance\n",
        ">\n",
        ">> #### df_products\n",
        "- id_prod : référence d'article __[PK]__\n",
        "- Price : prix de l'article\n",
        "- Categ : catégorie du produit (0, 1, 2)\n",
        ">\n",
        ">> #### df_transactions\n",
        "- id_prod : __[FK]__ ➡️ df_products\n",
        "- date : date de l'achat\n",
        "- session_id : référence session d'achat __[PK]__\n",
        "- client_id : __[FK]__ ➡️ df_cusomers"
      ],
      "metadata": {
        "id": "inI_UJM52sJu"
      }
    },
    {
      "cell_type": "markdown",
      "source": [
        "> ## Merge des DATA"
      ],
      "metadata": {
        "id": "5HR4YP_C-pBP"
      }
    },
    {
      "cell_type": "code",
      "source": [
        "# Apperçu du merge\n",
        "df_verification_transactions_products = df_transactions.merge(df_products, how=\"outer\", on=\"id_prod\", indicator=True)\n",
        "print(df_verification_transactions_products._merge.unique())\n",
        "print(cl.watch(df_verification_transactions_products))"
      ],
      "metadata": {
        "colab": {
          "base_uri": "https://localhost:8080/",
          "height": 918
        },
        "id": "8If4qHcgjtNz",
<<<<<<< HEAD
        "outputId": "6cc4b5e1-a574-4a46-8fc4-2b9e93d85789"
=======
        "outputId": "effd2594-579f-4fdf-83e4-f797eaeb0b6b"
>>>>>>> b1bb7d9103775de018a924da9458eb77c6ba71f8
      },
      "execution_count": 12,
      "outputs": [
        {
          "output_type": "stream",
          "name": "stdout",
          "text": [
            "['both', 'left_only', 'right_only']\n",
            "Categories (3, object): ['left_only', 'right_only', 'both']\n",
            "Null DATA and nothing duplicate \n",
            "\n",
            "Total missing value \n",
            " \n",
            " id_prod         0\n",
            "date           22\n",
            "session_id     22\n",
            "client_id      22\n",
            "price         221\n",
            "categ         221\n",
            "_merge          0\n",
            "dtype: int64 \n",
            "\n",
            "Percentage of missing value \n",
            " \n",
            " id_prod       0.00\n",
            "date          0.00\n",
            "session_id    0.00\n",
            "client_id     0.00\n",
            "_merge        0.00\n",
            "price         0.03\n",
            "categ         0.03\n",
            "dtype: float64 \n",
            "\n",
            "Empty DataFrame\n",
            "Columns: [id_prod, date, session_id, client_id, price, categ, _merge]\n",
            "Index: [] \n",
            "\n",
            "None\n"
          ]
        },
        {
          "output_type": "display_data",
          "data": {
            "image/png": "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\n",
            "text/plain": [
              "<Figure size 432x432 with 1 Axes>"
            ]
          },
          "metadata": {
            "needs_background": "light"
          }
        }
      ]
    },
    {
      "cell_type": "code",
      "source": [
        "df_right = df_verification_transactions_products[(df_verification_transactions_products._merge == \"right_only\")== True]\n",
        "print(df_right.shape)\n",
        "df_right\n",
        "# df_right ne représente que 22 rows, je décide de ne pas utiliser ces données "
      ],
      "metadata": {
        "colab": {
          "base_uri": "https://localhost:8080/",
          "height": 757
        },
        "id": "4YfdlxX-OR2h",
<<<<<<< HEAD
        "outputId": "9750a4e2-b2d5-40a5-dfbb-5603ec3a70d2"
=======
        "outputId": "7e090511-6c13-4186-e9d2-056aeccafabf"
>>>>>>> b1bb7d9103775de018a924da9458eb77c6ba71f8
      },
      "execution_count": 13,
      "outputs": [
        {
          "output_type": "stream",
          "name": "stdout",
          "text": [
            "(22, 7)\n"
          ]
        },
        {
          "output_type": "execute_result",
          "data": {
            "text/html": [
              "\n",
<<<<<<< HEAD
              "  <div id=\"df-e2b505bb-a618-4de1-a523-f1aa202a4baf\">\n",
=======
              "  <div id=\"df-231269a8-2e56-4906-af3c-d04d4f3bc15b\">\n",
>>>>>>> b1bb7d9103775de018a924da9458eb77c6ba71f8
              "    <div class=\"colab-df-container\">\n",
              "      <div>\n",
              "<style scoped>\n",
              "    .dataframe tbody tr th:only-of-type {\n",
              "        vertical-align: middle;\n",
              "    }\n",
              "\n",
              "    .dataframe tbody tr th {\n",
              "        vertical-align: top;\n",
              "    }\n",
              "\n",
              "    .dataframe thead th {\n",
              "        text-align: right;\n",
              "    }\n",
              "</style>\n",
              "<table border=\"1\" class=\"dataframe\">\n",
              "  <thead>\n",
              "    <tr style=\"text-align: right;\">\n",
              "      <th></th>\n",
              "      <th>id_prod</th>\n",
              "      <th>date</th>\n",
              "      <th>session_id</th>\n",
              "      <th>client_id</th>\n",
              "      <th>price</th>\n",
              "      <th>categ</th>\n",
              "      <th>_merge</th>\n",
              "    </tr>\n",
              "  </thead>\n",
              "  <tbody>\n",
              "    <tr>\n",
              "      <th>679332</th>\n",
              "      <td>0_1016</td>\n",
              "      <td>NaN</td>\n",
              "      <td>NaN</td>\n",
              "      <td>NaN</td>\n",
              "      <td>35.06</td>\n",
              "      <td>0.0</td>\n",
              "      <td>right_only</td>\n",
              "    </tr>\n",
              "    <tr>\n",
              "      <th>679333</th>\n",
              "      <td>0_1780</td>\n",
              "      <td>NaN</td>\n",
              "      <td>NaN</td>\n",
              "      <td>NaN</td>\n",
              "      <td>1.67</td>\n",
              "      <td>0.0</td>\n",
              "      <td>right_only</td>\n",
              "    </tr>\n",
              "    <tr>\n",
              "      <th>679334</th>\n",
              "      <td>T_0</td>\n",
              "      <td>NaN</td>\n",
              "      <td>NaN</td>\n",
              "      <td>NaN</td>\n",
              "      <td>-1.00</td>\n",
              "      <td>0.0</td>\n",
              "      <td>right_only</td>\n",
              "    </tr>\n",
              "    <tr>\n",
              "      <th>679335</th>\n",
              "      <td>0_1062</td>\n",
              "      <td>NaN</td>\n",
              "      <td>NaN</td>\n",
              "      <td>NaN</td>\n",
              "      <td>20.08</td>\n",
              "      <td>0.0</td>\n",
              "      <td>right_only</td>\n",
              "    </tr>\n",
              "    <tr>\n",
              "      <th>679336</th>\n",
              "      <td>0_1119</td>\n",
              "      <td>NaN</td>\n",
              "      <td>NaN</td>\n",
              "      <td>NaN</td>\n",
              "      <td>2.99</td>\n",
              "      <td>0.0</td>\n",
              "      <td>right_only</td>\n",
              "    </tr>\n",
              "    <tr>\n",
              "      <th>679337</th>\n",
              "      <td>0_1014</td>\n",
              "      <td>NaN</td>\n",
              "      <td>NaN</td>\n",
              "      <td>NaN</td>\n",
              "      <td>1.15</td>\n",
              "      <td>0.0</td>\n",
              "      <td>right_only</td>\n",
              "    </tr>\n",
              "    <tr>\n",
              "      <th>679338</th>\n",
              "      <td>1_0</td>\n",
              "      <td>NaN</td>\n",
              "      <td>NaN</td>\n",
              "      <td>NaN</td>\n",
              "      <td>31.82</td>\n",
              "      <td>1.0</td>\n",
              "      <td>right_only</td>\n",
              "    </tr>\n",
              "    <tr>\n",
              "      <th>679339</th>\n",
              "      <td>0_1318</td>\n",
              "      <td>NaN</td>\n",
              "      <td>NaN</td>\n",
              "      <td>NaN</td>\n",
              "      <td>20.92</td>\n",
              "      <td>0.0</td>\n",
              "      <td>right_only</td>\n",
              "    </tr>\n",
              "    <tr>\n",
              "      <th>679340</th>\n",
              "      <td>0_1800</td>\n",
              "      <td>NaN</td>\n",
              "      <td>NaN</td>\n",
              "      <td>NaN</td>\n",
              "      <td>22.05</td>\n",
              "      <td>0.0</td>\n",
              "      <td>right_only</td>\n",
              "    </tr>\n",
              "    <tr>\n",
              "      <th>679341</th>\n",
              "      <td>0_1645</td>\n",
              "      <td>NaN</td>\n",
              "      <td>NaN</td>\n",
              "      <td>NaN</td>\n",
              "      <td>2.99</td>\n",
              "      <td>0.0</td>\n",
              "      <td>right_only</td>\n",
              "    </tr>\n",
              "    <tr>\n",
              "      <th>679342</th>\n",
              "      <td>0_322</td>\n",
              "      <td>NaN</td>\n",
              "      <td>NaN</td>\n",
              "      <td>NaN</td>\n",
              "      <td>2.99</td>\n",
              "      <td>0.0</td>\n",
              "      <td>right_only</td>\n",
              "    </tr>\n",
              "    <tr>\n",
              "      <th>679343</th>\n",
              "      <td>0_1620</td>\n",
              "      <td>NaN</td>\n",
              "      <td>NaN</td>\n",
              "      <td>NaN</td>\n",
              "      <td>0.80</td>\n",
              "      <td>0.0</td>\n",
              "      <td>right_only</td>\n",
              "    </tr>\n",
              "    <tr>\n",
              "      <th>679344</th>\n",
              "      <td>0_1025</td>\n",
              "      <td>NaN</td>\n",
              "      <td>NaN</td>\n",
              "      <td>NaN</td>\n",
              "      <td>24.99</td>\n",
              "      <td>0.0</td>\n",
              "      <td>right_only</td>\n",
              "    </tr>\n",
              "    <tr>\n",
              "      <th>679345</th>\n",
              "      <td>2_87</td>\n",
              "      <td>NaN</td>\n",
              "      <td>NaN</td>\n",
              "      <td>NaN</td>\n",
              "      <td>220.99</td>\n",
              "      <td>2.0</td>\n",
              "      <td>right_only</td>\n",
              "    </tr>\n",
              "    <tr>\n",
              "      <th>679346</th>\n",
              "      <td>1_394</td>\n",
              "      <td>NaN</td>\n",
              "      <td>NaN</td>\n",
              "      <td>NaN</td>\n",
              "      <td>39.73</td>\n",
              "      <td>1.0</td>\n",
              "      <td>right_only</td>\n",
              "    </tr>\n",
              "    <tr>\n",
              "      <th>679347</th>\n",
              "      <td>2_72</td>\n",
              "      <td>NaN</td>\n",
              "      <td>NaN</td>\n",
              "      <td>NaN</td>\n",
              "      <td>141.32</td>\n",
              "      <td>2.0</td>\n",
              "      <td>right_only</td>\n",
              "    </tr>\n",
              "    <tr>\n",
              "      <th>679348</th>\n",
              "      <td>0_310</td>\n",
              "      <td>NaN</td>\n",
              "      <td>NaN</td>\n",
              "      <td>NaN</td>\n",
              "      <td>1.94</td>\n",
              "      <td>0.0</td>\n",
              "      <td>right_only</td>\n",
              "    </tr>\n",
              "    <tr>\n",
              "      <th>679349</th>\n",
              "      <td>0_1624</td>\n",
              "      <td>NaN</td>\n",
              "      <td>NaN</td>\n",
              "      <td>NaN</td>\n",
              "      <td>24.50</td>\n",
              "      <td>0.0</td>\n",
              "      <td>right_only</td>\n",
              "    </tr>\n",
              "    <tr>\n",
              "      <th>679350</th>\n",
              "      <td>2_86</td>\n",
              "      <td>NaN</td>\n",
              "      <td>NaN</td>\n",
              "      <td>NaN</td>\n",
              "      <td>132.36</td>\n",
              "      <td>2.0</td>\n",
              "      <td>right_only</td>\n",
              "    </tr>\n",
              "    <tr>\n",
              "      <th>679351</th>\n",
              "      <td>0_299</td>\n",
              "      <td>NaN</td>\n",
              "      <td>NaN</td>\n",
              "      <td>NaN</td>\n",
              "      <td>22.99</td>\n",
              "      <td>0.0</td>\n",
              "      <td>right_only</td>\n",
              "    </tr>\n",
              "    <tr>\n",
              "      <th>679352</th>\n",
              "      <td>0_510</td>\n",
              "      <td>NaN</td>\n",
              "      <td>NaN</td>\n",
              "      <td>NaN</td>\n",
              "      <td>23.66</td>\n",
              "      <td>0.0</td>\n",
              "      <td>right_only</td>\n",
              "    </tr>\n",
              "    <tr>\n",
              "      <th>679353</th>\n",
              "      <td>0_2308</td>\n",
              "      <td>NaN</td>\n",
              "      <td>NaN</td>\n",
              "      <td>NaN</td>\n",
              "      <td>20.28</td>\n",
              "      <td>0.0</td>\n",
              "      <td>right_only</td>\n",
              "    </tr>\n",
              "  </tbody>\n",
              "</table>\n",
              "</div>\n",
<<<<<<< HEAD
              "      <button class=\"colab-df-convert\" onclick=\"convertToInteractive('df-e2b505bb-a618-4de1-a523-f1aa202a4baf')\"\n",
=======
              "      <button class=\"colab-df-convert\" onclick=\"convertToInteractive('df-231269a8-2e56-4906-af3c-d04d4f3bc15b')\"\n",
>>>>>>> b1bb7d9103775de018a924da9458eb77c6ba71f8
              "              title=\"Convert this dataframe to an interactive table.\"\n",
              "              style=\"display:none;\">\n",
              "        \n",
              "  <svg xmlns=\"http://www.w3.org/2000/svg\" height=\"24px\"viewBox=\"0 0 24 24\"\n",
              "       width=\"24px\">\n",
              "    <path d=\"M0 0h24v24H0V0z\" fill=\"none\"/>\n",
              "    <path d=\"M18.56 5.44l.94 2.06.94-2.06 2.06-.94-2.06-.94-.94-2.06-.94 2.06-2.06.94zm-11 1L8.5 8.5l.94-2.06 2.06-.94-2.06-.94L8.5 2.5l-.94 2.06-2.06.94zm10 10l.94 2.06.94-2.06 2.06-.94-2.06-.94-.94-2.06-.94 2.06-2.06.94z\"/><path d=\"M17.41 7.96l-1.37-1.37c-.4-.4-.92-.59-1.43-.59-.52 0-1.04.2-1.43.59L10.3 9.45l-7.72 7.72c-.78.78-.78 2.05 0 2.83L4 21.41c.39.39.9.59 1.41.59.51 0 1.02-.2 1.41-.59l7.78-7.78 2.81-2.81c.8-.78.8-2.07 0-2.86zM5.41 20L4 18.59l7.72-7.72 1.47 1.35L5.41 20z\"/>\n",
              "  </svg>\n",
              "      </button>\n",
              "      \n",
              "  <style>\n",
              "    .colab-df-container {\n",
              "      display:flex;\n",
              "      flex-wrap:wrap;\n",
              "      gap: 12px;\n",
              "    }\n",
              "\n",
              "    .colab-df-convert {\n",
              "      background-color: #E8F0FE;\n",
              "      border: none;\n",
              "      border-radius: 50%;\n",
              "      cursor: pointer;\n",
              "      display: none;\n",
              "      fill: #1967D2;\n",
              "      height: 32px;\n",
              "      padding: 0 0 0 0;\n",
              "      width: 32px;\n",
              "    }\n",
              "\n",
              "    .colab-df-convert:hover {\n",
              "      background-color: #E2EBFA;\n",
              "      box-shadow: 0px 1px 2px rgba(60, 64, 67, 0.3), 0px 1px 3px 1px rgba(60, 64, 67, 0.15);\n",
              "      fill: #174EA6;\n",
              "    }\n",
              "\n",
              "    [theme=dark] .colab-df-convert {\n",
              "      background-color: #3B4455;\n",
              "      fill: #D2E3FC;\n",
              "    }\n",
              "\n",
              "    [theme=dark] .colab-df-convert:hover {\n",
              "      background-color: #434B5C;\n",
              "      box-shadow: 0px 1px 3px 1px rgba(0, 0, 0, 0.15);\n",
              "      filter: drop-shadow(0px 1px 2px rgba(0, 0, 0, 0.3));\n",
              "      fill: #FFFFFF;\n",
              "    }\n",
              "  </style>\n",
              "\n",
              "      <script>\n",
              "        const buttonEl =\n",
<<<<<<< HEAD
              "          document.querySelector('#df-e2b505bb-a618-4de1-a523-f1aa202a4baf button.colab-df-convert');\n",
=======
              "          document.querySelector('#df-231269a8-2e56-4906-af3c-d04d4f3bc15b button.colab-df-convert');\n",
>>>>>>> b1bb7d9103775de018a924da9458eb77c6ba71f8
              "        buttonEl.style.display =\n",
              "          google.colab.kernel.accessAllowed ? 'block' : 'none';\n",
              "\n",
              "        async function convertToInteractive(key) {\n",
<<<<<<< HEAD
              "          const element = document.querySelector('#df-e2b505bb-a618-4de1-a523-f1aa202a4baf');\n",
=======
              "          const element = document.querySelector('#df-231269a8-2e56-4906-af3c-d04d4f3bc15b');\n",
>>>>>>> b1bb7d9103775de018a924da9458eb77c6ba71f8
              "          const dataTable =\n",
              "            await google.colab.kernel.invokeFunction('convertToInteractive',\n",
              "                                                     [key], {});\n",
              "          if (!dataTable) return;\n",
              "\n",
              "          const docLinkHtml = 'Like what you see? Visit the ' +\n",
              "            '<a target=\"_blank\" href=https://colab.research.google.com/notebooks/data_table.ipynb>data table notebook</a>'\n",
              "            + ' to learn more about interactive tables.';\n",
              "          element.innerHTML = '';\n",
              "          dataTable['output_type'] = 'display_data';\n",
              "          await google.colab.output.renderOutput(dataTable, element);\n",
              "          const docLink = document.createElement('div');\n",
              "          docLink.innerHTML = docLinkHtml;\n",
              "          element.appendChild(docLink);\n",
              "        }\n",
              "      </script>\n",
              "    </div>\n",
              "  </div>\n",
              "  "
            ],
            "text/plain": [
              "       id_prod date session_id client_id   price  categ      _merge\n",
              "679332  0_1016  NaN        NaN       NaN   35.06    0.0  right_only\n",
              "679333  0_1780  NaN        NaN       NaN    1.67    0.0  right_only\n",
              "679334     T_0  NaN        NaN       NaN   -1.00    0.0  right_only\n",
              "679335  0_1062  NaN        NaN       NaN   20.08    0.0  right_only\n",
              "679336  0_1119  NaN        NaN       NaN    2.99    0.0  right_only\n",
              "679337  0_1014  NaN        NaN       NaN    1.15    0.0  right_only\n",
              "679338     1_0  NaN        NaN       NaN   31.82    1.0  right_only\n",
              "679339  0_1318  NaN        NaN       NaN   20.92    0.0  right_only\n",
              "679340  0_1800  NaN        NaN       NaN   22.05    0.0  right_only\n",
              "679341  0_1645  NaN        NaN       NaN    2.99    0.0  right_only\n",
              "679342   0_322  NaN        NaN       NaN    2.99    0.0  right_only\n",
              "679343  0_1620  NaN        NaN       NaN    0.80    0.0  right_only\n",
              "679344  0_1025  NaN        NaN       NaN   24.99    0.0  right_only\n",
              "679345    2_87  NaN        NaN       NaN  220.99    2.0  right_only\n",
              "679346   1_394  NaN        NaN       NaN   39.73    1.0  right_only\n",
              "679347    2_72  NaN        NaN       NaN  141.32    2.0  right_only\n",
              "679348   0_310  NaN        NaN       NaN    1.94    0.0  right_only\n",
              "679349  0_1624  NaN        NaN       NaN   24.50    0.0  right_only\n",
              "679350    2_86  NaN        NaN       NaN  132.36    2.0  right_only\n",
              "679351   0_299  NaN        NaN       NaN   22.99    0.0  right_only\n",
              "679352   0_510  NaN        NaN       NaN   23.66    0.0  right_only\n",
              "679353  0_2308  NaN        NaN       NaN   20.28    0.0  right_only"
            ]
          },
          "metadata": {},
          "execution_count": 13
        }
      ]
    },
    {
      "cell_type": "code",
      "source": [
        "df_left = df_verification_transactions_products[(df_verification_transactions_products._merge == \"left_only\")== True]\n",
        "print(df_left.shape)\n",
        "# id_prod à l'air unique\n",
        "print(df_left.id_prod.unique())\n",
        "# id_prod \"0_2245\" à due être supprimer dans le df_products car id_prod est une PK du df_product\n",
        "df_left\n",
        "# Je vais garder les données left car facilement imputable, (0 dans id_prod = categ, et je vais chercher de quelle manière je peux imputer le prix)"
      ],
      "metadata": {
        "colab": {
          "base_uri": "https://localhost:8080/",
          "height": 458
        },
        "id": "IdTjafOeRAER",
<<<<<<< HEAD
        "outputId": "9590210b-77df-459d-cd37-148246f082c6"
=======
        "outputId": "1393c903-1ee2-40fd-df5a-8400922b8e54"
>>>>>>> b1bb7d9103775de018a924da9458eb77c6ba71f8
      },
      "execution_count": 14,
      "outputs": [
        {
          "output_type": "stream",
          "name": "stdout",
          "text": [
            "(221, 7)\n",
            "['0_2245']\n"
          ]
        },
        {
          "output_type": "execute_result",
          "data": {
            "text/html": [
              "\n",
<<<<<<< HEAD
              "  <div id=\"df-d9236997-1ea4-4413-8c40-d6e52b5554c1\">\n",
=======
              "  <div id=\"df-9e3582cb-e39a-46ce-bac4-e00e5fad08b4\">\n",
>>>>>>> b1bb7d9103775de018a924da9458eb77c6ba71f8
              "    <div class=\"colab-df-container\">\n",
              "      <div>\n",
              "<style scoped>\n",
              "    .dataframe tbody tr th:only-of-type {\n",
              "        vertical-align: middle;\n",
              "    }\n",
              "\n",
              "    .dataframe tbody tr th {\n",
              "        vertical-align: top;\n",
              "    }\n",
              "\n",
              "    .dataframe thead th {\n",
              "        text-align: right;\n",
              "    }\n",
              "</style>\n",
              "<table border=\"1\" class=\"dataframe\">\n",
              "  <thead>\n",
              "    <tr style=\"text-align: right;\">\n",
              "      <th></th>\n",
              "      <th>id_prod</th>\n",
              "      <th>date</th>\n",
              "      <th>session_id</th>\n",
              "      <th>client_id</th>\n",
              "      <th>price</th>\n",
              "      <th>categ</th>\n",
              "      <th>_merge</th>\n",
              "    </tr>\n",
              "  </thead>\n",
              "  <tbody>\n",
              "    <tr>\n",
              "      <th>542560</th>\n",
              "      <td>0_2245</td>\n",
              "      <td>2022-09-23 07:22:38.636773</td>\n",
              "      <td>s_272266</td>\n",
              "      <td>c_4746</td>\n",
              "      <td>NaN</td>\n",
              "      <td>NaN</td>\n",
              "      <td>left_only</td>\n",
              "    </tr>\n",
              "    <tr>\n",
              "      <th>542561</th>\n",
              "      <td>0_2245</td>\n",
              "      <td>2022-07-23 09:24:14.133889</td>\n",
              "      <td>s_242482</td>\n",
              "      <td>c_6713</td>\n",
              "      <td>NaN</td>\n",
              "      <td>NaN</td>\n",
              "      <td>left_only</td>\n",
              "    </tr>\n",
              "    <tr>\n",
              "      <th>542562</th>\n",
              "      <td>0_2245</td>\n",
              "      <td>2022-12-03 03:26:35.696673</td>\n",
              "      <td>s_306338</td>\n",
              "      <td>c_5108</td>\n",
              "      <td>NaN</td>\n",
              "      <td>NaN</td>\n",
              "      <td>left_only</td>\n",
              "    </tr>\n",
              "    <tr>\n",
              "      <th>542563</th>\n",
              "      <td>0_2245</td>\n",
              "      <td>2021-08-16 11:33:25.481411</td>\n",
              "      <td>s_76493</td>\n",
              "      <td>c_1391</td>\n",
              "      <td>NaN</td>\n",
              "      <td>NaN</td>\n",
              "      <td>left_only</td>\n",
              "    </tr>\n",
              "    <tr>\n",
              "      <th>542564</th>\n",
              "      <td>0_2245</td>\n",
              "      <td>2022-07-16 05:53:01.627491</td>\n",
              "      <td>s_239078</td>\n",
              "      <td>c_7954</td>\n",
              "      <td>NaN</td>\n",
              "      <td>NaN</td>\n",
              "      <td>left_only</td>\n",
              "    </tr>\n",
              "    <tr>\n",
              "      <th>...</th>\n",
              "      <td>...</td>\n",
              "      <td>...</td>\n",
              "      <td>...</td>\n",
              "      <td>...</td>\n",
              "      <td>...</td>\n",
              "      <td>...</td>\n",
              "      <td>...</td>\n",
              "    </tr>\n",
              "    <tr>\n",
              "      <th>542776</th>\n",
              "      <td>0_2245</td>\n",
              "      <td>2021-08-25 09:06:03.504061</td>\n",
              "      <td>s_80395</td>\n",
              "      <td>c_131</td>\n",
              "      <td>NaN</td>\n",
              "      <td>NaN</td>\n",
              "      <td>left_only</td>\n",
              "    </tr>\n",
              "    <tr>\n",
              "      <th>542777</th>\n",
              "      <td>0_2245</td>\n",
              "      <td>2022-03-06 19:59:19.462288</td>\n",
              "      <td>s_175311</td>\n",
              "      <td>c_4167</td>\n",
              "      <td>NaN</td>\n",
              "      <td>NaN</td>\n",
              "      <td>left_only</td>\n",
              "    </tr>\n",
              "    <tr>\n",
              "      <th>542778</th>\n",
              "      <td>0_2245</td>\n",
              "      <td>2022-05-16 11:35:20.319501</td>\n",
              "      <td>s_209381</td>\n",
              "      <td>c_4453</td>\n",
              "      <td>NaN</td>\n",
              "      <td>NaN</td>\n",
              "      <td>left_only</td>\n",
              "    </tr>\n",
              "    <tr>\n",
              "      <th>542779</th>\n",
              "      <td>0_2245</td>\n",
              "      <td>2022-02-11 09:05:43.952857</td>\n",
              "      <td>s_163405</td>\n",
              "      <td>c_1098</td>\n",
              "      <td>NaN</td>\n",
              "      <td>NaN</td>\n",
              "      <td>left_only</td>\n",
              "    </tr>\n",
              "    <tr>\n",
              "      <th>542780</th>\n",
              "      <td>0_2245</td>\n",
              "      <td>2021-12-14 22:34:54.589921</td>\n",
              "      <td>s_134446</td>\n",
              "      <td>c_4854</td>\n",
              "      <td>NaN</td>\n",
              "      <td>NaN</td>\n",
              "      <td>left_only</td>\n",
              "    </tr>\n",
              "  </tbody>\n",
              "</table>\n",
              "<p>221 rows × 7 columns</p>\n",
              "</div>\n",
<<<<<<< HEAD
              "      <button class=\"colab-df-convert\" onclick=\"convertToInteractive('df-d9236997-1ea4-4413-8c40-d6e52b5554c1')\"\n",
=======
              "      <button class=\"colab-df-convert\" onclick=\"convertToInteractive('df-9e3582cb-e39a-46ce-bac4-e00e5fad08b4')\"\n",
>>>>>>> b1bb7d9103775de018a924da9458eb77c6ba71f8
              "              title=\"Convert this dataframe to an interactive table.\"\n",
              "              style=\"display:none;\">\n",
              "        \n",
              "  <svg xmlns=\"http://www.w3.org/2000/svg\" height=\"24px\"viewBox=\"0 0 24 24\"\n",
              "       width=\"24px\">\n",
              "    <path d=\"M0 0h24v24H0V0z\" fill=\"none\"/>\n",
              "    <path d=\"M18.56 5.44l.94 2.06.94-2.06 2.06-.94-2.06-.94-.94-2.06-.94 2.06-2.06.94zm-11 1L8.5 8.5l.94-2.06 2.06-.94-2.06-.94L8.5 2.5l-.94 2.06-2.06.94zm10 10l.94 2.06.94-2.06 2.06-.94-2.06-.94-.94-2.06-.94 2.06-2.06.94z\"/><path d=\"M17.41 7.96l-1.37-1.37c-.4-.4-.92-.59-1.43-.59-.52 0-1.04.2-1.43.59L10.3 9.45l-7.72 7.72c-.78.78-.78 2.05 0 2.83L4 21.41c.39.39.9.59 1.41.59.51 0 1.02-.2 1.41-.59l7.78-7.78 2.81-2.81c.8-.78.8-2.07 0-2.86zM5.41 20L4 18.59l7.72-7.72 1.47 1.35L5.41 20z\"/>\n",
              "  </svg>\n",
              "      </button>\n",
              "      \n",
              "  <style>\n",
              "    .colab-df-container {\n",
              "      display:flex;\n",
              "      flex-wrap:wrap;\n",
              "      gap: 12px;\n",
              "    }\n",
              "\n",
              "    .colab-df-convert {\n",
              "      background-color: #E8F0FE;\n",
              "      border: none;\n",
              "      border-radius: 50%;\n",
              "      cursor: pointer;\n",
              "      display: none;\n",
              "      fill: #1967D2;\n",
              "      height: 32px;\n",
              "      padding: 0 0 0 0;\n",
              "      width: 32px;\n",
              "    }\n",
              "\n",
              "    .colab-df-convert:hover {\n",
              "      background-color: #E2EBFA;\n",
              "      box-shadow: 0px 1px 2px rgba(60, 64, 67, 0.3), 0px 1px 3px 1px rgba(60, 64, 67, 0.15);\n",
              "      fill: #174EA6;\n",
              "    }\n",
              "\n",
              "    [theme=dark] .colab-df-convert {\n",
              "      background-color: #3B4455;\n",
              "      fill: #D2E3FC;\n",
              "    }\n",
              "\n",
              "    [theme=dark] .colab-df-convert:hover {\n",
              "      background-color: #434B5C;\n",
              "      box-shadow: 0px 1px 3px 1px rgba(0, 0, 0, 0.15);\n",
              "      filter: drop-shadow(0px 1px 2px rgba(0, 0, 0, 0.3));\n",
              "      fill: #FFFFFF;\n",
              "    }\n",
              "  </style>\n",
              "\n",
              "      <script>\n",
              "        const buttonEl =\n",
<<<<<<< HEAD
              "          document.querySelector('#df-d9236997-1ea4-4413-8c40-d6e52b5554c1 button.colab-df-convert');\n",
=======
              "          document.querySelector('#df-9e3582cb-e39a-46ce-bac4-e00e5fad08b4 button.colab-df-convert');\n",
>>>>>>> b1bb7d9103775de018a924da9458eb77c6ba71f8
              "        buttonEl.style.display =\n",
              "          google.colab.kernel.accessAllowed ? 'block' : 'none';\n",
              "\n",
              "        async function convertToInteractive(key) {\n",
<<<<<<< HEAD
              "          const element = document.querySelector('#df-d9236997-1ea4-4413-8c40-d6e52b5554c1');\n",
=======
              "          const element = document.querySelector('#df-9e3582cb-e39a-46ce-bac4-e00e5fad08b4');\n",
>>>>>>> b1bb7d9103775de018a924da9458eb77c6ba71f8
              "          const dataTable =\n",
              "            await google.colab.kernel.invokeFunction('convertToInteractive',\n",
              "                                                     [key], {});\n",
              "          if (!dataTable) return;\n",
              "\n",
              "          const docLinkHtml = 'Like what you see? Visit the ' +\n",
              "            '<a target=\"_blank\" href=https://colab.research.google.com/notebooks/data_table.ipynb>data table notebook</a>'\n",
              "            + ' to learn more about interactive tables.';\n",
              "          element.innerHTML = '';\n",
              "          dataTable['output_type'] = 'display_data';\n",
              "          await google.colab.output.renderOutput(dataTable, element);\n",
              "          const docLink = document.createElement('div');\n",
              "          docLink.innerHTML = docLinkHtml;\n",
              "          element.appendChild(docLink);\n",
              "        }\n",
              "      </script>\n",
              "    </div>\n",
              "  </div>\n",
              "  "
            ],
            "text/plain": [
              "       id_prod                        date session_id  ... price  categ     _merge\n",
              "542560  0_2245  2022-09-23 07:22:38.636773   s_272266  ...   NaN    NaN  left_only\n",
              "542561  0_2245  2022-07-23 09:24:14.133889   s_242482  ...   NaN    NaN  left_only\n",
              "542562  0_2245  2022-12-03 03:26:35.696673   s_306338  ...   NaN    NaN  left_only\n",
              "542563  0_2245  2021-08-16 11:33:25.481411    s_76493  ...   NaN    NaN  left_only\n",
              "542564  0_2245  2022-07-16 05:53:01.627491   s_239078  ...   NaN    NaN  left_only\n",
              "...        ...                         ...        ...  ...   ...    ...        ...\n",
              "542776  0_2245  2021-08-25 09:06:03.504061    s_80395  ...   NaN    NaN  left_only\n",
              "542777  0_2245  2022-03-06 19:59:19.462288   s_175311  ...   NaN    NaN  left_only\n",
              "542778  0_2245  2022-05-16 11:35:20.319501   s_209381  ...   NaN    NaN  left_only\n",
              "542779  0_2245  2022-02-11 09:05:43.952857   s_163405  ...   NaN    NaN  left_only\n",
              "542780  0_2245  2021-12-14 22:34:54.589921   s_134446  ...   NaN    NaN  left_only\n",
              "\n",
              "[221 rows x 7 columns]"
            ]
          },
          "metadata": {},
          "execution_count": 14
        }
      ]
    },
    {
      "cell_type": "code",
      "source": [
        "# Création du df_transactions_products\n",
        "df_transactions_products = df_transactions.merge(df_products, how=\"left\", on=\"id_prod\")\n",
        "df_categ0 = df_transactions_products[(df_transactions_products.categ==0)== True]\n",
        "fill_price = df_categ0.price.mean()\n",
        "df_transactions_products.price.fillna(fill_price, inplace=True)\n",
        "df_transactions_products.categ.fillna(0, inplace=True)\n",
        "print(fill_price,\"\\n\")\n",
        "cl.watch(df_transactions_products)\n",
        "df_transactions_products"
      ],
      "metadata": {
        "colab": {
          "base_uri": "https://localhost:8080/",
          "height": 1000
        },
        "id": "05Alf5SiXTUw",
<<<<<<< HEAD
        "outputId": "60c1bd13-269d-4caa-9123-3307f8d6ae8d"
=======
        "outputId": "057bcc08-7b94-4763-8423-910737224c26"
>>>>>>> b1bb7d9103775de018a924da9458eb77c6ba71f8
      },
      "execution_count": 15,
      "outputs": [
        {
          "output_type": "stream",
          "name": "stdout",
          "text": [
            "10.638188052306713 \n",
            "\n",
            "No duplicate and no null DATA \n",
            "\n",
            "Total missing value \n",
            " \n",
            " id_prod       0\n",
            "date          0\n",
            "session_id    0\n",
            "client_id     0\n",
            "price         0\n",
            "categ         0\n",
            "dtype: int64 \n",
            "\n",
            "Percentage of missing value \n",
            " \n",
            " id_prod       0.0\n",
            "date          0.0\n",
            "session_id    0.0\n",
            "client_id     0.0\n",
            "price         0.0\n",
            "categ         0.0\n",
            "dtype: float64 \n",
            "\n",
            "Empty DataFrame\n",
            "Columns: [id_prod, date, session_id, client_id, price, categ]\n",
            "Index: [] \n",
            "\n"
          ]
        },
        {
          "output_type": "execute_result",
          "data": {
            "text/html": [
              "\n",
<<<<<<< HEAD
              "  <div id=\"df-78cba89d-6913-4736-945f-0dcd3091ae2b\">\n",
=======
              "  <div id=\"df-a3dadcb0-ad4f-4613-a1ba-eb336cb6122a\">\n",
>>>>>>> b1bb7d9103775de018a924da9458eb77c6ba71f8
              "    <div class=\"colab-df-container\">\n",
              "      <div>\n",
              "<style scoped>\n",
              "    .dataframe tbody tr th:only-of-type {\n",
              "        vertical-align: middle;\n",
              "    }\n",
              "\n",
              "    .dataframe tbody tr th {\n",
              "        vertical-align: top;\n",
              "    }\n",
              "\n",
              "    .dataframe thead th {\n",
              "        text-align: right;\n",
              "    }\n",
              "</style>\n",
              "<table border=\"1\" class=\"dataframe\">\n",
              "  <thead>\n",
              "    <tr style=\"text-align: right;\">\n",
              "      <th></th>\n",
              "      <th>id_prod</th>\n",
              "      <th>date</th>\n",
              "      <th>session_id</th>\n",
              "      <th>client_id</th>\n",
              "      <th>price</th>\n",
              "      <th>categ</th>\n",
              "    </tr>\n",
              "  </thead>\n",
              "  <tbody>\n",
              "    <tr>\n",
              "      <th>0</th>\n",
              "      <td>0_1518</td>\n",
              "      <td>2022-05-20 13:21:29.043970</td>\n",
              "      <td>s_211425</td>\n",
              "      <td>c_103</td>\n",
              "      <td>4.18</td>\n",
              "      <td>0.0</td>\n",
              "    </tr>\n",
              "    <tr>\n",
              "      <th>1</th>\n",
              "      <td>1_251</td>\n",
              "      <td>2022-02-02 07:55:19.149409</td>\n",
              "      <td>s_158752</td>\n",
              "      <td>c_8534</td>\n",
              "      <td>15.99</td>\n",
              "      <td>1.0</td>\n",
              "    </tr>\n",
              "    <tr>\n",
              "      <th>2</th>\n",
              "      <td>0_1277</td>\n",
              "      <td>2022-06-18 15:44:33.155329</td>\n",
              "      <td>s_225667</td>\n",
              "      <td>c_6714</td>\n",
              "      <td>7.99</td>\n",
              "      <td>0.0</td>\n",
              "    </tr>\n",
              "    <tr>\n",
              "      <th>3</th>\n",
              "      <td>2_209</td>\n",
              "      <td>2021-06-24 04:19:29.835891</td>\n",
              "      <td>s_52962</td>\n",
              "      <td>c_6941</td>\n",
              "      <td>69.99</td>\n",
              "      <td>2.0</td>\n",
              "    </tr>\n",
              "    <tr>\n",
              "      <th>4</th>\n",
              "      <td>0_1509</td>\n",
              "      <td>2023-01-11 08:22:08.194479</td>\n",
              "      <td>s_325227</td>\n",
              "      <td>c_4232</td>\n",
              "      <td>4.99</td>\n",
              "      <td>0.0</td>\n",
              "    </tr>\n",
              "    <tr>\n",
              "      <th>...</th>\n",
              "      <td>...</td>\n",
              "      <td>...</td>\n",
              "      <td>...</td>\n",
              "      <td>...</td>\n",
              "      <td>...</td>\n",
              "      <td>...</td>\n",
              "    </tr>\n",
              "    <tr>\n",
              "      <th>679327</th>\n",
              "      <td>0_1551</td>\n",
              "      <td>2022-01-15 13:05:06.246925</td>\n",
              "      <td>s_150195</td>\n",
              "      <td>c_8489</td>\n",
              "      <td>12.99</td>\n",
              "      <td>0.0</td>\n",
              "    </tr>\n",
              "    <tr>\n",
              "      <th>679328</th>\n",
              "      <td>1_639</td>\n",
              "      <td>2022-03-19 16:03:23.429229</td>\n",
              "      <td>s_181434</td>\n",
              "      <td>c_4370</td>\n",
              "      <td>10.99</td>\n",
              "      <td>1.0</td>\n",
              "    </tr>\n",
              "    <tr>\n",
              "      <th>679329</th>\n",
              "      <td>0_1425</td>\n",
              "      <td>2022-12-20 04:33:37.584749</td>\n",
              "      <td>s_314704</td>\n",
              "      <td>c_304</td>\n",
              "      <td>12.99</td>\n",
              "      <td>0.0</td>\n",
              "    </tr>\n",
              "    <tr>\n",
              "      <th>679330</th>\n",
              "      <td>0_1994</td>\n",
              "      <td>2021-07-16 20:36:35.350579</td>\n",
              "      <td>s_63204</td>\n",
              "      <td>c_2227</td>\n",
              "      <td>4.98</td>\n",
              "      <td>0.0</td>\n",
              "    </tr>\n",
              "    <tr>\n",
              "      <th>679331</th>\n",
              "      <td>1_523</td>\n",
              "      <td>2022-09-28 01:12:01.973763</td>\n",
              "      <td>s_274568</td>\n",
              "      <td>c_3873</td>\n",
              "      <td>23.99</td>\n",
              "      <td>1.0</td>\n",
              "    </tr>\n",
              "  </tbody>\n",
              "</table>\n",
              "<p>679332 rows × 6 columns</p>\n",
              "</div>\n",
<<<<<<< HEAD
              "      <button class=\"colab-df-convert\" onclick=\"convertToInteractive('df-78cba89d-6913-4736-945f-0dcd3091ae2b')\"\n",
=======
              "      <button class=\"colab-df-convert\" onclick=\"convertToInteractive('df-a3dadcb0-ad4f-4613-a1ba-eb336cb6122a')\"\n",
>>>>>>> b1bb7d9103775de018a924da9458eb77c6ba71f8
              "              title=\"Convert this dataframe to an interactive table.\"\n",
              "              style=\"display:none;\">\n",
              "        \n",
              "  <svg xmlns=\"http://www.w3.org/2000/svg\" height=\"24px\"viewBox=\"0 0 24 24\"\n",
              "       width=\"24px\">\n",
              "    <path d=\"M0 0h24v24H0V0z\" fill=\"none\"/>\n",
              "    <path d=\"M18.56 5.44l.94 2.06.94-2.06 2.06-.94-2.06-.94-.94-2.06-.94 2.06-2.06.94zm-11 1L8.5 8.5l.94-2.06 2.06-.94-2.06-.94L8.5 2.5l-.94 2.06-2.06.94zm10 10l.94 2.06.94-2.06 2.06-.94-2.06-.94-.94-2.06-.94 2.06-2.06.94z\"/><path d=\"M17.41 7.96l-1.37-1.37c-.4-.4-.92-.59-1.43-.59-.52 0-1.04.2-1.43.59L10.3 9.45l-7.72 7.72c-.78.78-.78 2.05 0 2.83L4 21.41c.39.39.9.59 1.41.59.51 0 1.02-.2 1.41-.59l7.78-7.78 2.81-2.81c.8-.78.8-2.07 0-2.86zM5.41 20L4 18.59l7.72-7.72 1.47 1.35L5.41 20z\"/>\n",
              "  </svg>\n",
              "      </button>\n",
              "      \n",
              "  <style>\n",
              "    .colab-df-container {\n",
              "      display:flex;\n",
              "      flex-wrap:wrap;\n",
              "      gap: 12px;\n",
              "    }\n",
              "\n",
              "    .colab-df-convert {\n",
              "      background-color: #E8F0FE;\n",
              "      border: none;\n",
              "      border-radius: 50%;\n",
              "      cursor: pointer;\n",
              "      display: none;\n",
              "      fill: #1967D2;\n",
              "      height: 32px;\n",
              "      padding: 0 0 0 0;\n",
              "      width: 32px;\n",
              "    }\n",
              "\n",
              "    .colab-df-convert:hover {\n",
              "      background-color: #E2EBFA;\n",
              "      box-shadow: 0px 1px 2px rgba(60, 64, 67, 0.3), 0px 1px 3px 1px rgba(60, 64, 67, 0.15);\n",
              "      fill: #174EA6;\n",
              "    }\n",
              "\n",
              "    [theme=dark] .colab-df-convert {\n",
              "      background-color: #3B4455;\n",
              "      fill: #D2E3FC;\n",
              "    }\n",
              "\n",
              "    [theme=dark] .colab-df-convert:hover {\n",
              "      background-color: #434B5C;\n",
              "      box-shadow: 0px 1px 3px 1px rgba(0, 0, 0, 0.15);\n",
              "      filter: drop-shadow(0px 1px 2px rgba(0, 0, 0, 0.3));\n",
              "      fill: #FFFFFF;\n",
              "    }\n",
              "  </style>\n",
              "\n",
              "      <script>\n",
              "        const buttonEl =\n",
<<<<<<< HEAD
              "          document.querySelector('#df-78cba89d-6913-4736-945f-0dcd3091ae2b button.colab-df-convert');\n",
=======
              "          document.querySelector('#df-a3dadcb0-ad4f-4613-a1ba-eb336cb6122a button.colab-df-convert');\n",
>>>>>>> b1bb7d9103775de018a924da9458eb77c6ba71f8
              "        buttonEl.style.display =\n",
              "          google.colab.kernel.accessAllowed ? 'block' : 'none';\n",
              "\n",
              "        async function convertToInteractive(key) {\n",
<<<<<<< HEAD
              "          const element = document.querySelector('#df-78cba89d-6913-4736-945f-0dcd3091ae2b');\n",
=======
              "          const element = document.querySelector('#df-a3dadcb0-ad4f-4613-a1ba-eb336cb6122a');\n",
>>>>>>> b1bb7d9103775de018a924da9458eb77c6ba71f8
              "          const dataTable =\n",
              "            await google.colab.kernel.invokeFunction('convertToInteractive',\n",
              "                                                     [key], {});\n",
              "          if (!dataTable) return;\n",
              "\n",
              "          const docLinkHtml = 'Like what you see? Visit the ' +\n",
              "            '<a target=\"_blank\" href=https://colab.research.google.com/notebooks/data_table.ipynb>data table notebook</a>'\n",
              "            + ' to learn more about interactive tables.';\n",
              "          element.innerHTML = '';\n",
              "          dataTable['output_type'] = 'display_data';\n",
              "          await google.colab.output.renderOutput(dataTable, element);\n",
              "          const docLink = document.createElement('div');\n",
              "          docLink.innerHTML = docLinkHtml;\n",
              "          element.appendChild(docLink);\n",
              "        }\n",
              "      </script>\n",
              "    </div>\n",
              "  </div>\n",
              "  "
            ],
            "text/plain": [
              "       id_prod                        date session_id client_id  price  categ\n",
              "0       0_1518  2022-05-20 13:21:29.043970   s_211425     c_103   4.18    0.0\n",
              "1        1_251  2022-02-02 07:55:19.149409   s_158752    c_8534  15.99    1.0\n",
              "2       0_1277  2022-06-18 15:44:33.155329   s_225667    c_6714   7.99    0.0\n",
              "3        2_209  2021-06-24 04:19:29.835891    s_52962    c_6941  69.99    2.0\n",
              "4       0_1509  2023-01-11 08:22:08.194479   s_325227    c_4232   4.99    0.0\n",
              "...        ...                         ...        ...       ...    ...    ...\n",
              "679327  0_1551  2022-01-15 13:05:06.246925   s_150195    c_8489  12.99    0.0\n",
              "679328   1_639  2022-03-19 16:03:23.429229   s_181434    c_4370  10.99    1.0\n",
              "679329  0_1425  2022-12-20 04:33:37.584749   s_314704     c_304  12.99    0.0\n",
              "679330  0_1994  2021-07-16 20:36:35.350579    s_63204    c_2227   4.98    0.0\n",
              "679331   1_523  2022-09-28 01:12:01.973763   s_274568    c_3873  23.99    1.0\n",
              "\n",
              "[679332 rows x 6 columns]"
            ]
          },
          "metadata": {},
          "execution_count": 15
        },
        {
          "output_type": "display_data",
          "data": {
            "image/png": "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\n",
            "text/plain": [
              "<Figure size 432x432 with 1 Axes>"
            ]
          },
          "metadata": {
            "needs_background": "light"
          }
        }
      ]
    },
    {
      "cell_type": "code",
      "source": [
        "# Je garde quand même un data frame du problème d'id_prod\n",
        "df_issue_id_prod = cl.keep(df_transactions_products, \"id_prod\", \"0_2245\")"
      ],
      "metadata": {
        "id": "qXjAvAK3_w0L"
      },
      "execution_count": 16,
      "outputs": []
    },
    {
      "cell_type": "code",
      "source": [
        "df_verification_library = df_transactions_products.merge(df_customers, on=\"client_id\", how=\"outer\", indicator=True)\n",
        "print(df_verification_library._merge.unique())"
      ],
      "metadata": {
        "id": "phwqvp_h6ZNv",
        "colab": {
          "base_uri": "https://localhost:8080/"
        },
<<<<<<< HEAD
        "outputId": "6e23eded-2088-4a41-c39c-9b12f4d4aeb0"
=======
        "outputId": "721b412d-0ffa-4f47-9a94-3dcc2470f7b6"
>>>>>>> b1bb7d9103775de018a924da9458eb77c6ba71f8
      },
      "execution_count": 17,
      "outputs": [
        {
          "output_type": "stream",
          "name": "stdout",
          "text": [
            "['both', 'right_only']\n",
            "Categories (3, object): ['left_only', 'right_only', 'both']\n"
          ]
        }
      ]
    },
    {
      "cell_type": "code",
      "source": [
        "df_right = df_verification_library[(df_verification_library._merge == \"right_only\")==True]\n",
        "print(df_right.shape)\n",
        "df_right\n",
        "# il n'y a que 23 rows, de plus il n'y a pas de date sur ces données, ce qui va poser problème"
      ],
      "metadata": {
        "id": "uYOHqTuIqgfg",
        "colab": {
          "base_uri": "https://localhost:8080/",
          "height": 788
        },
<<<<<<< HEAD
        "outputId": "e95d68aa-61c1-46eb-9a93-e137530490d7"
=======
        "outputId": "9a42abcb-49ef-44d6-bddc-bcf5873205c6"
>>>>>>> b1bb7d9103775de018a924da9458eb77c6ba71f8
      },
      "execution_count": 18,
      "outputs": [
        {
          "output_type": "stream",
          "name": "stdout",
          "text": [
            "(23, 9)\n"
          ]
        },
        {
          "output_type": "execute_result",
          "data": {
            "text/html": [
              "\n",
<<<<<<< HEAD
              "  <div id=\"df-b3c846b7-ecf9-41eb-93c1-28598361f641\">\n",
=======
              "  <div id=\"df-4414d79e-200d-49cf-8783-3f5a1b8ad395\">\n",
>>>>>>> b1bb7d9103775de018a924da9458eb77c6ba71f8
              "    <div class=\"colab-df-container\">\n",
              "      <div>\n",
              "<style scoped>\n",
              "    .dataframe tbody tr th:only-of-type {\n",
              "        vertical-align: middle;\n",
              "    }\n",
              "\n",
              "    .dataframe tbody tr th {\n",
              "        vertical-align: top;\n",
              "    }\n",
              "\n",
              "    .dataframe thead th {\n",
              "        text-align: right;\n",
              "    }\n",
              "</style>\n",
              "<table border=\"1\" class=\"dataframe\">\n",
              "  <thead>\n",
              "    <tr style=\"text-align: right;\">\n",
              "      <th></th>\n",
              "      <th>id_prod</th>\n",
              "      <th>date</th>\n",
              "      <th>session_id</th>\n",
              "      <th>client_id</th>\n",
              "      <th>price</th>\n",
              "      <th>categ</th>\n",
              "      <th>sex</th>\n",
              "      <th>birth</th>\n",
              "      <th>_merge</th>\n",
              "    </tr>\n",
              "  </thead>\n",
              "  <tbody>\n",
              "    <tr>\n",
              "      <th>679332</th>\n",
              "      <td>NaN</td>\n",
              "      <td>NaN</td>\n",
              "      <td>NaN</td>\n",
              "      <td>c_8253</td>\n",
              "      <td>NaN</td>\n",
              "      <td>NaN</td>\n",
              "      <td>f</td>\n",
              "      <td>2001</td>\n",
              "      <td>right_only</td>\n",
              "    </tr>\n",
              "    <tr>\n",
              "      <th>679333</th>\n",
              "      <td>NaN</td>\n",
              "      <td>NaN</td>\n",
              "      <td>NaN</td>\n",
              "      <td>c_3789</td>\n",
              "      <td>NaN</td>\n",
              "      <td>NaN</td>\n",
              "      <td>f</td>\n",
              "      <td>1997</td>\n",
              "      <td>right_only</td>\n",
              "    </tr>\n",
              "    <tr>\n",
              "      <th>679334</th>\n",
              "      <td>NaN</td>\n",
              "      <td>NaN</td>\n",
              "      <td>NaN</td>\n",
              "      <td>c_4406</td>\n",
              "      <td>NaN</td>\n",
              "      <td>NaN</td>\n",
              "      <td>f</td>\n",
              "      <td>1998</td>\n",
              "      <td>right_only</td>\n",
              "    </tr>\n",
              "    <tr>\n",
              "      <th>679335</th>\n",
              "      <td>NaN</td>\n",
              "      <td>NaN</td>\n",
              "      <td>NaN</td>\n",
              "      <td>ct_0</td>\n",
              "      <td>NaN</td>\n",
              "      <td>NaN</td>\n",
              "      <td>f</td>\n",
              "      <td>2001</td>\n",
              "      <td>right_only</td>\n",
              "    </tr>\n",
              "    <tr>\n",
              "      <th>679336</th>\n",
              "      <td>NaN</td>\n",
              "      <td>NaN</td>\n",
              "      <td>NaN</td>\n",
              "      <td>c_2706</td>\n",
              "      <td>NaN</td>\n",
              "      <td>NaN</td>\n",
              "      <td>f</td>\n",
              "      <td>1967</td>\n",
              "      <td>right_only</td>\n",
              "    </tr>\n",
              "    <tr>\n",
              "      <th>679337</th>\n",
              "      <td>NaN</td>\n",
              "      <td>NaN</td>\n",
              "      <td>NaN</td>\n",
              "      <td>c_3443</td>\n",
              "      <td>NaN</td>\n",
              "      <td>NaN</td>\n",
              "      <td>m</td>\n",
              "      <td>1959</td>\n",
              "      <td>right_only</td>\n",
              "    </tr>\n",
              "    <tr>\n",
              "      <th>679338</th>\n",
              "      <td>NaN</td>\n",
              "      <td>NaN</td>\n",
              "      <td>NaN</td>\n",
              "      <td>c_4447</td>\n",
              "      <td>NaN</td>\n",
              "      <td>NaN</td>\n",
              "      <td>m</td>\n",
              "      <td>1956</td>\n",
              "      <td>right_only</td>\n",
              "    </tr>\n",
              "    <tr>\n",
              "      <th>679339</th>\n",
              "      <td>NaN</td>\n",
              "      <td>NaN</td>\n",
              "      <td>NaN</td>\n",
              "      <td>c_3017</td>\n",
              "      <td>NaN</td>\n",
              "      <td>NaN</td>\n",
              "      <td>f</td>\n",
              "      <td>1992</td>\n",
              "      <td>right_only</td>\n",
              "    </tr>\n",
              "    <tr>\n",
              "      <th>679340</th>\n",
              "      <td>NaN</td>\n",
              "      <td>NaN</td>\n",
              "      <td>NaN</td>\n",
              "      <td>c_4086</td>\n",
              "      <td>NaN</td>\n",
              "      <td>NaN</td>\n",
              "      <td>f</td>\n",
              "      <td>1992</td>\n",
              "      <td>right_only</td>\n",
              "    </tr>\n",
              "    <tr>\n",
              "      <th>679341</th>\n",
              "      <td>NaN</td>\n",
              "      <td>NaN</td>\n",
              "      <td>NaN</td>\n",
              "      <td>c_6930</td>\n",
              "      <td>NaN</td>\n",
              "      <td>NaN</td>\n",
              "      <td>m</td>\n",
              "      <td>2004</td>\n",
              "      <td>right_only</td>\n",
              "    </tr>\n",
              "    <tr>\n",
              "      <th>679342</th>\n",
              "      <td>NaN</td>\n",
              "      <td>NaN</td>\n",
              "      <td>NaN</td>\n",
              "      <td>c_4358</td>\n",
              "      <td>NaN</td>\n",
              "      <td>NaN</td>\n",
              "      <td>m</td>\n",
              "      <td>1999</td>\n",
              "      <td>right_only</td>\n",
              "    </tr>\n",
              "    <tr>\n",
              "      <th>679343</th>\n",
              "      <td>NaN</td>\n",
              "      <td>NaN</td>\n",
              "      <td>NaN</td>\n",
              "      <td>c_8381</td>\n",
              "      <td>NaN</td>\n",
              "      <td>NaN</td>\n",
              "      <td>f</td>\n",
              "      <td>1965</td>\n",
              "      <td>right_only</td>\n",
              "    </tr>\n",
              "    <tr>\n",
              "      <th>679344</th>\n",
              "      <td>NaN</td>\n",
              "      <td>NaN</td>\n",
              "      <td>NaN</td>\n",
              "      <td>c_1223</td>\n",
              "      <td>NaN</td>\n",
              "      <td>NaN</td>\n",
              "      <td>m</td>\n",
              "      <td>1963</td>\n",
              "      <td>right_only</td>\n",
              "    </tr>\n",
              "    <tr>\n",
              "      <th>679345</th>\n",
              "      <td>NaN</td>\n",
              "      <td>NaN</td>\n",
              "      <td>NaN</td>\n",
              "      <td>c_6862</td>\n",
              "      <td>NaN</td>\n",
              "      <td>NaN</td>\n",
              "      <td>f</td>\n",
              "      <td>2002</td>\n",
              "      <td>right_only</td>\n",
              "    </tr>\n",
              "    <tr>\n",
              "      <th>679346</th>\n",
              "      <td>NaN</td>\n",
              "      <td>NaN</td>\n",
              "      <td>NaN</td>\n",
              "      <td>c_5245</td>\n",
              "      <td>NaN</td>\n",
              "      <td>NaN</td>\n",
              "      <td>f</td>\n",
              "      <td>2004</td>\n",
              "      <td>right_only</td>\n",
              "    </tr>\n",
              "    <tr>\n",
              "      <th>679347</th>\n",
              "      <td>NaN</td>\n",
              "      <td>NaN</td>\n",
              "      <td>NaN</td>\n",
              "      <td>c_5223</td>\n",
              "      <td>NaN</td>\n",
              "      <td>NaN</td>\n",
              "      <td>m</td>\n",
              "      <td>2003</td>\n",
              "      <td>right_only</td>\n",
              "    </tr>\n",
              "    <tr>\n",
              "      <th>679348</th>\n",
              "      <td>NaN</td>\n",
              "      <td>NaN</td>\n",
              "      <td>NaN</td>\n",
              "      <td>c_6735</td>\n",
              "      <td>NaN</td>\n",
              "      <td>NaN</td>\n",
              "      <td>m</td>\n",
              "      <td>2004</td>\n",
              "      <td>right_only</td>\n",
              "    </tr>\n",
              "    <tr>\n",
              "      <th>679349</th>\n",
              "      <td>NaN</td>\n",
              "      <td>NaN</td>\n",
              "      <td>NaN</td>\n",
              "      <td>c_862</td>\n",
              "      <td>NaN</td>\n",
              "      <td>NaN</td>\n",
              "      <td>f</td>\n",
              "      <td>1956</td>\n",
              "      <td>right_only</td>\n",
              "    </tr>\n",
              "    <tr>\n",
              "      <th>679350</th>\n",
              "      <td>NaN</td>\n",
              "      <td>NaN</td>\n",
              "      <td>NaN</td>\n",
              "      <td>c_7584</td>\n",
              "      <td>NaN</td>\n",
              "      <td>NaN</td>\n",
              "      <td>f</td>\n",
              "      <td>1960</td>\n",
              "      <td>right_only</td>\n",
              "    </tr>\n",
              "    <tr>\n",
              "      <th>679351</th>\n",
              "      <td>NaN</td>\n",
              "      <td>NaN</td>\n",
              "      <td>NaN</td>\n",
              "      <td>c_90</td>\n",
              "      <td>NaN</td>\n",
              "      <td>NaN</td>\n",
              "      <td>m</td>\n",
              "      <td>2001</td>\n",
              "      <td>right_only</td>\n",
              "    </tr>\n",
              "    <tr>\n",
              "      <th>679352</th>\n",
              "      <td>NaN</td>\n",
              "      <td>NaN</td>\n",
              "      <td>NaN</td>\n",
              "      <td>c_587</td>\n",
              "      <td>NaN</td>\n",
              "      <td>NaN</td>\n",
              "      <td>m</td>\n",
              "      <td>1993</td>\n",
              "      <td>right_only</td>\n",
              "    </tr>\n",
              "    <tr>\n",
              "      <th>679353</th>\n",
              "      <td>NaN</td>\n",
              "      <td>NaN</td>\n",
              "      <td>NaN</td>\n",
              "      <td>ct_1</td>\n",
              "      <td>NaN</td>\n",
              "      <td>NaN</td>\n",
              "      <td>m</td>\n",
              "      <td>2001</td>\n",
              "      <td>right_only</td>\n",
              "    </tr>\n",
              "    <tr>\n",
              "      <th>679354</th>\n",
              "      <td>NaN</td>\n",
              "      <td>NaN</td>\n",
              "      <td>NaN</td>\n",
              "      <td>c_3526</td>\n",
              "      <td>NaN</td>\n",
              "      <td>NaN</td>\n",
              "      <td>m</td>\n",
              "      <td>1956</td>\n",
              "      <td>right_only</td>\n",
              "    </tr>\n",
              "  </tbody>\n",
              "</table>\n",
              "</div>\n",
<<<<<<< HEAD
              "      <button class=\"colab-df-convert\" onclick=\"convertToInteractive('df-b3c846b7-ecf9-41eb-93c1-28598361f641')\"\n",
=======
              "      <button class=\"colab-df-convert\" onclick=\"convertToInteractive('df-4414d79e-200d-49cf-8783-3f5a1b8ad395')\"\n",
>>>>>>> b1bb7d9103775de018a924da9458eb77c6ba71f8
              "              title=\"Convert this dataframe to an interactive table.\"\n",
              "              style=\"display:none;\">\n",
              "        \n",
              "  <svg xmlns=\"http://www.w3.org/2000/svg\" height=\"24px\"viewBox=\"0 0 24 24\"\n",
              "       width=\"24px\">\n",
              "    <path d=\"M0 0h24v24H0V0z\" fill=\"none\"/>\n",
              "    <path d=\"M18.56 5.44l.94 2.06.94-2.06 2.06-.94-2.06-.94-.94-2.06-.94 2.06-2.06.94zm-11 1L8.5 8.5l.94-2.06 2.06-.94-2.06-.94L8.5 2.5l-.94 2.06-2.06.94zm10 10l.94 2.06.94-2.06 2.06-.94-2.06-.94-.94-2.06-.94 2.06-2.06.94z\"/><path d=\"M17.41 7.96l-1.37-1.37c-.4-.4-.92-.59-1.43-.59-.52 0-1.04.2-1.43.59L10.3 9.45l-7.72 7.72c-.78.78-.78 2.05 0 2.83L4 21.41c.39.39.9.59 1.41.59.51 0 1.02-.2 1.41-.59l7.78-7.78 2.81-2.81c.8-.78.8-2.07 0-2.86zM5.41 20L4 18.59l7.72-7.72 1.47 1.35L5.41 20z\"/>\n",
              "  </svg>\n",
              "      </button>\n",
              "      \n",
              "  <style>\n",
              "    .colab-df-container {\n",
              "      display:flex;\n",
              "      flex-wrap:wrap;\n",
              "      gap: 12px;\n",
              "    }\n",
              "\n",
              "    .colab-df-convert {\n",
              "      background-color: #E8F0FE;\n",
              "      border: none;\n",
              "      border-radius: 50%;\n",
              "      cursor: pointer;\n",
              "      display: none;\n",
              "      fill: #1967D2;\n",
              "      height: 32px;\n",
              "      padding: 0 0 0 0;\n",
              "      width: 32px;\n",
              "    }\n",
              "\n",
              "    .colab-df-convert:hover {\n",
              "      background-color: #E2EBFA;\n",
              "      box-shadow: 0px 1px 2px rgba(60, 64, 67, 0.3), 0px 1px 3px 1px rgba(60, 64, 67, 0.15);\n",
              "      fill: #174EA6;\n",
              "    }\n",
              "\n",
              "    [theme=dark] .colab-df-convert {\n",
              "      background-color: #3B4455;\n",
              "      fill: #D2E3FC;\n",
              "    }\n",
              "\n",
              "    [theme=dark] .colab-df-convert:hover {\n",
              "      background-color: #434B5C;\n",
              "      box-shadow: 0px 1px 3px 1px rgba(0, 0, 0, 0.15);\n",
              "      filter: drop-shadow(0px 1px 2px rgba(0, 0, 0, 0.3));\n",
              "      fill: #FFFFFF;\n",
              "    }\n",
              "  </style>\n",
              "\n",
              "      <script>\n",
              "        const buttonEl =\n",
<<<<<<< HEAD
              "          document.querySelector('#df-b3c846b7-ecf9-41eb-93c1-28598361f641 button.colab-df-convert');\n",
=======
              "          document.querySelector('#df-4414d79e-200d-49cf-8783-3f5a1b8ad395 button.colab-df-convert');\n",
>>>>>>> b1bb7d9103775de018a924da9458eb77c6ba71f8
              "        buttonEl.style.display =\n",
              "          google.colab.kernel.accessAllowed ? 'block' : 'none';\n",
              "\n",
              "        async function convertToInteractive(key) {\n",
<<<<<<< HEAD
              "          const element = document.querySelector('#df-b3c846b7-ecf9-41eb-93c1-28598361f641');\n",
=======
              "          const element = document.querySelector('#df-4414d79e-200d-49cf-8783-3f5a1b8ad395');\n",
>>>>>>> b1bb7d9103775de018a924da9458eb77c6ba71f8
              "          const dataTable =\n",
              "            await google.colab.kernel.invokeFunction('convertToInteractive',\n",
              "                                                     [key], {});\n",
              "          if (!dataTable) return;\n",
              "\n",
              "          const docLinkHtml = 'Like what you see? Visit the ' +\n",
              "            '<a target=\"_blank\" href=https://colab.research.google.com/notebooks/data_table.ipynb>data table notebook</a>'\n",
              "            + ' to learn more about interactive tables.';\n",
              "          element.innerHTML = '';\n",
              "          dataTable['output_type'] = 'display_data';\n",
              "          await google.colab.output.renderOutput(dataTable, element);\n",
              "          const docLink = document.createElement('div');\n",
              "          docLink.innerHTML = docLinkHtml;\n",
              "          element.appendChild(docLink);\n",
              "        }\n",
              "      </script>\n",
              "    </div>\n",
              "  </div>\n",
              "  "
            ],
            "text/plain": [
              "       id_prod date session_id client_id  price  categ sex  birth      _merge\n",
              "679332     NaN  NaN        NaN    c_8253    NaN    NaN   f   2001  right_only\n",
              "679333     NaN  NaN        NaN    c_3789    NaN    NaN   f   1997  right_only\n",
              "679334     NaN  NaN        NaN    c_4406    NaN    NaN   f   1998  right_only\n",
              "679335     NaN  NaN        NaN      ct_0    NaN    NaN   f   2001  right_only\n",
              "679336     NaN  NaN        NaN    c_2706    NaN    NaN   f   1967  right_only\n",
              "679337     NaN  NaN        NaN    c_3443    NaN    NaN   m   1959  right_only\n",
              "679338     NaN  NaN        NaN    c_4447    NaN    NaN   m   1956  right_only\n",
              "679339     NaN  NaN        NaN    c_3017    NaN    NaN   f   1992  right_only\n",
              "679340     NaN  NaN        NaN    c_4086    NaN    NaN   f   1992  right_only\n",
              "679341     NaN  NaN        NaN    c_6930    NaN    NaN   m   2004  right_only\n",
              "679342     NaN  NaN        NaN    c_4358    NaN    NaN   m   1999  right_only\n",
              "679343     NaN  NaN        NaN    c_8381    NaN    NaN   f   1965  right_only\n",
              "679344     NaN  NaN        NaN    c_1223    NaN    NaN   m   1963  right_only\n",
              "679345     NaN  NaN        NaN    c_6862    NaN    NaN   f   2002  right_only\n",
              "679346     NaN  NaN        NaN    c_5245    NaN    NaN   f   2004  right_only\n",
              "679347     NaN  NaN        NaN    c_5223    NaN    NaN   m   2003  right_only\n",
              "679348     NaN  NaN        NaN    c_6735    NaN    NaN   m   2004  right_only\n",
              "679349     NaN  NaN        NaN     c_862    NaN    NaN   f   1956  right_only\n",
              "679350     NaN  NaN        NaN    c_7584    NaN    NaN   f   1960  right_only\n",
              "679351     NaN  NaN        NaN      c_90    NaN    NaN   m   2001  right_only\n",
              "679352     NaN  NaN        NaN     c_587    NaN    NaN   m   1993  right_only\n",
              "679353     NaN  NaN        NaN      ct_1    NaN    NaN   m   2001  right_only\n",
              "679354     NaN  NaN        NaN    c_3526    NaN    NaN   m   1956  right_only"
            ]
          },
          "metadata": {},
          "execution_count": 18
        }
      ]
    },
    {
      "cell_type": "code",
      "source": [
        "df_library = df_transactions_products.merge(df_customers, on=\"client_id\", how=\"inner\")"
      ],
      "metadata": {
        "id": "lEjwlvF6iA9F"
      },
      "execution_count": 19,
      "outputs": []
    },
    {
      "cell_type": "code",
      "source": [
        "cl.watch(df_library)"
      ],
      "metadata": {
        "colab": {
          "base_uri": "https://localhost:8080/",
          "height": 941
        },
        "id": "yROWlGrPs5KH",
<<<<<<< HEAD
        "outputId": "48f8e3a2-a295-4b1d-cf60-982190990384"
=======
        "outputId": "251b15bc-426c-479b-e43c-9ad523a4e053"
>>>>>>> b1bb7d9103775de018a924da9458eb77c6ba71f8
      },
      "execution_count": 20,
      "outputs": [
        {
          "output_type": "stream",
          "name": "stdout",
          "text": [
            "No duplicate and no null DATA \n",
            "\n",
            "Total missing value \n",
            " \n",
            " id_prod       0\n",
            "date          0\n",
            "session_id    0\n",
            "client_id     0\n",
            "price         0\n",
            "categ         0\n",
            "sex           0\n",
            "birth         0\n",
            "dtype: int64 \n",
            "\n",
            "Percentage of missing value \n",
            " \n",
            " id_prod       0.0\n",
            "date          0.0\n",
            "session_id    0.0\n",
            "client_id     0.0\n",
            "price         0.0\n",
            "categ         0.0\n",
            "sex           0.0\n",
            "birth         0.0\n",
            "dtype: float64 \n",
            "\n",
            "Empty DataFrame\n",
            "Columns: [id_prod, date, session_id, client_id, price, categ, sex, birth]\n",
            "Index: [] \n",
            "\n"
          ]
        },
        {
          "output_type": "display_data",
          "data": {
            "image/png": "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\n",
            "text/plain": [
              "<Figure size 432x432 with 1 Axes>"
            ]
          },
          "metadata": {
            "needs_background": "light"
          }
        }
      ]
    },
    {
      "cell_type": "code",
      "source": [
        "df_library.describe()"
      ],
      "metadata": {
        "colab": {
          "base_uri": "https://localhost:8080/",
          "height": 300
        },
        "id": "mdhQjwErlBtE",
<<<<<<< HEAD
        "outputId": "3feb751b-13be-46e1-c93f-5be05a0dfde4"
      },
      "execution_count": 29,
=======
        "outputId": "bf4d9e18-61ce-4275-ec70-e33fbb774005"
      },
      "execution_count": 21,
>>>>>>> b1bb7d9103775de018a924da9458eb77c6ba71f8
      "outputs": [
        {
          "output_type": "execute_result",
          "data": {
            "text/html": [
              "\n",
<<<<<<< HEAD
              "  <div id=\"df-cd177725-4aea-4034-bde0-3ef17eb6a807\">\n",
=======
              "  <div id=\"df-79cfa468-12e0-4e7b-8ec9-15de7f8ccba3\">\n",
>>>>>>> b1bb7d9103775de018a924da9458eb77c6ba71f8
              "    <div class=\"colab-df-container\">\n",
              "      <div>\n",
              "<style scoped>\n",
              "    .dataframe tbody tr th:only-of-type {\n",
              "        vertical-align: middle;\n",
              "    }\n",
              "\n",
              "    .dataframe tbody tr th {\n",
              "        vertical-align: top;\n",
              "    }\n",
              "\n",
              "    .dataframe thead th {\n",
              "        text-align: right;\n",
              "    }\n",
              "</style>\n",
              "<table border=\"1\" class=\"dataframe\">\n",
              "  <thead>\n",
              "    <tr style=\"text-align: right;\">\n",
              "      <th></th>\n",
              "      <th>price</th>\n",
              "      <th>categ</th>\n",
              "      <th>birth</th>\n",
              "    </tr>\n",
              "  </thead>\n",
              "  <tbody>\n",
              "    <tr>\n",
              "      <th>count</th>\n",
              "      <td>679332.000000</td>\n",
              "      <td>679332.000000</td>\n",
              "      <td>679332.000000</td>\n",
              "    </tr>\n",
              "    <tr>\n",
              "      <th>mean</th>\n",
              "      <td>17.452556</td>\n",
              "      <td>0.441809</td>\n",
              "      <td>1977.811139</td>\n",
              "    </tr>\n",
              "    <tr>\n",
              "      <th>std</th>\n",
              "      <td>18.326428</td>\n",
              "      <td>0.594998</td>\n",
              "      <td>13.574553</td>\n",
              "    </tr>\n",
              "    <tr>\n",
              "      <th>min</th>\n",
              "      <td>0.620000</td>\n",
              "      <td>0.000000</td>\n",
              "      <td>1929.000000</td>\n",
              "    </tr>\n",
              "    <tr>\n",
              "      <th>25%</th>\n",
              "      <td>8.870000</td>\n",
              "      <td>0.000000</td>\n",
              "      <td>1970.000000</td>\n",
              "    </tr>\n",
              "    <tr>\n",
              "      <th>50%</th>\n",
              "      <td>13.990000</td>\n",
              "      <td>0.000000</td>\n",
              "      <td>1980.000000</td>\n",
              "    </tr>\n",
              "    <tr>\n",
              "      <th>75%</th>\n",
              "      <td>18.990000</td>\n",
              "      <td>1.000000</td>\n",
              "      <td>1987.000000</td>\n",
              "    </tr>\n",
              "    <tr>\n",
              "      <th>max</th>\n",
              "      <td>300.000000</td>\n",
              "      <td>2.000000</td>\n",
              "      <td>2004.000000</td>\n",
              "    </tr>\n",
              "  </tbody>\n",
              "</table>\n",
              "</div>\n",
<<<<<<< HEAD
              "      <button class=\"colab-df-convert\" onclick=\"convertToInteractive('df-cd177725-4aea-4034-bde0-3ef17eb6a807')\"\n",
=======
              "      <button class=\"colab-df-convert\" onclick=\"convertToInteractive('df-79cfa468-12e0-4e7b-8ec9-15de7f8ccba3')\"\n",
>>>>>>> b1bb7d9103775de018a924da9458eb77c6ba71f8
              "              title=\"Convert this dataframe to an interactive table.\"\n",
              "              style=\"display:none;\">\n",
              "        \n",
              "  <svg xmlns=\"http://www.w3.org/2000/svg\" height=\"24px\"viewBox=\"0 0 24 24\"\n",
              "       width=\"24px\">\n",
              "    <path d=\"M0 0h24v24H0V0z\" fill=\"none\"/>\n",
              "    <path d=\"M18.56 5.44l.94 2.06.94-2.06 2.06-.94-2.06-.94-.94-2.06-.94 2.06-2.06.94zm-11 1L8.5 8.5l.94-2.06 2.06-.94-2.06-.94L8.5 2.5l-.94 2.06-2.06.94zm10 10l.94 2.06.94-2.06 2.06-.94-2.06-.94-.94-2.06-.94 2.06-2.06.94z\"/><path d=\"M17.41 7.96l-1.37-1.37c-.4-.4-.92-.59-1.43-.59-.52 0-1.04.2-1.43.59L10.3 9.45l-7.72 7.72c-.78.78-.78 2.05 0 2.83L4 21.41c.39.39.9.59 1.41.59.51 0 1.02-.2 1.41-.59l7.78-7.78 2.81-2.81c.8-.78.8-2.07 0-2.86zM5.41 20L4 18.59l7.72-7.72 1.47 1.35L5.41 20z\"/>\n",
              "  </svg>\n",
              "      </button>\n",
              "      \n",
              "  <style>\n",
              "    .colab-df-container {\n",
              "      display:flex;\n",
              "      flex-wrap:wrap;\n",
              "      gap: 12px;\n",
              "    }\n",
              "\n",
              "    .colab-df-convert {\n",
              "      background-color: #E8F0FE;\n",
              "      border: none;\n",
              "      border-radius: 50%;\n",
              "      cursor: pointer;\n",
              "      display: none;\n",
              "      fill: #1967D2;\n",
              "      height: 32px;\n",
              "      padding: 0 0 0 0;\n",
              "      width: 32px;\n",
              "    }\n",
              "\n",
              "    .colab-df-convert:hover {\n",
              "      background-color: #E2EBFA;\n",
              "      box-shadow: 0px 1px 2px rgba(60, 64, 67, 0.3), 0px 1px 3px 1px rgba(60, 64, 67, 0.15);\n",
              "      fill: #174EA6;\n",
              "    }\n",
              "\n",
              "    [theme=dark] .colab-df-convert {\n",
              "      background-color: #3B4455;\n",
              "      fill: #D2E3FC;\n",
              "    }\n",
              "\n",
              "    [theme=dark] .colab-df-convert:hover {\n",
              "      background-color: #434B5C;\n",
              "      box-shadow: 0px 1px 3px 1px rgba(0, 0, 0, 0.15);\n",
              "      filter: drop-shadow(0px 1px 2px rgba(0, 0, 0, 0.3));\n",
              "      fill: #FFFFFF;\n",
              "    }\n",
              "  </style>\n",
              "\n",
              "      <script>\n",
              "        const buttonEl =\n",
<<<<<<< HEAD
              "          document.querySelector('#df-cd177725-4aea-4034-bde0-3ef17eb6a807 button.colab-df-convert');\n",
=======
              "          document.querySelector('#df-79cfa468-12e0-4e7b-8ec9-15de7f8ccba3 button.colab-df-convert');\n",
>>>>>>> b1bb7d9103775de018a924da9458eb77c6ba71f8
              "        buttonEl.style.display =\n",
              "          google.colab.kernel.accessAllowed ? 'block' : 'none';\n",
              "\n",
              "        async function convertToInteractive(key) {\n",
<<<<<<< HEAD
              "          const element = document.querySelector('#df-cd177725-4aea-4034-bde0-3ef17eb6a807');\n",
=======
              "          const element = document.querySelector('#df-79cfa468-12e0-4e7b-8ec9-15de7f8ccba3');\n",
>>>>>>> b1bb7d9103775de018a924da9458eb77c6ba71f8
              "          const dataTable =\n",
              "            await google.colab.kernel.invokeFunction('convertToInteractive',\n",
              "                                                     [key], {});\n",
              "          if (!dataTable) return;\n",
              "\n",
              "          const docLinkHtml = 'Like what you see? Visit the ' +\n",
              "            '<a target=\"_blank\" href=https://colab.research.google.com/notebooks/data_table.ipynb>data table notebook</a>'\n",
              "            + ' to learn more about interactive tables.';\n",
              "          element.innerHTML = '';\n",
              "          dataTable['output_type'] = 'display_data';\n",
              "          await google.colab.output.renderOutput(dataTable, element);\n",
              "          const docLink = document.createElement('div');\n",
              "          docLink.innerHTML = docLinkHtml;\n",
              "          element.appendChild(docLink);\n",
              "        }\n",
              "      </script>\n",
              "    </div>\n",
              "  </div>\n",
              "  "
            ],
            "text/plain": [
              "               price          categ          birth\n",
              "count  679332.000000  679332.000000  679332.000000\n",
              "mean       17.452556       0.441809    1977.811139\n",
              "std        18.326428       0.594998      13.574553\n",
              "min         0.620000       0.000000    1929.000000\n",
              "25%         8.870000       0.000000    1970.000000\n",
              "50%        13.990000       0.000000    1980.000000\n",
              "75%        18.990000       1.000000    1987.000000\n",
              "max       300.000000       2.000000    2004.000000"
            ]
          },
          "metadata": {},
<<<<<<< HEAD
          "execution_count": 29
=======
          "execution_count": 21
>>>>>>> b1bb7d9103775de018a924da9458eb77c6ba71f8
        }
      ]
    },
    {
      "cell_type": "code",
      "source": [
        "df_library.to_csv(\"DATA_library.csv\")"
      ],
      "metadata": {
        "id": "dTwOo4mtmvOq"
      },
<<<<<<< HEAD
      "execution_count": 30,
      "outputs": []
    },
    {
      "cell_type": "code",
      "source": [
        "!ls"
      ],
      "metadata": {
        "colab": {
          "base_uri": "https://localhost:8080/"
        },
        "id": "eaCmGBUCyCXa",
        "outputId": "7cd2a13e-3e75-475a-96cf-af86ff86bc1e"
      },
      "execution_count": 31,
      "outputs": [
        {
          "output_type": "stream",
          "name": "stdout",
          "text": [
            "customers.csv\t  products.csv\t       transactions.csv\n",
            "DATA_library.csv  Sales_analyze.ipynb\n"
          ]
        }
      ]
    },
    {
      "cell_type": "code",
      "source": [
        ""
      ],
      "metadata": {
        "id": "nw-5hxlYyJHt"
      },
      "execution_count": null,
=======
      "execution_count": 22,
>>>>>>> b1bb7d9103775de018a924da9458eb77c6ba71f8
      "outputs": []
    }
  ]
}