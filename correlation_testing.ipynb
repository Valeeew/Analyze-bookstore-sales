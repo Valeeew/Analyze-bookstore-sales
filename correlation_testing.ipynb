{
  "nbformat": 4,
  "nbformat_minor": 0,
  "metadata": {
    "colab": {
      "name": "correlation testing.ipynb",
      "provenance": [],
      "authorship_tag": "ABX9TyOM2ZgjX6vmWIcAyH5ilrhH",
      "include_colab_link": true
    },
    "kernelspec": {
      "name": "python3",
      "display_name": "Python 3"
    },
    "language_info": {
      "name": "python"
    }
  },
  "cells": [
    {
      "cell_type": "markdown",
      "metadata": {
        "id": "view-in-github",
        "colab_type": "text"
      },
      "source": [
        "<a href=\"https://colab.research.google.com/github/Valeeew/Analyze-bookstore-sales/blob/main/correlation_testing.ipynb\" target=\"_parent\"><img src=\"https://colab.research.google.com/assets/colab-badge.svg\" alt=\"Open In Colab\"/></a>"
      ]
    },
    {
      "cell_type": "markdown",
      "source": [
        "# __Analyse & corrélation__\n",
        ">## __Par Valentin Monteiro__\n",
        "\n",
        "> > ## Sources:\n",
        "Cours sur les statistiques (youtube): <br>\n",
        "[GO >>>](https://www.youtube.com/watch?v=ewtoSal-HQY&list=PLKOH07GkcIqfDqa3V5BF0tVvef3Y9Y11R)\n",
        "<br><br>\n",
        "Tuto regression linéaire :<br>\n",
        "[GO >>>](http://www.xavierdupre.fr/app/ensae_teaching_cs/helpsphinx/notebooks/td2a_eco_regressions_lineaires.html)"
      ],
      "metadata": {
        "id": "XPLXqHBdl9iX"
      }
    },
    {
      "cell_type": "code",
      "source": [
        "import pandas as pd\n",
        "import numpy as np\n",
        "import matplotlib.pyplot as plt\n",
        "import seaborn as sns"
      ],
      "metadata": {
        "id": "b7BWybBrmrYu"
      },
      "execution_count": 1,
      "outputs": []
    },
    {
      "cell_type": "code",
      "source": [
        "!git clone -l -s https://github.com/Valeeew/Analyze-bookstore-sales cloned-repo\n",
        "%cd cloned-repo\n",
        "!ls"
      ],
      "metadata": {
        "colab": {
          "base_uri": "https://localhost:8080/"
        },
        "id": "-LZJSv-Om0sB",
        "outputId": "2b294b55-249e-4a50-b9ac-a50638f5c2fa"
      },
      "execution_count": 2,
      "outputs": [
        {
          "output_type": "stream",
          "name": "stdout",
          "text": [
            "Cloning into 'cloned-repo'...\n",
            "warning: --local is ignored\n",
            "remote: Enumerating objects: 76, done.\u001b[K\n",
            "remote: Counting objects: 100% (76/76), done.\u001b[K\n",
            "remote: Compressing objects: 100% (70/70), done.\u001b[K\n",
            "remote: Total 76 (delta 44), reused 16 (delta 6), pack-reused 0\u001b[K\n",
            "Unpacking objects: 100% (76/76), done.\n",
            "/content/cloned-repo\n",
            "correlation_testing.ipynb  DATA_library.csv\ttransactions.csv\n",
            "customers.csv\t\t   products.csv\t\tTurnover_analyze.ipynb\n",
            "DATA_cleaning.ipynb\t   Sales_analyze.ipynb\n"
          ]
        }
      ]
    },
    {
      "cell_type": "code",
      "source": [
        "df = pd.read_csv(\"DATA_library.csv\", index_col=\"date\", parse_dates=True)\n",
        "# Je decide de supprimer le 4 gros client, je pense que ces DATA peut avoir une net influence sur me corrélation\n",
        "df = df.drop(\"Unnamed: 0\", axis=1)\n",
        "dfall = df \n",
        "df = df[(df.client_id.isin([\"c_1609\",\"c_3454\",\"c_4958\",\"c_6714\"]))==False]\n"
      ],
      "metadata": {
        "id": "EYoefK8pm3nA"
      },
      "execution_count": 3,
      "outputs": []
    },
    {
      "cell_type": "markdown",
      "source": [
        "## __Test de Corrélation ; Sexe & Catégorie__\n",
        "\n",
        "> Avec pour hypothèse H0 ➡️ les 2 variable sont indépendantes, donc pas corrélé.\n",
        "<br> Seuil de risque fixé à 5% d'erreur"
      ],
      "metadata": {
        "id": "Zd9j-3euMdQB"
      }
    },
    {
      "cell_type": "code",
      "source": [
        "# Création table pivot (tableau croisé)\n",
        "corr_sex_categ = df[[\"sex\",\"categ\"]].pivot_table(index=\"sex\",columns=\"categ\", aggfunc=len, margins=True, margins_name=\"Total\")"
      ],
      "metadata": {
        "id": "9G6AxXgoIx5G"
      },
      "execution_count": 4,
      "outputs": []
    },
    {
      "cell_type": "code",
      "source": [
        "# Test de Khi2 car les deux variable sont des qualitative\n",
        "from scipy import stats #as chi2_contingency\n",
        "khi2, p_value, dof, exp = stats.chi2_contingency(corr_sex_categ)"
      ],
      "metadata": {
        "id": "5S_I-7EjQvhv"
      },
      "execution_count": 5,
      "outputs": []
    },
    {
      "cell_type": "code",
      "source": [
        "print(\"khi2 =\",khi2,\"\\np_value =\", p_value)"
      ],
      "metadata": {
        "colab": {
          "base_uri": "https://localhost:8080/"
        },
        "id": "M6HsCvxSRGgT",
        "outputId": "64b3ccfd-d5bb-4aa5-bd0d-52d27bb63b42"
      },
      "execution_count": 6,
      "outputs": [
        {
          "output_type": "stream",
          "name": "stdout",
          "text": [
            "khi2 = 20.200173796862927 \n",
            "p_value = 0.002551063708568263\n"
          ]
        }
      ]
    },
    {
      "cell_type": "code",
      "source": [
        "dof"
      ],
      "metadata": {
        "colab": {
          "base_uri": "https://localhost:8080/"
        },
        "id": "FZADmebjaHHQ",
        "outputId": "75e95a62-8c05-4e75-9d90-43d78e6d59e7"
      },
      "execution_count": 7,
      "outputs": [
        {
          "output_type": "execute_result",
          "data": {
            "text/plain": [
              "6"
            ]
          },
          "metadata": {},
          "execution_count": 7
        }
      ]
    },
    {
      "cell_type": "code",
      "source": [
        "expectation = pd.DataFrame(exp, index=[\"f\",\"m\",\"Total\"], columns=[\"0.0\",\"1.0\",\"2.0\",\"Total\"])\n",
        "np_corr_sex_categ = corr_sex_categ.to_numpy()\n",
        "np_corr_sex_categ"
      ],
      "metadata": {
        "colab": {
          "base_uri": "https://localhost:8080/"
        },
        "id": "6LrM2trU18_7",
        "outputId": "ed6c8fa3-9853-4139-8414-c9cc1c46d5d0"
      },
      "execution_count": 8,
      "outputs": [
        {
          "output_type": "execute_result",
          "data": {
            "text/plain": [
              "array([[200904, 111331,  16980, 329215],\n",
              "       [186589, 101017,  15868, 303474],\n",
              "       [387493, 212348,  32848, 632689]])"
            ]
          },
          "metadata": {},
          "execution_count": 8
        }
      ]
    },
    {
      "cell_type": "code",
      "source": [
        "corr_sex_categ"
      ],
      "metadata": {
        "colab": {
          "base_uri": "https://localhost:8080/",
          "height": 175
        },
        "id": "AP6rtYpbEe23",
        "outputId": "1bb13275-0453-44f8-8f8b-fbbb5ca5a03b"
      },
      "execution_count": 9,
      "outputs": [
        {
          "output_type": "execute_result",
          "data": {
            "text/plain": [
              "categ     0.0     1.0    2.0   Total\n",
              "sex                                 \n",
              "f      200904  111331  16980  329215\n",
              "m      186589  101017  15868  303474\n",
              "Total  387493  212348  32848  632689"
            ],
            "text/html": [
              "\n",
              "  <div id=\"df-a7a77aca-ee73-4884-a014-29288e949e4d\">\n",
              "    <div class=\"colab-df-container\">\n",
              "      <div>\n",
              "<style scoped>\n",
              "    .dataframe tbody tr th:only-of-type {\n",
              "        vertical-align: middle;\n",
              "    }\n",
              "\n",
              "    .dataframe tbody tr th {\n",
              "        vertical-align: top;\n",
              "    }\n",
              "\n",
              "    .dataframe thead th {\n",
              "        text-align: right;\n",
              "    }\n",
              "</style>\n",
              "<table border=\"1\" class=\"dataframe\">\n",
              "  <thead>\n",
              "    <tr style=\"text-align: right;\">\n",
              "      <th>categ</th>\n",
              "      <th>0.0</th>\n",
              "      <th>1.0</th>\n",
              "      <th>2.0</th>\n",
              "      <th>Total</th>\n",
              "    </tr>\n",
              "    <tr>\n",
              "      <th>sex</th>\n",
              "      <th></th>\n",
              "      <th></th>\n",
              "      <th></th>\n",
              "      <th></th>\n",
              "    </tr>\n",
              "  </thead>\n",
              "  <tbody>\n",
              "    <tr>\n",
              "      <th>f</th>\n",
              "      <td>200904</td>\n",
              "      <td>111331</td>\n",
              "      <td>16980</td>\n",
              "      <td>329215</td>\n",
              "    </tr>\n",
              "    <tr>\n",
              "      <th>m</th>\n",
              "      <td>186589</td>\n",
              "      <td>101017</td>\n",
              "      <td>15868</td>\n",
              "      <td>303474</td>\n",
              "    </tr>\n",
              "    <tr>\n",
              "      <th>Total</th>\n",
              "      <td>387493</td>\n",
              "      <td>212348</td>\n",
              "      <td>32848</td>\n",
              "      <td>632689</td>\n",
              "    </tr>\n",
              "  </tbody>\n",
              "</table>\n",
              "</div>\n",
              "      <button class=\"colab-df-convert\" onclick=\"convertToInteractive('df-a7a77aca-ee73-4884-a014-29288e949e4d')\"\n",
              "              title=\"Convert this dataframe to an interactive table.\"\n",
              "              style=\"display:none;\">\n",
              "        \n",
              "  <svg xmlns=\"http://www.w3.org/2000/svg\" height=\"24px\"viewBox=\"0 0 24 24\"\n",
              "       width=\"24px\">\n",
              "    <path d=\"M0 0h24v24H0V0z\" fill=\"none\"/>\n",
              "    <path d=\"M18.56 5.44l.94 2.06.94-2.06 2.06-.94-2.06-.94-.94-2.06-.94 2.06-2.06.94zm-11 1L8.5 8.5l.94-2.06 2.06-.94-2.06-.94L8.5 2.5l-.94 2.06-2.06.94zm10 10l.94 2.06.94-2.06 2.06-.94-2.06-.94-.94-2.06-.94 2.06-2.06.94z\"/><path d=\"M17.41 7.96l-1.37-1.37c-.4-.4-.92-.59-1.43-.59-.52 0-1.04.2-1.43.59L10.3 9.45l-7.72 7.72c-.78.78-.78 2.05 0 2.83L4 21.41c.39.39.9.59 1.41.59.51 0 1.02-.2 1.41-.59l7.78-7.78 2.81-2.81c.8-.78.8-2.07 0-2.86zM5.41 20L4 18.59l7.72-7.72 1.47 1.35L5.41 20z\"/>\n",
              "  </svg>\n",
              "      </button>\n",
              "      \n",
              "  <style>\n",
              "    .colab-df-container {\n",
              "      display:flex;\n",
              "      flex-wrap:wrap;\n",
              "      gap: 12px;\n",
              "    }\n",
              "\n",
              "    .colab-df-convert {\n",
              "      background-color: #E8F0FE;\n",
              "      border: none;\n",
              "      border-radius: 50%;\n",
              "      cursor: pointer;\n",
              "      display: none;\n",
              "      fill: #1967D2;\n",
              "      height: 32px;\n",
              "      padding: 0 0 0 0;\n",
              "      width: 32px;\n",
              "    }\n",
              "\n",
              "    .colab-df-convert:hover {\n",
              "      background-color: #E2EBFA;\n",
              "      box-shadow: 0px 1px 2px rgba(60, 64, 67, 0.3), 0px 1px 3px 1px rgba(60, 64, 67, 0.15);\n",
              "      fill: #174EA6;\n",
              "    }\n",
              "\n",
              "    [theme=dark] .colab-df-convert {\n",
              "      background-color: #3B4455;\n",
              "      fill: #D2E3FC;\n",
              "    }\n",
              "\n",
              "    [theme=dark] .colab-df-convert:hover {\n",
              "      background-color: #434B5C;\n",
              "      box-shadow: 0px 1px 3px 1px rgba(0, 0, 0, 0.15);\n",
              "      filter: drop-shadow(0px 1px 2px rgba(0, 0, 0, 0.3));\n",
              "      fill: #FFFFFF;\n",
              "    }\n",
              "  </style>\n",
              "\n",
              "      <script>\n",
              "        const buttonEl =\n",
              "          document.querySelector('#df-a7a77aca-ee73-4884-a014-29288e949e4d button.colab-df-convert');\n",
              "        buttonEl.style.display =\n",
              "          google.colab.kernel.accessAllowed ? 'block' : 'none';\n",
              "\n",
              "        async function convertToInteractive(key) {\n",
              "          const element = document.querySelector('#df-a7a77aca-ee73-4884-a014-29288e949e4d');\n",
              "          const dataTable =\n",
              "            await google.colab.kernel.invokeFunction('convertToInteractive',\n",
              "                                                     [key], {});\n",
              "          if (!dataTable) return;\n",
              "\n",
              "          const docLinkHtml = 'Like what you see? Visit the ' +\n",
              "            '<a target=\"_blank\" href=https://colab.research.google.com/notebooks/data_table.ipynb>data table notebook</a>'\n",
              "            + ' to learn more about interactive tables.';\n",
              "          element.innerHTML = '';\n",
              "          dataTable['output_type'] = 'display_data';\n",
              "          await google.colab.output.renderOutput(dataTable, element);\n",
              "          const docLink = document.createElement('div');\n",
              "          docLink.innerHTML = docLinkHtml;\n",
              "          element.appendChild(docLink);\n",
              "        }\n",
              "      </script>\n",
              "    </div>\n",
              "  </div>\n",
              "  "
            ]
          },
          "metadata": {},
          "execution_count": 9
        }
      ]
    },
    {
      "cell_type": "code",
      "source": [
        "x2 = ((np_corr_sex_categ-exp)**2)/exp"
      ],
      "metadata": {
        "id": "OMKkCS2eI5BT"
      },
      "execution_count": 10,
      "outputs": []
    },
    {
      "cell_type": "code",
      "source": [
        "x2 = pd.DataFrame(x2, index=[\"f\",\"m\",\"Total_y\"], columns=(\"0\",\"1\",\"2\",\"Total_x\"))\n",
        "#x2 = x2.drop(\"Total_y\")\n",
        "#x2 = x2.drop(\"Total_x\", axis=1)\n",
        "x2 "
      ],
      "metadata": {
        "colab": {
          "base_uri": "https://localhost:8080/",
          "height": 143
        },
        "id": "5H-X6uOaZJDS",
        "outputId": "1d63e254-137b-49ec-fa09-c0c2de0af207"
      },
      "execution_count": 11,
      "outputs": [
        {
          "output_type": "execute_result",
          "data": {
            "text/plain": [
              "                0         1         2  Total_x\n",
              "f        2.607546  6.344940  0.736678      0.0\n",
              "m        2.828720  6.883125  0.799164      0.0\n",
              "Total_y  0.000000  0.000000  0.000000      0.0"
            ],
            "text/html": [
              "\n",
              "  <div id=\"df-a95f7674-12fa-4907-a5c0-8bab9e0bf8af\">\n",
              "    <div class=\"colab-df-container\">\n",
              "      <div>\n",
              "<style scoped>\n",
              "    .dataframe tbody tr th:only-of-type {\n",
              "        vertical-align: middle;\n",
              "    }\n",
              "\n",
              "    .dataframe tbody tr th {\n",
              "        vertical-align: top;\n",
              "    }\n",
              "\n",
              "    .dataframe thead th {\n",
              "        text-align: right;\n",
              "    }\n",
              "</style>\n",
              "<table border=\"1\" class=\"dataframe\">\n",
              "  <thead>\n",
              "    <tr style=\"text-align: right;\">\n",
              "      <th></th>\n",
              "      <th>0</th>\n",
              "      <th>1</th>\n",
              "      <th>2</th>\n",
              "      <th>Total_x</th>\n",
              "    </tr>\n",
              "  </thead>\n",
              "  <tbody>\n",
              "    <tr>\n",
              "      <th>f</th>\n",
              "      <td>2.607546</td>\n",
              "      <td>6.344940</td>\n",
              "      <td>0.736678</td>\n",
              "      <td>0.0</td>\n",
              "    </tr>\n",
              "    <tr>\n",
              "      <th>m</th>\n",
              "      <td>2.828720</td>\n",
              "      <td>6.883125</td>\n",
              "      <td>0.799164</td>\n",
              "      <td>0.0</td>\n",
              "    </tr>\n",
              "    <tr>\n",
              "      <th>Total_y</th>\n",
              "      <td>0.000000</td>\n",
              "      <td>0.000000</td>\n",
              "      <td>0.000000</td>\n",
              "      <td>0.0</td>\n",
              "    </tr>\n",
              "  </tbody>\n",
              "</table>\n",
              "</div>\n",
              "      <button class=\"colab-df-convert\" onclick=\"convertToInteractive('df-a95f7674-12fa-4907-a5c0-8bab9e0bf8af')\"\n",
              "              title=\"Convert this dataframe to an interactive table.\"\n",
              "              style=\"display:none;\">\n",
              "        \n",
              "  <svg xmlns=\"http://www.w3.org/2000/svg\" height=\"24px\"viewBox=\"0 0 24 24\"\n",
              "       width=\"24px\">\n",
              "    <path d=\"M0 0h24v24H0V0z\" fill=\"none\"/>\n",
              "    <path d=\"M18.56 5.44l.94 2.06.94-2.06 2.06-.94-2.06-.94-.94-2.06-.94 2.06-2.06.94zm-11 1L8.5 8.5l.94-2.06 2.06-.94-2.06-.94L8.5 2.5l-.94 2.06-2.06.94zm10 10l.94 2.06.94-2.06 2.06-.94-2.06-.94-.94-2.06-.94 2.06-2.06.94z\"/><path d=\"M17.41 7.96l-1.37-1.37c-.4-.4-.92-.59-1.43-.59-.52 0-1.04.2-1.43.59L10.3 9.45l-7.72 7.72c-.78.78-.78 2.05 0 2.83L4 21.41c.39.39.9.59 1.41.59.51 0 1.02-.2 1.41-.59l7.78-7.78 2.81-2.81c.8-.78.8-2.07 0-2.86zM5.41 20L4 18.59l7.72-7.72 1.47 1.35L5.41 20z\"/>\n",
              "  </svg>\n",
              "      </button>\n",
              "      \n",
              "  <style>\n",
              "    .colab-df-container {\n",
              "      display:flex;\n",
              "      flex-wrap:wrap;\n",
              "      gap: 12px;\n",
              "    }\n",
              "\n",
              "    .colab-df-convert {\n",
              "      background-color: #E8F0FE;\n",
              "      border: none;\n",
              "      border-radius: 50%;\n",
              "      cursor: pointer;\n",
              "      display: none;\n",
              "      fill: #1967D2;\n",
              "      height: 32px;\n",
              "      padding: 0 0 0 0;\n",
              "      width: 32px;\n",
              "    }\n",
              "\n",
              "    .colab-df-convert:hover {\n",
              "      background-color: #E2EBFA;\n",
              "      box-shadow: 0px 1px 2px rgba(60, 64, 67, 0.3), 0px 1px 3px 1px rgba(60, 64, 67, 0.15);\n",
              "      fill: #174EA6;\n",
              "    }\n",
              "\n",
              "    [theme=dark] .colab-df-convert {\n",
              "      background-color: #3B4455;\n",
              "      fill: #D2E3FC;\n",
              "    }\n",
              "\n",
              "    [theme=dark] .colab-df-convert:hover {\n",
              "      background-color: #434B5C;\n",
              "      box-shadow: 0px 1px 3px 1px rgba(0, 0, 0, 0.15);\n",
              "      filter: drop-shadow(0px 1px 2px rgba(0, 0, 0, 0.3));\n",
              "      fill: #FFFFFF;\n",
              "    }\n",
              "  </style>\n",
              "\n",
              "      <script>\n",
              "        const buttonEl =\n",
              "          document.querySelector('#df-a95f7674-12fa-4907-a5c0-8bab9e0bf8af button.colab-df-convert');\n",
              "        buttonEl.style.display =\n",
              "          google.colab.kernel.accessAllowed ? 'block' : 'none';\n",
              "\n",
              "        async function convertToInteractive(key) {\n",
              "          const element = document.querySelector('#df-a95f7674-12fa-4907-a5c0-8bab9e0bf8af');\n",
              "          const dataTable =\n",
              "            await google.colab.kernel.invokeFunction('convertToInteractive',\n",
              "                                                     [key], {});\n",
              "          if (!dataTable) return;\n",
              "\n",
              "          const docLinkHtml = 'Like what you see? Visit the ' +\n",
              "            '<a target=\"_blank\" href=https://colab.research.google.com/notebooks/data_table.ipynb>data table notebook</a>'\n",
              "            + ' to learn more about interactive tables.';\n",
              "          element.innerHTML = '';\n",
              "          dataTable['output_type'] = 'display_data';\n",
              "          await google.colab.output.renderOutput(dataTable, element);\n",
              "          const docLink = document.createElement('div');\n",
              "          docLink.innerHTML = docLinkHtml;\n",
              "          element.appendChild(docLink);\n",
              "        }\n",
              "      </script>\n",
              "    </div>\n",
              "  </div>\n",
              "  "
            ]
          },
          "metadata": {},
          "execution_count": 11
        }
      ]
    },
    {
      "cell_type": "code",
      "source": [
        "mesure = x2.sum().sum()"
      ],
      "metadata": {
        "id": "waizLi6UZKBs"
      },
      "execution_count": 12,
      "outputs": []
    },
    {
      "cell_type": "code",
      "source": [
        "reslt = exp/x2.to_numpy()"
      ],
      "metadata": {
        "colab": {
          "base_uri": "https://localhost:8080/"
        },
        "id": "1v4rVponnZnp",
        "outputId": "69748af9-62f4-4fdb-d0cd-1eaea8220da9"
      },
      "execution_count": 13,
      "outputs": [
        {
          "output_type": "stream",
          "name": "stderr",
          "text": [
            "/usr/local/lib/python3.7/dist-packages/ipykernel_launcher.py:1: RuntimeWarning: divide by zero encountered in true_divide\n",
            "  \"\"\"Entry point for launching an IPython kernel.\n"
          ]
        }
      ]
    },
    {
      "cell_type": "code",
      "source": [
        "reslt = x2/mesure\n",
        "reslt = reslt.drop(\"Total_y\")\n",
        "reslt = reslt.drop(\"Total_x\", axis=1)"
      ],
      "metadata": {
        "id": "FuaskjuFz9Yo"
      },
      "execution_count": 14,
      "outputs": []
    },
    {
      "cell_type": "code",
      "source": [
        "plt.figure(figsize=[8,5])\n",
        "sns.heatmap(reslt, cmap=(\"YlOrRd\"), annot=reslt, vmax=0.35)\n",
        "plt.title(\"Corrélation sexe & catégorie\", fontsize = 20)\n",
        "plt.savefig(\"correation_sex_categ.png\")"
      ],
      "metadata": {
        "colab": {
          "base_uri": "https://localhost:8080/",
          "height": 342
        },
        "id": "F3FsC0fm0jDW",
        "outputId": "028fce38-4781-49a0-ca0b-ab491d810090"
      },
      "execution_count": 15,
      "outputs": [
        {
          "output_type": "display_data",
          "data": {
            "text/plain": [
              "<Figure size 576x360 with 2 Axes>"
            ],
            "image/png": "[encoded data removed]"
          },
          "metadata": {
            "needs_background": "light"
          }
        }
      ]
    },
    {
      "cell_type": "markdown",
      "source": [
        "## __Test de corrélation ; Age & C.A.__\n",
        "> Test de Spearman\n",
        "<br>H0 ➡️ Refus de corrélation\n",
        "<br> Seuil de risque fixé à 5% d'erreur\n"
      ],
      "metadata": {
        "id": "8pzz7sHlxb8D"
      }
    },
    {
      "cell_type": "code",
      "source": [
        "corr_age_ca = df[[\"age\",\"price\"]]\n",
        "corr_age_ca = corr_age_ca.groupby(\"age\").agg({\"price\":\"sum\"}).reset_index()\n",
        "np_corr_age_ca = corr_age_ca.to_numpy()\n",
        "corr_age_ca"
      ],
      "metadata": {
        "colab": {
          "base_uri": "https://localhost:8080/",
          "height": 423
        },
        "id": "LqO75WZR7XNx",
        "outputId": "4cb64284-2192-4348-c442-fb011d7ba774"
      },
      "execution_count": 16,
      "outputs": [
        {
          "output_type": "execute_result",
          "data": {
            "text/plain": [
              "    age          price\n",
              "0    19  609013.690000\n",
              "1    20  178195.780000\n",
              "2    21  184209.264564\n",
              "3    22  178497.700000\n",
              "4    23  165029.256376\n",
              "..  ...            ...\n",
              "71   90    5264.988188\n",
              "72   91    5043.190000\n",
              "73   92    2815.450000\n",
              "74   93    4013.870000\n",
              "75   94    3221.850000\n",
              "\n",
              "[76 rows x 2 columns]"
            ],
            "text/html": [
              "\n",
              "  <div id=\"df-b5770707-be65-4995-98a6-d71187f3d52e\">\n",
              "    <div class=\"colab-df-container\">\n",
              "      <div>\n",
              "<style scoped>\n",
              "    .dataframe tbody tr th:only-of-type {\n",
              "        vertical-align: middle;\n",
              "    }\n",
              "\n",
              "    .dataframe tbody tr th {\n",
              "        vertical-align: top;\n",
              "    }\n",
              "\n",
              "    .dataframe thead th {\n",
              "        text-align: right;\n",
              "    }\n",
              "</style>\n",
              "<table border=\"1\" class=\"dataframe\">\n",
              "  <thead>\n",
              "    <tr style=\"text-align: right;\">\n",
              "      <th></th>\n",
              "      <th>age</th>\n",
              "      <th>price</th>\n",
              "    </tr>\n",
              "  </thead>\n",
              "  <tbody>\n",
              "    <tr>\n",
              "      <th>0</th>\n",
              "      <td>19</td>\n",
              "      <td>609013.690000</td>\n",
              "    </tr>\n",
              "    <tr>\n",
              "      <th>1</th>\n",
              "      <td>20</td>\n",
              "      <td>178195.780000</td>\n",
              "    </tr>\n",
              "    <tr>\n",
              "      <th>2</th>\n",
              "      <td>21</td>\n",
              "      <td>184209.264564</td>\n",
              "    </tr>\n",
              "    <tr>\n",
              "      <th>3</th>\n",
              "      <td>22</td>\n",
              "      <td>178497.700000</td>\n",
              "    </tr>\n",
              "    <tr>\n",
              "      <th>4</th>\n",
              "      <td>23</td>\n",
              "      <td>165029.256376</td>\n",
              "    </tr>\n",
              "    <tr>\n",
              "      <th>...</th>\n",
              "      <td>...</td>\n",
              "      <td>...</td>\n",
              "    </tr>\n",
              "    <tr>\n",
              "      <th>71</th>\n",
              "      <td>90</td>\n",
              "      <td>5264.988188</td>\n",
              "    </tr>\n",
              "    <tr>\n",
              "      <th>72</th>\n",
              "      <td>91</td>\n",
              "      <td>5043.190000</td>\n",
              "    </tr>\n",
              "    <tr>\n",
              "      <th>73</th>\n",
              "      <td>92</td>\n",
              "      <td>2815.450000</td>\n",
              "    </tr>\n",
              "    <tr>\n",
              "      <th>74</th>\n",
              "      <td>93</td>\n",
              "      <td>4013.870000</td>\n",
              "    </tr>\n",
              "    <tr>\n",
              "      <th>75</th>\n",
              "      <td>94</td>\n",
              "      <td>3221.850000</td>\n",
              "    </tr>\n",
              "  </tbody>\n",
              "</table>\n",
              "<p>76 rows × 2 columns</p>\n",
              "</div>\n",
              "      <button class=\"colab-df-convert\" onclick=\"convertToInteractive('df-b5770707-be65-4995-98a6-d71187f3d52e')\"\n",
              "              title=\"Convert this dataframe to an interactive table.\"\n",
              "              style=\"display:none;\">\n",
              "        \n",
              "  <svg xmlns=\"http://www.w3.org/2000/svg\" height=\"24px\"viewBox=\"0 0 24 24\"\n",
              "       width=\"24px\">\n",
              "    <path d=\"M0 0h24v24H0V0z\" fill=\"none\"/>\n",
              "    <path d=\"M18.56 5.44l.94 2.06.94-2.06 2.06-.94-2.06-.94-.94-2.06-.94 2.06-2.06.94zm-11 1L8.5 8.5l.94-2.06 2.06-.94-2.06-.94L8.5 2.5l-.94 2.06-2.06.94zm10 10l.94 2.06.94-2.06 2.06-.94-2.06-.94-.94-2.06-.94 2.06-2.06.94z\"/><path d=\"M17.41 7.96l-1.37-1.37c-.4-.4-.92-.59-1.43-.59-.52 0-1.04.2-1.43.59L10.3 9.45l-7.72 7.72c-.78.78-.78 2.05 0 2.83L4 21.41c.39.39.9.59 1.41.59.51 0 1.02-.2 1.41-.59l7.78-7.78 2.81-2.81c.8-.78.8-2.07 0-2.86zM5.41 20L4 18.59l7.72-7.72 1.47 1.35L5.41 20z\"/>\n",
              "  </svg>\n",
              "      </button>\n",
              "      \n",
              "  <style>\n",
              "    .colab-df-container {\n",
              "      display:flex;\n",
              "      flex-wrap:wrap;\n",
              "      gap: 12px;\n",
              "    }\n",
              "\n",
              "    .colab-df-convert {\n",
              "      background-color: #E8F0FE;\n",
              "      border: none;\n",
              "      border-radius: 50%;\n",
              "      cursor: pointer;\n",
              "      display: none;\n",
              "      fill: #1967D2;\n",
              "      height: 32px;\n",
              "      padding: 0 0 0 0;\n",
              "      width: 32px;\n",
              "    }\n",
              "\n",
              "    .colab-df-convert:hover {\n",
              "      background-color: #E2EBFA;\n",
              "      box-shadow: 0px 1px 2px rgba(60, 64, 67, 0.3), 0px 1px 3px 1px rgba(60, 64, 67, 0.15);\n",
              "      fill: #174EA6;\n",
              "    }\n",
              "\n",
              "    [theme=dark] .colab-df-convert {\n",
              "      background-color: #3B4455;\n",
              "      fill: #D2E3FC;\n",
              "    }\n",
              "\n",
              "    [theme=dark] .colab-df-convert:hover {\n",
              "      background-color: #434B5C;\n",
              "      box-shadow: 0px 1px 3px 1px rgba(0, 0, 0, 0.15);\n",
              "      filter: drop-shadow(0px 1px 2px rgba(0, 0, 0, 0.3));\n",
              "      fill: #FFFFFF;\n",
              "    }\n",
              "  </style>\n",
              "\n",
              "      <script>\n",
              "        const buttonEl =\n",
              "          document.querySelector('#df-b5770707-be65-4995-98a6-d71187f3d52e button.colab-df-convert');\n",
              "        buttonEl.style.display =\n",
              "          google.colab.kernel.accessAllowed ? 'block' : 'none';\n",
              "\n",
              "        async function convertToInteractive(key) {\n",
              "          const element = document.querySelector('#df-b5770707-be65-4995-98a6-d71187f3d52e');\n",
              "          const dataTable =\n",
              "            await google.colab.kernel.invokeFunction('convertToInteractive',\n",
              "                                                     [key], {});\n",
              "          if (!dataTable) return;\n",
              "\n",
              "          const docLinkHtml = 'Like what you see? Visit the ' +\n",
              "            '<a target=\"_blank\" href=https://colab.research.google.com/notebooks/data_table.ipynb>data table notebook</a>'\n",
              "            + ' to learn more about interactive tables.';\n",
              "          element.innerHTML = '';\n",
              "          dataTable['output_type'] = 'display_data';\n",
              "          await google.colab.output.renderOutput(dataTable, element);\n",
              "          const docLink = document.createElement('div');\n",
              "          docLink.innerHTML = docLinkHtml;\n",
              "          element.appendChild(docLink);\n",
              "        }\n",
              "      </script>\n",
              "    </div>\n",
              "  </div>\n",
              "  "
            ]
          },
          "metadata": {},
          "execution_count": 16
        }
      ]
    },
    {
      "cell_type": "code",
      "source": [
        "plt.figure(figsize=[21,15])\n",
        "plt.plot(corr_age_ca.age,corr_age_ca.price,\"o\", color=\"#02c39a\")\n",
        "plt.xlabel(\"age\", fontsize=18)\n",
        "plt.ylabel(\"C.A.\", fontsize=18)\n",
        "plt.title(\"Répartition du CA par âge\", fontsize=20)\n",
        "plt.savefig(\"repartition_ca_age.png\")\n",
        "plt.show"
      ],
      "metadata": {
        "colab": {
          "base_uri": "https://localhost:8080/",
          "height": 923
        },
        "id": "E-QG8un7yQE2",
        "outputId": "40fde38a-5be3-4dc3-f05a-c652c31512e7"
      },
      "execution_count": 17,
      "outputs": [
        {
          "output_type": "execute_result",
          "data": {
            "text/plain": [
              "<function matplotlib.pyplot.show>"
            ]
          },
          "metadata": {},
          "execution_count": 17
        },
        {
          "output_type": "display_data",
          "data": {
            "text/plain": [
              "<Figure size 1512x1080 with 1 Axes>"
            ],
            "image/png": "[encoded data removed]"
          },
          "metadata": {
            "needs_background": "light"
          }
        }
      ]
    },
    {
      "cell_type": "code",
      "source": [
        "coefcorr_age_ca , p_value = stats.spearmanr(corr_age_ca.age,corr_age_ca.price)"
      ],
      "metadata": {
        "id": "3xRKRxiLyTdp"
      },
      "execution_count": 18,
      "outputs": []
    },
    {
      "cell_type": "code",
      "source": [
        "p_value"
      ],
      "metadata": {
        "colab": {
          "base_uri": "https://localhost:8080/"
        },
        "id": "r62dQvz32m6r",
        "outputId": "e8b4cbf3-1613-4603-fd6b-6b016b35d35f"
      },
      "execution_count": 19,
      "outputs": [
        {
          "output_type": "execute_result",
          "data": {
            "text/plain": [
              "7.352708223159905e-25"
            ]
          },
          "metadata": {},
          "execution_count": 19
        }
      ]
    },
    {
      "cell_type": "code",
      "source": [
        "coefcorr_age_ca"
      ],
      "metadata": {
        "colab": {
          "base_uri": "https://localhost:8080/"
        },
        "id": "Z4xWHVin2z0r",
        "outputId": "681c7d73-2b3a-4b48-9390-885b0746fe27"
      },
      "execution_count": 20,
      "outputs": [
        {
          "output_type": "execute_result",
          "data": {
            "text/plain": [
              "-0.8736842105263158"
            ]
          },
          "metadata": {},
          "execution_count": 20
        }
      ]
    },
    {
      "cell_type": "markdown",
      "source": [
        "## __Test de corrélation ; Age & fréquence d'achat__\n",
        "> Test ANOVA<br>\n",
        "si HO à 5%, le test est lié au hasard"
      ],
      "metadata": {
        "id": "Z-NskDjT3Bfl"
      }
    },
    {
      "cell_type": "code",
      "source": [
        "corr_age_freq = df[[\"class_age\",\"session_id\",\"client_id\"]]\n",
        "freq = corr_age_freq.groupby(\"class_age\").resample(\"M\").agg({\"session_id\":\"count\", \"client_id\":pd.Series.nunique})\n",
        "freq[\"freq\"] = freq.session_id/freq.client_id \n",
        "#freq = freq.groupby(\"class_age\").agg({\"freq\":\"mean\"})\n",
        "freq = freq.drop([\"session_id\",\"client_id\"],axis=1)\n",
        "freq = freq.reset_index()\n",
        "freq = freq.drop(\"date\", axis=1)\n",
        "freq"
      ],
      "metadata": {
        "id": "03MpaQCt3MP_",
        "colab": {
          "base_uri": "https://localhost:8080/",
          "height": 423
        },
        "outputId": "9b484aa0-d20d-49fa-efd5-0c00f07eb331"
      },
      "execution_count": 21,
      "outputs": [
        {
          "output_type": "execute_result",
          "data": {
            "text/plain": [
              "    class_age      freq\n",
              "0       19-24  2.657194\n",
              "1       19-24  2.621291\n",
              "2       19-24  2.564489\n",
              "3       19-24  2.792619\n",
              "4       19-24  2.753467\n",
              "..        ...       ...\n",
              "355     90-94  3.071429\n",
              "356     90-94  3.800000\n",
              "357     90-94  3.823529\n",
              "358     90-94  3.823529\n",
              "359     90-94  3.285714\n",
              "\n",
              "[360 rows x 2 columns]"
            ],
            "text/html": [
              "\n",
              "  <div id=\"df-4d94e987-50a9-4641-913c-75e51bbe863c\">\n",
              "    <div class=\"colab-df-container\">\n",
              "      <div>\n",
              "<style scoped>\n",
              "    .dataframe tbody tr th:only-of-type {\n",
              "        vertical-align: middle;\n",
              "    }\n",
              "\n",
              "    .dataframe tbody tr th {\n",
              "        vertical-align: top;\n",
              "    }\n",
              "\n",
              "    .dataframe thead th {\n",
              "        text-align: right;\n",
              "    }\n",
              "</style>\n",
              "<table border=\"1\" class=\"dataframe\">\n",
              "  <thead>\n",
              "    <tr style=\"text-align: right;\">\n",
              "      <th></th>\n",
              "      <th>class_age</th>\n",
              "      <th>freq</th>\n",
              "    </tr>\n",
              "  </thead>\n",
              "  <tbody>\n",
              "    <tr>\n",
              "      <th>0</th>\n",
              "      <td>19-24</td>\n",
              "      <td>2.657194</td>\n",
              "    </tr>\n",
              "    <tr>\n",
              "      <th>1</th>\n",
              "      <td>19-24</td>\n",
              "      <td>2.621291</td>\n",
              "    </tr>\n",
              "    <tr>\n",
              "      <th>2</th>\n",
              "      <td>19-24</td>\n",
              "      <td>2.564489</td>\n",
              "    </tr>\n",
              "    <tr>\n",
              "      <th>3</th>\n",
              "      <td>19-24</td>\n",
              "      <td>2.792619</td>\n",
              "    </tr>\n",
              "    <tr>\n",
              "      <th>4</th>\n",
              "      <td>19-24</td>\n",
              "      <td>2.753467</td>\n",
              "    </tr>\n",
              "    <tr>\n",
              "      <th>...</th>\n",
              "      <td>...</td>\n",
              "      <td>...</td>\n",
              "    </tr>\n",
              "    <tr>\n",
              "      <th>355</th>\n",
              "      <td>90-94</td>\n",
              "      <td>3.071429</td>\n",
              "    </tr>\n",
              "    <tr>\n",
              "      <th>356</th>\n",
              "      <td>90-94</td>\n",
              "      <td>3.800000</td>\n",
              "    </tr>\n",
              "    <tr>\n",
              "      <th>357</th>\n",
              "      <td>90-94</td>\n",
              "      <td>3.823529</td>\n",
              "    </tr>\n",
              "    <tr>\n",
              "      <th>358</th>\n",
              "      <td>90-94</td>\n",
              "      <td>3.823529</td>\n",
              "    </tr>\n",
              "    <tr>\n",
              "      <th>359</th>\n",
              "      <td>90-94</td>\n",
              "      <td>3.285714</td>\n",
              "    </tr>\n",
              "  </tbody>\n",
              "</table>\n",
              "<p>360 rows × 2 columns</p>\n",
              "</div>\n",
              "      <button class=\"colab-df-convert\" onclick=\"convertToInteractive('df-4d94e987-50a9-4641-913c-75e51bbe863c')\"\n",
              "              title=\"Convert this dataframe to an interactive table.\"\n",
              "              style=\"display:none;\">\n",
              "        \n",
              "  <svg xmlns=\"http://www.w3.org/2000/svg\" height=\"24px\"viewBox=\"0 0 24 24\"\n",
              "       width=\"24px\">\n",
              "    <path d=\"M0 0h24v24H0V0z\" fill=\"none\"/>\n",
              "    <path d=\"M18.56 5.44l.94 2.06.94-2.06 2.06-.94-2.06-.94-.94-2.06-.94 2.06-2.06.94zm-11 1L8.5 8.5l.94-2.06 2.06-.94-2.06-.94L8.5 2.5l-.94 2.06-2.06.94zm10 10l.94 2.06.94-2.06 2.06-.94-2.06-.94-.94-2.06-.94 2.06-2.06.94z\"/><path d=\"M17.41 7.96l-1.37-1.37c-.4-.4-.92-.59-1.43-.59-.52 0-1.04.2-1.43.59L10.3 9.45l-7.72 7.72c-.78.78-.78 2.05 0 2.83L4 21.41c.39.39.9.59 1.41.59.51 0 1.02-.2 1.41-.59l7.78-7.78 2.81-2.81c.8-.78.8-2.07 0-2.86zM5.41 20L4 18.59l7.72-7.72 1.47 1.35L5.41 20z\"/>\n",
              "  </svg>\n",
              "      </button>\n",
              "      \n",
              "  <style>\n",
              "    .colab-df-container {\n",
              "      display:flex;\n",
              "      flex-wrap:wrap;\n",
              "      gap: 12px;\n",
              "    }\n",
              "\n",
              "    .colab-df-convert {\n",
              "      background-color: #E8F0FE;\n",
              "      border: none;\n",
              "      border-radius: 50%;\n",
              "      cursor: pointer;\n",
              "      display: none;\n",
              "      fill: #1967D2;\n",
              "      height: 32px;\n",
              "      padding: 0 0 0 0;\n",
              "      width: 32px;\n",
              "    }\n",
              "\n",
              "    .colab-df-convert:hover {\n",
              "      background-color: #E2EBFA;\n",
              "      box-shadow: 0px 1px 2px rgba(60, 64, 67, 0.3), 0px 1px 3px 1px rgba(60, 64, 67, 0.15);\n",
              "      fill: #174EA6;\n",
              "    }\n",
              "\n",
              "    [theme=dark] .colab-df-convert {\n",
              "      background-color: #3B4455;\n",
              "      fill: #D2E3FC;\n",
              "    }\n",
              "\n",
              "    [theme=dark] .colab-df-convert:hover {\n",
              "      background-color: #434B5C;\n",
              "      box-shadow: 0px 1px 3px 1px rgba(0, 0, 0, 0.15);\n",
              "      filter: drop-shadow(0px 1px 2px rgba(0, 0, 0, 0.3));\n",
              "      fill: #FFFFFF;\n",
              "    }\n",
              "  </style>\n",
              "\n",
              "      <script>\n",
              "        const buttonEl =\n",
              "          document.querySelector('#df-4d94e987-50a9-4641-913c-75e51bbe863c button.colab-df-convert');\n",
              "        buttonEl.style.display =\n",
              "          google.colab.kernel.accessAllowed ? 'block' : 'none';\n",
              "\n",
              "        async function convertToInteractive(key) {\n",
              "          const element = document.querySelector('#df-4d94e987-50a9-4641-913c-75e51bbe863c');\n",
              "          const dataTable =\n",
              "            await google.colab.kernel.invokeFunction('convertToInteractive',\n",
              "                                                     [key], {});\n",
              "          if (!dataTable) return;\n",
              "\n",
              "          const docLinkHtml = 'Like what you see? Visit the ' +\n",
              "            '<a target=\"_blank\" href=https://colab.research.google.com/notebooks/data_table.ipynb>data table notebook</a>'\n",
              "            + ' to learn more about interactive tables.';\n",
              "          element.innerHTML = '';\n",
              "          dataTable['output_type'] = 'display_data';\n",
              "          await google.colab.output.renderOutput(dataTable, element);\n",
              "          const docLink = document.createElement('div');\n",
              "          docLink.innerHTML = docLinkHtml;\n",
              "          element.appendChild(docLink);\n",
              "        }\n",
              "      </script>\n",
              "    </div>\n",
              "  </div>\n",
              "  "
            ]
          },
          "metadata": {},
          "execution_count": 21
        }
      ]
    },
    {
      "cell_type": "code",
      "source": [
        "plt.figure(figsize=[21,15])\n",
        "sns.boxplot(data=freq, x=freq.class_age, y=freq.freq)\n",
        "plt.title(\"Fréquence d'achat par tranche d'âge\", fontsize=20)\n",
        "plt.xlabel(\"tranche d'age\", fontsize=18)\n",
        "plt.ylabel(\"Frequence d'achat\", fontsize=18)\n",
        "plt.savefig(\"frequence_achat_age.png\")"
      ],
      "metadata": {
        "colab": {
          "base_uri": "https://localhost:8080/",
          "height": 907
        },
        "id": "81rk9kKQTruz",
        "outputId": "bc73a123-51ee-4c9c-934d-42e9ee4914fa"
      },
      "execution_count": 22,
      "outputs": [
        {
          "output_type": "display_data",
          "data": {
            "text/plain": [
              "<Figure size 1512x1080 with 1 Axes>"
            ],
            "image/png": "[encoded data removed]"
          },
          "metadata": {
            "needs_background": "light"
          }
        }
      ]
    },
    {
      "cell_type": "code",
      "source": [
        "import statsmodels.api as sm\n",
        "from statsmodels.formula.api import ols\n",
        "mod = ols('freq ~ class_age', data = freq).fit()\n",
        "# aov = sm.stats.anova_lm(mod, type=2)\n",
        "print(mod.summary())"
      ],
      "metadata": {
        "colab": {
          "base_uri": "https://localhost:8080/"
        },
        "id": "4X9Wz4Km9HkB",
        "outputId": "207692cf-69e6-43d6-88fc-4fb6aa3af18e"
      },
      "execution_count": 23,
      "outputs": [
        {
          "output_type": "stream",
          "name": "stderr",
          "text": [
            "/usr/local/lib/python3.7/dist-packages/statsmodels/tools/_testing.py:19: FutureWarning: pandas.util.testing is deprecated. Use the functions in the public API at pandas.testing instead.\n",
            "  import pandas.util.testing as tm\n"
          ]
        },
        {
          "output_type": "stream",
          "name": "stdout",
          "text": [
            "                            OLS Regression Results                            \n",
            "==============================================================================\n",
            "Dep. Variable:                   freq   R-squared:                       0.917\n",
            "Model:                            OLS   Adj. R-squared:                  0.913\n",
            "Method:                 Least Squares   F-statistic:                     271.1\n",
            "Date:                Sun, 27 Mar 2022   Prob (F-statistic):          1.70e-176\n",
            "Time:                        15:57:55   Log-Likelihood:                -182.15\n",
            "No. Observations:                 360   AIC:                             394.3\n",
            "Df Residuals:                     345   BIC:                             452.6\n",
            "Df Model:                          14                                         \n",
            "Covariance Type:            nonrobust                                         \n",
            "======================================================================================\n",
            "                         coef    std err          t      P>|t|      [0.025      0.975]\n",
            "--------------------------------------------------------------------------------------\n",
            "Intercept              2.6982      0.084     32.243      0.000       2.534       2.863\n",
            "class_age[T.25-29]     0.0340      0.118      0.287      0.774      -0.199       0.267\n",
            "class_age[T.30-34]     2.5060      0.118     21.175      0.000       2.273       2.739\n",
            "class_age[T.35-39]     3.8575      0.118     32.595      0.000       3.625       4.090\n",
            "class_age[T.40-44]     3.7219      0.118     31.450      0.000       3.489       3.955\n",
            "class_age[T.45-49]     3.7106      0.118     31.354      0.000       3.478       3.943\n",
            "class_age[T.50-54]     1.8901      0.118     15.971      0.000       1.657       2.123\n",
            "class_age[T.55-59]     0.7090      0.118      5.991      0.000       0.476       0.942\n",
            "class_age[T.60-64]     0.7215      0.118      6.097      0.000       0.489       0.954\n",
            "class_age[T.65-69]     0.6648      0.118      5.618      0.000       0.432       0.898\n",
            "class_age[T.70-74]     0.6035      0.118      5.099      0.000       0.371       0.836\n",
            "class_age[T.75-79]     0.4973      0.118      4.202      0.000       0.265       0.730\n",
            "class_age[T.80-84]     0.7635      0.118      6.451      0.000       0.531       0.996\n",
            "class_age[T.85-89]     0.5246      0.118      4.433      0.000       0.292       0.757\n",
            "class_age[T.90-94]     0.7535      0.118      6.367      0.000       0.521       0.986\n",
            "==============================================================================\n",
            "Omnibus:                       27.809   Durbin-Watson:                   2.271\n",
            "Prob(Omnibus):                  0.000   Jarque-Bera (JB):              107.184\n",
            "Skew:                           0.099   Prob(JB):                     5.31e-24\n",
            "Kurtosis:                       5.666   Cond. No.                         15.9\n",
            "==============================================================================\n",
            "\n",
            "Warnings:\n",
            "[1] Standard Errors assume that the covariance matrix of the errors is correctly specified.\n"
          ]
        }
      ]
    },
    {
      "cell_type": "markdown",
      "source": [
        "## __Test de corrélation ; Age & Panier moyen__\n",
        "> Test ANOVA<br>\n",
        "si HO à 5%, le test est lié au hasard"
      ],
      "metadata": {
        "id": "q5JRs_TB88CE"
      }
    },
    {
      "cell_type": "code",
      "source": [
        "def basket(data):\n",
        "  fdf = {}\n",
        "  fdf[\"basket\"] = (data[\"price\"].sum()/data[\"session_id\"].count())\n",
        "  return pd.Series(fdf, index=[\"basket\"])"
      ],
      "metadata": {
        "id": "fSZOwLx8QJoe"
      },
      "execution_count": 24,
      "outputs": []
    },
    {
      "cell_type": "code",
      "source": [
        "df_panier = df.groupby(\"class_age\").resample(\"M\").apply(basket)"
      ],
      "metadata": {
        "id": "H3_uOhKiRqdN"
      },
      "execution_count": 25,
      "outputs": []
    },
    {
      "cell_type": "code",
      "source": [
        "df_panier = df_panier.reset_index()"
      ],
      "metadata": {
        "id": "UoCwceLpSXeo"
      },
      "execution_count": 26,
      "outputs": []
    },
    {
      "cell_type": "code",
      "source": [
        "plt.figure(figsize=[21,15])\n",
        "sns.boxplot(x=df_panier.class_age, y=df_panier.basket, data=df_panier)\n",
        "plt.title(\"Panier Moyen par tranche d'âge\", fontsize=20)\n",
        "plt.xlabel(\"tranche d'age\", fontsize=18)\n",
        "plt.ylabel(\"Panier Moyen\", fontsize=18)\n",
        "plt.savefig(\"panier_age.png\")"
      ],
      "metadata": {
        "colab": {
          "base_uri": "https://localhost:8080/",
          "height": 907
        },
        "id": "4itb54ZUSt9E",
        "outputId": "c366144e-b123-46d5-90f4-b4114860c6cb"
      },
      "execution_count": 27,
      "outputs": [
        {
          "output_type": "display_data",
          "data": {
            "text/plain": [
              "<Figure size 1512x1080 with 1 Axes>"
            ],
            "image/png": "[encoded data removed]"
          },
          "metadata": {
            "needs_background": "light"
          }
        }
      ]
    },
    {
      "cell_type": "code",
      "source": [
        "mod = ols('basket ~ class_age', data = df_panier).fit()\n",
        "print(mod.summary())"
      ],
      "metadata": {
        "colab": {
          "base_uri": "https://localhost:8080/"
        },
        "id": "u0_lcd8hTupQ",
        "outputId": "b9567e9a-ff3b-4db6-dc26-22827b52900f"
      },
      "execution_count": 28,
      "outputs": [
        {
          "output_type": "stream",
          "name": "stdout",
          "text": [
            "                            OLS Regression Results                            \n",
            "==============================================================================\n",
            "Dep. Variable:                 basket   R-squared:                       0.969\n",
            "Model:                            OLS   Adj. R-squared:                  0.968\n",
            "Method:                 Least Squares   F-statistic:                     769.0\n",
            "Date:                Sun, 27 Mar 2022   Prob (F-statistic):          2.62e-250\n",
            "Time:                        15:57:57   Log-Likelihood:                -660.64\n",
            "No. Observations:                 360   AIC:                             1351.\n",
            "Df Residuals:                     345   BIC:                             1410.\n",
            "Df Model:                          14                                         \n",
            "Covariance Type:            nonrobust                                         \n",
            "======================================================================================\n",
            "                         coef    std err          t      P>|t|      [0.025      0.975]\n",
            "--------------------------------------------------------------------------------------\n",
            "Intercept             40.0057      0.316    126.545      0.000      39.384      40.628\n",
            "class_age[T.25-29]     0.7299      0.447      1.633      0.103      -0.149       1.609\n",
            "class_age[T.30-34]   -22.2383      0.447    -49.740      0.000     -23.118     -21.359\n",
            "class_age[T.35-39]   -26.8100      0.447    -59.966      0.000     -27.689     -25.931\n",
            "class_age[T.40-44]   -26.6785      0.447    -59.672      0.000     -27.558     -25.799\n",
            "class_age[T.45-49]   -26.8376      0.447    -60.028      0.000     -27.717     -25.958\n",
            "class_age[T.50-54]   -25.1935      0.447    -56.350      0.000     -26.073     -24.314\n",
            "class_age[T.55-59]   -23.2955      0.447    -52.105      0.000     -24.175     -22.416\n",
            "class_age[T.60-64]   -23.2327      0.447    -51.964      0.000     -24.112     -22.353\n",
            "class_age[T.65-69]   -23.2460      0.447    -51.994      0.000     -24.125     -22.367\n",
            "class_age[T.70-74]   -23.5582      0.447    -52.693      0.000     -24.438     -22.679\n",
            "class_age[T.75-79]   -23.3719      0.447    -52.276      0.000     -24.251     -22.492\n",
            "class_age[T.80-84]   -23.2195      0.447    -51.935      0.000     -24.099     -22.340\n",
            "class_age[T.85-89]   -23.1586      0.447    -51.799      0.000     -24.038     -22.279\n",
            "class_age[T.90-94]   -23.5752      0.447    -52.730      0.000     -24.455     -22.696\n",
            "==============================================================================\n",
            "Omnibus:                      181.035   Durbin-Watson:                   1.947\n",
            "Prob(Omnibus):                  0.000   Jarque-Bera (JB):             3420.515\n",
            "Skew:                          -1.636   Prob(JB):                         0.00\n",
            "Kurtosis:                      17.742   Cond. No.                         15.9\n",
            "==============================================================================\n",
            "\n",
            "Warnings:\n",
            "[1] Standard Errors assume that the covariance matrix of the errors is correctly specified.\n"
          ]
        }
      ]
    },
    {
      "cell_type": "markdown",
      "source": [
        "## __Test de corrélation ; Age & catégorie__\n",
        "> Test Khi2<br>\n",
        "si HO à 5%, le test est lié au hasard"
      ],
      "metadata": {
        "id": "HOCxhOYDYGZi"
      }
    },
    {
      "cell_type": "code",
      "source": [
        "age_categ = df[[\"class_age\",\"categ\"]].pivot_table(index=\"class_age\", columns=\"categ\", aggfunc=len, margins=True, margins_name=\"Total\")\n",
        "age_categ"
      ],
      "metadata": {
        "colab": {
          "base_uri": "https://localhost:8080/",
          "height": 582
        },
        "id": "w-XEy80BUggD",
        "outputId": "c7b0df68-a9bd-4a9f-bd05-9cbb757371d0"
      },
      "execution_count": 29,
      "outputs": [
        {
          "output_type": "execute_result",
          "data": {
            "text/plain": [
              "categ         0.0     1.0    2.0   Total\n",
              "class_age                               \n",
              "19-24        8601   14222  14997   37820\n",
              "25-29        5813    9897  10763   26473\n",
              "30-34       41418   15680   4340   61438\n",
              "35-39       78607   24225    356  103188\n",
              "40-44       81153   25590    448  107191\n",
              "45-49       75795   23392    310   99497\n",
              "50-54       36235   22677    351   59263\n",
              "55-59       18053   23118    384   41555\n",
              "60-64       12063   15384    271   27718\n",
              "65-69       12747   16373    279   29399\n",
              "70-74        7660    9877    121   17658\n",
              "75-79        3885    4733     98    8716\n",
              "80-84        3448    4650     80    8178\n",
              "85-89        1510    1808     42    3360\n",
              "90-94         505     722      8    1235\n",
              "Total      387493  212348  32848  632689"
            ],
            "text/html": [
              "\n",
              "  <div id=\"df-91a1bc02-8c86-4f98-a29c-0a9f43bb13f4\">\n",
              "    <div class=\"colab-df-container\">\n",
              "      <div>\n",
              "<style scoped>\n",
              "    .dataframe tbody tr th:only-of-type {\n",
              "        vertical-align: middle;\n",
              "    }\n",
              "\n",
              "    .dataframe tbody tr th {\n",
              "        vertical-align: top;\n",
              "    }\n",
              "\n",
              "    .dataframe thead th {\n",
              "        text-align: right;\n",
              "    }\n",
              "</style>\n",
              "<table border=\"1\" class=\"dataframe\">\n",
              "  <thead>\n",
              "    <tr style=\"text-align: right;\">\n",
              "      <th>categ</th>\n",
              "      <th>0.0</th>\n",
              "      <th>1.0</th>\n",
              "      <th>2.0</th>\n",
              "      <th>Total</th>\n",
              "    </tr>\n",
              "    <tr>\n",
              "      <th>class_age</th>\n",
              "      <th></th>\n",
              "      <th></th>\n",
              "      <th></th>\n",
              "      <th></th>\n",
              "    </tr>\n",
              "  </thead>\n",
              "  <tbody>\n",
              "    <tr>\n",
              "      <th>19-24</th>\n",
              "      <td>8601</td>\n",
              "      <td>14222</td>\n",
              "      <td>14997</td>\n",
              "      <td>37820</td>\n",
              "    </tr>\n",
              "    <tr>\n",
              "      <th>25-29</th>\n",
              "      <td>5813</td>\n",
              "      <td>9897</td>\n",
              "      <td>10763</td>\n",
              "      <td>26473</td>\n",
              "    </tr>\n",
              "    <tr>\n",
              "      <th>30-34</th>\n",
              "      <td>41418</td>\n",
              "      <td>15680</td>\n",
              "      <td>4340</td>\n",
              "      <td>61438</td>\n",
              "    </tr>\n",
              "    <tr>\n",
              "      <th>35-39</th>\n",
              "      <td>78607</td>\n",
              "      <td>24225</td>\n",
              "      <td>356</td>\n",
              "      <td>103188</td>\n",
              "    </tr>\n",
              "    <tr>\n",
              "      <th>40-44</th>\n",
              "      <td>81153</td>\n",
              "      <td>25590</td>\n",
              "      <td>448</td>\n",
              "      <td>107191</td>\n",
              "    </tr>\n",
              "    <tr>\n",
              "      <th>45-49</th>\n",
              "      <td>75795</td>\n",
              "      <td>23392</td>\n",
              "      <td>310</td>\n",
              "      <td>99497</td>\n",
              "    </tr>\n",
              "    <tr>\n",
              "      <th>50-54</th>\n",
              "      <td>36235</td>\n",
              "      <td>22677</td>\n",
              "      <td>351</td>\n",
              "      <td>59263</td>\n",
              "    </tr>\n",
              "    <tr>\n",
              "      <th>55-59</th>\n",
              "      <td>18053</td>\n",
              "      <td>23118</td>\n",
              "      <td>384</td>\n",
              "      <td>41555</td>\n",
              "    </tr>\n",
              "    <tr>\n",
              "      <th>60-64</th>\n",
              "      <td>12063</td>\n",
              "      <td>15384</td>\n",
              "      <td>271</td>\n",
              "      <td>27718</td>\n",
              "    </tr>\n",
              "    <tr>\n",
              "      <th>65-69</th>\n",
              "      <td>12747</td>\n",
              "      <td>16373</td>\n",
              "      <td>279</td>\n",
              "      <td>29399</td>\n",
              "    </tr>\n",
              "    <tr>\n",
              "      <th>70-74</th>\n",
              "      <td>7660</td>\n",
              "      <td>9877</td>\n",
              "      <td>121</td>\n",
              "      <td>17658</td>\n",
              "    </tr>\n",
              "    <tr>\n",
              "      <th>75-79</th>\n",
              "      <td>3885</td>\n",
              "      <td>4733</td>\n",
              "      <td>98</td>\n",
              "      <td>8716</td>\n",
              "    </tr>\n",
              "    <tr>\n",
              "      <th>80-84</th>\n",
              "      <td>3448</td>\n",
              "      <td>4650</td>\n",
              "      <td>80</td>\n",
              "      <td>8178</td>\n",
              "    </tr>\n",
              "    <tr>\n",
              "      <th>85-89</th>\n",
              "      <td>1510</td>\n",
              "      <td>1808</td>\n",
              "      <td>42</td>\n",
              "      <td>3360</td>\n",
              "    </tr>\n",
              "    <tr>\n",
              "      <th>90-94</th>\n",
              "      <td>505</td>\n",
              "      <td>722</td>\n",
              "      <td>8</td>\n",
              "      <td>1235</td>\n",
              "    </tr>\n",
              "    <tr>\n",
              "      <th>Total</th>\n",
              "      <td>387493</td>\n",
              "      <td>212348</td>\n",
              "      <td>32848</td>\n",
              "      <td>632689</td>\n",
              "    </tr>\n",
              "  </tbody>\n",
              "</table>\n",
              "</div>\n",
              "      <button class=\"colab-df-convert\" onclick=\"convertToInteractive('df-91a1bc02-8c86-4f98-a29c-0a9f43bb13f4')\"\n",
              "              title=\"Convert this dataframe to an interactive table.\"\n",
              "              style=\"display:none;\">\n",
              "        \n",
              "  <svg xmlns=\"http://www.w3.org/2000/svg\" height=\"24px\"viewBox=\"0 0 24 24\"\n",
              "       width=\"24px\">\n",
              "    <path d=\"M0 0h24v24H0V0z\" fill=\"none\"/>\n",
              "    <path d=\"M18.56 5.44l.94 2.06.94-2.06 2.06-.94-2.06-.94-.94-2.06-.94 2.06-2.06.94zm-11 1L8.5 8.5l.94-2.06 2.06-.94-2.06-.94L8.5 2.5l-.94 2.06-2.06.94zm10 10l.94 2.06.94-2.06 2.06-.94-2.06-.94-.94-2.06-.94 2.06-2.06.94z\"/><path d=\"M17.41 7.96l-1.37-1.37c-.4-.4-.92-.59-1.43-.59-.52 0-1.04.2-1.43.59L10.3 9.45l-7.72 7.72c-.78.78-.78 2.05 0 2.83L4 21.41c.39.39.9.59 1.41.59.51 0 1.02-.2 1.41-.59l7.78-7.78 2.81-2.81c.8-.78.8-2.07 0-2.86zM5.41 20L4 18.59l7.72-7.72 1.47 1.35L5.41 20z\"/>\n",
              "  </svg>\n",
              "      </button>\n",
              "      \n",
              "  <style>\n",
              "    .colab-df-container {\n",
              "      display:flex;\n",
              "      flex-wrap:wrap;\n",
              "      gap: 12px;\n",
              "    }\n",
              "\n",
              "    .colab-df-convert {\n",
              "      background-color: #E8F0FE;\n",
              "      border: none;\n",
              "      border-radius: 50%;\n",
              "      cursor: pointer;\n",
              "      display: none;\n",
              "      fill: #1967D2;\n",
              "      height: 32px;\n",
              "      padding: 0 0 0 0;\n",
              "      width: 32px;\n",
              "    }\n",
              "\n",
              "    .colab-df-convert:hover {\n",
              "      background-color: #E2EBFA;\n",
              "      box-shadow: 0px 1px 2px rgba(60, 64, 67, 0.3), 0px 1px 3px 1px rgba(60, 64, 67, 0.15);\n",
              "      fill: #174EA6;\n",
              "    }\n",
              "\n",
              "    [theme=dark] .colab-df-convert {\n",
              "      background-color: #3B4455;\n",
              "      fill: #D2E3FC;\n",
              "    }\n",
              "\n",
              "    [theme=dark] .colab-df-convert:hover {\n",
              "      background-color: #434B5C;\n",
              "      box-shadow: 0px 1px 3px 1px rgba(0, 0, 0, 0.15);\n",
              "      filter: drop-shadow(0px 1px 2px rgba(0, 0, 0, 0.3));\n",
              "      fill: #FFFFFF;\n",
              "    }\n",
              "  </style>\n",
              "\n",
              "      <script>\n",
              "        const buttonEl =\n",
              "          document.querySelector('#df-91a1bc02-8c86-4f98-a29c-0a9f43bb13f4 button.colab-df-convert');\n",
              "        buttonEl.style.display =\n",
              "          google.colab.kernel.accessAllowed ? 'block' : 'none';\n",
              "\n",
              "        async function convertToInteractive(key) {\n",
              "          const element = document.querySelector('#df-91a1bc02-8c86-4f98-a29c-0a9f43bb13f4');\n",
              "          const dataTable =\n",
              "            await google.colab.kernel.invokeFunction('convertToInteractive',\n",
              "                                                     [key], {});\n",
              "          if (!dataTable) return;\n",
              "\n",
              "          const docLinkHtml = 'Like what you see? Visit the ' +\n",
              "            '<a target=\"_blank\" href=https://colab.research.google.com/notebooks/data_table.ipynb>data table notebook</a>'\n",
              "            + ' to learn more about interactive tables.';\n",
              "          element.innerHTML = '';\n",
              "          dataTable['output_type'] = 'display_data';\n",
              "          await google.colab.output.renderOutput(dataTable, element);\n",
              "          const docLink = document.createElement('div');\n",
              "          docLink.innerHTML = docLinkHtml;\n",
              "          element.appendChild(docLink);\n",
              "        }\n",
              "      </script>\n",
              "    </div>\n",
              "  </div>\n",
              "  "
            ]
          },
          "metadata": {},
          "execution_count": 29
        }
      ]
    },
    {
      "cell_type": "code",
      "source": [
        "khi2, p_value, dof, exp = stats.chi2_contingency(age_categ)"
      ],
      "metadata": {
        "id": "nGtMRr7HYyOv"
      },
      "execution_count": 30,
      "outputs": []
    },
    {
      "cell_type": "code",
      "source": [
        "print(\"khi2 =\",khi2,\"\\np_value =\", p_value)"
      ],
      "metadata": {
        "colab": {
          "base_uri": "https://localhost:8080/"
        },
        "id": "j8_hS57yZaoN",
        "outputId": "e7cddb87-81b5-4bcd-e22f-c9e011226a4a"
      },
      "execution_count": 31,
      "outputs": [
        {
          "output_type": "stream",
          "name": "stdout",
          "text": [
            "khi2 = 237626.33809383336 \n",
            "p_value = 0.0\n"
          ]
        }
      ]
    },
    {
      "cell_type": "code",
      "source": [
        "expectation = pd.DataFrame(exp, index=[\"19-24\",\"25-29\",\"30-34\",\"35-39\",\"40-44\",\"45-49\",\"50-54\",\"55-59\",\"60-64\",\"65-69\",\"70-74\",\"75-79\",\"80-84\",\"85-89\",\"90-94\",\"Total\"], columns=[\"0.0\",\"1.0\",\"2.0\",\"Total\"])\n",
        "np_age_categ = age_categ.to_numpy()\n",
        "np_age_categ"
      ],
      "metadata": {
        "colab": {
          "base_uri": "https://localhost:8080/"
        },
        "id": "T1LBCI_eZfEv",
        "outputId": "a1e0b084-4ba6-41ce-b92a-1463db9d5906"
      },
      "execution_count": 32,
      "outputs": [
        {
          "output_type": "execute_result",
          "data": {
            "text/plain": [
              "array([[  8601,  14222,  14997,  37820],\n",
              "       [  5813,   9897,  10763,  26473],\n",
              "       [ 41418,  15680,   4340,  61438],\n",
              "       [ 78607,  24225,    356, 103188],\n",
              "       [ 81153,  25590,    448, 107191],\n",
              "       [ 75795,  23392,    310,  99497],\n",
              "       [ 36235,  22677,    351,  59263],\n",
              "       [ 18053,  23118,    384,  41555],\n",
              "       [ 12063,  15384,    271,  27718],\n",
              "       [ 12747,  16373,    279,  29399],\n",
              "       [  7660,   9877,    121,  17658],\n",
              "       [  3885,   4733,     98,   8716],\n",
              "       [  3448,   4650,     80,   8178],\n",
              "       [  1510,   1808,     42,   3360],\n",
              "       [   505,    722,      8,   1235],\n",
              "       [387493, 212348,  32848, 632689]])"
            ]
          },
          "metadata": {},
          "execution_count": 32
        }
      ]
    },
    {
      "cell_type": "code",
      "source": [
        "x2 = ((np_age_categ-exp)**2)/exp\n",
        "x2 = pd.DataFrame(x2, index=[\"19-24\",\"25-29\",\"30-34\",\"35-39\",\"40-44\",\"45-49\",\"50-54\",\"55-59\",\"60-64\",\"65-69\",\"70-74\",\"75-79\",\"80-84\",\"85-89\",\"90-94\",\"Total_y\"], columns=(\"0\",\"1\",\"2\",\"Total_x\"))\n",
        "mesure = x2.sum().sum()\n",
        "reslt = exp/x2.to_numpy()\n",
        "reslt = x2/mesure\n",
        "reslt = reslt.drop(\"Total_y\")\n",
        "reslt = reslt.drop(\"Total_x\", axis=1)\n",
        "plt.figure(figsize=[21,15])\n",
        "sns.heatmap(reslt, cmap=(\"YlOrRd\"), annot=reslt, vmax=0.35)\n",
        "plt.title(\"Corrélation age & catégorie\", fontsize = 20)\n",
        "plt.savefig(\"age_categ.png\")"
      ],
      "metadata": {
        "colab": {
          "base_uri": "https://localhost:8080/",
          "height": 920
        },
        "id": "Lo_7czcpZ1tZ",
        "outputId": "24bc45e6-5f65-41be-daab-a39fe53d24fa"
      },
      "execution_count": 33,
      "outputs": [
        {
          "output_type": "stream",
          "name": "stderr",
          "text": [
            "/usr/local/lib/python3.7/dist-packages/ipykernel_launcher.py:4: RuntimeWarning: divide by zero encountered in true_divide\n",
            "  after removing the cwd from sys.path.\n"
          ]
        },
        {
          "output_type": "display_data",
          "data": {
            "text/plain": [
              "<Figure size 1512x1080 with 2 Axes>"
            ],
            "image/png": "[encoded data removed]"
          },
          "metadata": {
            "needs_background": "light"
          }
        }
      ]
    },
    {
      "cell_type": "code",
      "source": [
        ""
      ],
      "metadata": {
        "id": "yCsKwlCWatNd"
      },
      "execution_count": 33,
      "outputs": []
    }
  ]
}